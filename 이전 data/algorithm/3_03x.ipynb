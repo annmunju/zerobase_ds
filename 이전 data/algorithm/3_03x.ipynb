{
 "cells": [
  {
   "cell_type": "markdown",
   "source": [
    "## 문제 1\n",
    "### 100부터 1000사이의 난수에 대해서 약수, 소수, 그리고 소인수를 출력하는 프로그램을 만들어보자"
   ],
   "metadata": {}
  },
  {
   "cell_type": "code",
   "execution_count": 142,
   "source": [
    "# 난수 생성\n",
    "from random import randint\n",
    " \n",
    "n = randint(100, 1000)\n",
    "\n",
    "print(n)"
   ],
   "outputs": [
    {
     "output_type": "stream",
     "name": "stdout",
     "text": [
      "280\n"
     ]
    }
   ],
   "metadata": {}
  },
  {
   "cell_type": "code",
   "execution_count": 143,
   "source": [
    "# 약수 출력\n",
    "for i in range(1, n+1):\n",
    "    if n % i == 0:\n",
    "        m = i\n",
    "        print(m)"
   ],
   "outputs": [
    {
     "output_type": "stream",
     "name": "stdout",
     "text": [
      "1\n",
      "2\n",
      "4\n",
      "5\n",
      "7\n",
      "8\n",
      "10\n",
      "14\n",
      "20\n",
      "28\n",
      "35\n",
      "40\n",
      "56\n",
      "70\n",
      "140\n",
      "280\n"
     ]
    }
   ],
   "metadata": {}
  },
  {
   "cell_type": "code",
   "execution_count": 144,
   "source": [
    "# 소수 출력\n",
    "m = n\n",
    "for num in range(2,(m+1)):\n",
    "    flag = True\n",
    "    for m in range(2, num):\n",
    "        if num % m == 0:\n",
    "            flag=False\n",
    "            break\n",
    "\n",
    "    if (flag) : print(\"{}: 소수!!\".format(num))\n",
    "    #else : print(\"{}: 합성수!!\".format(num))"
   ],
   "outputs": [
    {
     "output_type": "stream",
     "name": "stdout",
     "text": [
      "2: 소수!!\n",
      "3: 소수!!\n",
      "5: 소수!!\n",
      "7: 소수!!\n",
      "11: 소수!!\n",
      "13: 소수!!\n",
      "17: 소수!!\n",
      "19: 소수!!\n",
      "23: 소수!!\n",
      "29: 소수!!\n",
      "31: 소수!!\n",
      "37: 소수!!\n",
      "41: 소수!!\n",
      "43: 소수!!\n",
      "47: 소수!!\n",
      "53: 소수!!\n",
      "59: 소수!!\n",
      "61: 소수!!\n",
      "67: 소수!!\n",
      "71: 소수!!\n",
      "73: 소수!!\n",
      "79: 소수!!\n",
      "83: 소수!!\n",
      "89: 소수!!\n",
      "97: 소수!!\n",
      "101: 소수!!\n",
      "103: 소수!!\n",
      "107: 소수!!\n",
      "109: 소수!!\n",
      "113: 소수!!\n",
      "127: 소수!!\n",
      "131: 소수!!\n",
      "137: 소수!!\n",
      "139: 소수!!\n",
      "149: 소수!!\n",
      "151: 소수!!\n",
      "157: 소수!!\n",
      "163: 소수!!\n",
      "167: 소수!!\n",
      "173: 소수!!\n",
      "179: 소수!!\n",
      "181: 소수!!\n",
      "191: 소수!!\n",
      "193: 소수!!\n",
      "197: 소수!!\n",
      "199: 소수!!\n",
      "211: 소수!!\n",
      "223: 소수!!\n",
      "227: 소수!!\n",
      "229: 소수!!\n",
      "233: 소수!!\n",
      "239: 소수!!\n",
      "241: 소수!!\n",
      "251: 소수!!\n",
      "257: 소수!!\n",
      "263: 소수!!\n",
      "269: 소수!!\n",
      "271: 소수!!\n",
      "277: 소수!!\n"
     ]
    }
   ],
   "metadata": {}
  },
  {
   "cell_type": "code",
   "execution_count": 145,
   "source": [
    "# 소인수 출력\n",
    "\n",
    "ls = []\n",
    "\n",
    "for i in range(1, n+1):\n",
    "    if n % i == 0:\n",
    "        ls.append(i)\n",
    "\n",
    "for num in ls:\n",
    "    if num == 1 : continue\n",
    "    flag = True\n",
    "    for m in range(2, num):\n",
    "        if num % m == 0:\n",
    "            flag=False\n",
    "            break\n",
    "\n",
    "    if (flag) : print(\"{}: 소수!!\".format(num))\n",
    "    #else : print(\"{}: 합성수!!\".format(num))"
   ],
   "outputs": [
    {
     "output_type": "stream",
     "name": "stdout",
     "text": [
      "2: 소수!!\n",
      "5: 소수!!\n",
      "7: 소수!!\n"
     ]
    }
   ],
   "metadata": {}
  },
  {
   "cell_type": "markdown",
   "source": [
    "## 문제2\n",
    "### 100부터 1000사이의 난수를 소인수분해를 하고 각각의 소인수에 대한 지수를 출력하는 프로그램을 만들어보자."
   ],
   "metadata": {}
  },
  {
   "cell_type": "code",
   "execution_count": 200,
   "source": [
    "# 난수 생성\n",
    "from random import randint\n",
    " \n",
    "n = randint(100, 1000)\n",
    "\n",
    "print(n)"
   ],
   "outputs": [
    {
     "output_type": "stream",
     "name": "stdout",
     "text": [
      "530\n"
     ]
    }
   ],
   "metadata": {}
  },
  {
   "cell_type": "code",
   "execution_count": 201,
   "source": [
    "# 소인수 출력\n",
    "\n",
    "ls = []\n",
    "ls2 = []\n",
    "\n",
    "for i in range(1, n+1):\n",
    "    if n % i == 0:\n",
    "        ls.append(i)\n",
    "\n",
    "print(ls)\n",
    "\n",
    "for num in ls:\n",
    "    if num == 1 : continue\n",
    "    flag = True\n",
    "    for m in range(2, num):\n",
    "        if num % m == 0:\n",
    "            flag=False\n",
    "            break\n",
    "\n",
    "    if (flag) : ls2.append(num)\n",
    "    #else : print(\"{}: 합성수!!\".format(num))\n",
    "\n",
    "print(ls2)"
   ],
   "outputs": [
    {
     "output_type": "stream",
     "name": "stdout",
     "text": [
      "[1, 2, 5, 10, 53, 106, 265, 530]\n",
      "[2, 5, 53]\n"
     ]
    }
   ],
   "metadata": {}
  },
  {
   "cell_type": "code",
   "execution_count": 202,
   "source": [
    "ls3 = []\n",
    "cnt=0\n",
    "for i in ls2:\n",
    "    while n%i == 0:\n",
    "        n /= i\n",
    "        cnt+=1\n",
    "    ls3.append(cnt)\n",
    "    cnt=0\n",
    "print(ls3)\n",
    "print(ls2)"
   ],
   "outputs": [
    {
     "output_type": "stream",
     "name": "stdout",
     "text": [
      "[1, 1, 1]\n",
      "[2, 5, 53]\n"
     ]
    }
   ],
   "metadata": {}
  },
  {
   "cell_type": "code",
   "execution_count": 203,
   "source": [
    "n=1\n",
    "for i in range(0,len(ls2)):\n",
    "    new=ls2[i] ** ls3[i]\n",
    "    n*=new\n",
    "print(n)"
   ],
   "outputs": [
    {
     "output_type": "stream",
     "name": "stdout",
     "text": [
      "530\n"
     ]
    }
   ],
   "metadata": {}
  },
  {
   "cell_type": "markdown",
   "source": [
    "## 문제 3\n",
    "### 100부터 1000사이의 2개의 난수에 대해서 공약수와 최대공약수를 출력하고, 서로소인지 출력하는 프로그램을 만들어보자."
   ],
   "metadata": {}
  },
  {
   "cell_type": "code",
   "execution_count": 254,
   "source": [
    "# 난수 생성\n",
    "from random import randint\n",
    "n1 = randint(100, 1000)\n",
    "n2 = randint(100, 1000)\n",
    "print(n1, n2)"
   ],
   "outputs": [
    {
     "output_type": "stream",
     "name": "stdout",
     "text": [
      "857 224\n"
     ]
    }
   ],
   "metadata": {}
  },
  {
   "cell_type": "code",
   "execution_count": 255,
   "source": [
    "ls1=[]\n",
    "ls2=[]\n",
    "\n",
    "for i in range(1, n1+1):\n",
    "    if n1 % i == 0:\n",
    "        ls1.append(i)\n",
    "\n",
    "for i in range(1,n2+1):\n",
    "    if n2 % i == 0:\n",
    "        ls2.append(i)\n",
    "\n",
    "print(ls1, ls2)"
   ],
   "outputs": [
    {
     "output_type": "stream",
     "name": "stdout",
     "text": [
      "[1, 857] [1, 2, 4, 7, 8, 14, 16, 28, 32, 56, 112, 224]\n"
     ]
    }
   ],
   "metadata": {}
  },
  {
   "cell_type": "code",
   "execution_count": 256,
   "source": [
    "ls3=[]\n",
    "for a in ls1:\n",
    "    for b in ls2:\n",
    "        if a==b : ls3.append(a)\n",
    "\n",
    "if ls3 == [1] : print(\"서로소!\")\n",
    "print(ls3)\n",
    "print(max(ls3))\n",
    "        "
   ],
   "outputs": [
    {
     "output_type": "stream",
     "name": "stdout",
     "text": [
      "서로소!\n",
      "[1]\n",
      "1\n"
     ]
    }
   ],
   "metadata": {}
  },
  {
   "cell_type": "markdown",
   "source": [
    "## 문제 4\n",
    "### 100부터 1000사이의 2개의 난수에 대해서 최대공약수와 최소공배수를 출력하는 프로그램을 만들어보자."
   ],
   "metadata": {}
  },
  {
   "cell_type": "code",
   "execution_count": 291,
   "source": [
    "# 난수 생성\n",
    "from random import randint\n",
    "n1 = randint(100, 1000)\n",
    "n2 = randint(100, 1000)\n",
    "print(n1, n2)"
   ],
   "outputs": [
    {
     "output_type": "stream",
     "name": "stdout",
     "text": [
      "345 504\n"
     ]
    }
   ],
   "metadata": {}
  },
  {
   "cell_type": "code",
   "execution_count": 292,
   "source": [
    "# 최대공약수\n",
    "ls1=[] ; ls2 = []; ls3 = []\n",
    "\n",
    "for i in range(1, n1+1):\n",
    "    if n1 % i == 0:\n",
    "        ls1.append(i)\n",
    "\n",
    "for i in range(1,n2+1):\n",
    "    if n2 % i == 0:\n",
    "        ls2.append(i)\n",
    "\n",
    "for a in ls1:\n",
    "    for b in ls2:\n",
    "        if a==b : ls3.append(a)\n",
    "\n",
    "print(\"최대공약수: {}\".format(max(ls3)))\n",
    "\n",
    "print(\"최소공배수: {}\".format((n1*n2)//max(ls3)))"
   ],
   "outputs": [
    {
     "output_type": "stream",
     "name": "stdout",
     "text": [
      "최대공약수: 3\n",
      "최소공배수: 57960\n"
     ]
    }
   ],
   "metadata": {}
  },
  {
   "cell_type": "markdown",
   "source": [
    "## 문제 5\n",
    "### 사용자가 입력한 수를 이용해서, 다음 내용에 따라 진번 변환하는 코드를 작성해보자.\n",
    "\n",
    "```\n",
    "10 진수 입력시 2, 8, 16 진수 변환\n",
    "X진수 입력시 10진수로 변환\n",
    "X진수 입력시 X진수로 변환..?\n",
    "```"
   ],
   "metadata": {}
  },
  {
   "cell_type": "code",
   "execution_count": 318,
   "source": [
    "num = int(input(\"숫자 입력: \"))"
   ],
   "outputs": [],
   "metadata": {}
  },
  {
   "cell_type": "code",
   "execution_count": 319,
   "source": [
    "print(\"2진수: {}\".format(bin(num))) \n",
    "print(\"8진수: {}\".format(oct(num))) \n",
    "print(\"16진수: {}\".format(hex(num)))"
   ],
   "outputs": [
    {
     "output_type": "stream",
     "name": "stdout",
     "text": [
      "2진수: 0b11110\n",
      "8진수: 0o36\n",
      "16진수: 0x1e\n"
     ]
    }
   ],
   "metadata": {}
  },
  {
   "cell_type": "code",
   "execution_count": 321,
   "source": [
    "bi = int(input(\"몇진수?: \"))\n",
    "num = int(input(\"숫자 입력: \"),bi)\n",
    "\n",
    "print(\"10진수: {}\".format(int(num)))\n",
    "print(\"2진수: {}\".format(bin(num))) \n",
    "print(\"8진수: {}\".format(oct(num))) \n",
    "print(\"16진수: {}\".format(hex(num)))"
   ],
   "outputs": [
    {
     "output_type": "stream",
     "name": "stdout",
     "text": [
      "10진수: 23454\n",
      "2진수: 0b101101110011110\n",
      "8진수: 0o55636\n",
      "16진수: 0x5b9e\n"
     ]
    }
   ],
   "metadata": {}
  },
  {
   "cell_type": "markdown",
   "source": [
    "## 문제 6\n",
    "### 다음 수열의 일반항을 구하고 n번째 항의 값과 합을 구하는 프로그램을 만들어보자"
   ],
   "metadata": {}
  },
  {
   "cell_type": "code",
   "execution_count": 324,
   "source": [
    "# {4, 10, 16, 22, 28, ...}\n",
    "\n",
    "a1=4\n",
    "n=int(input(\"n?: \"))\n",
    "d=6\n",
    "\n",
    "An=a1+((n-1)*d)\n",
    "Sn=int(n*(a1+An)/2)\n",
    "\n",
    "print(\"{}번째 항의 값: {}\".format(n, An))\n",
    "print(\"{}번째 값의 합: {}\".format(n, Sn))"
   ],
   "outputs": [
    {
     "output_type": "stream",
     "name": "stdout",
     "text": [
      "2번째 항의 값: 10\n",
      "2번째 값의 합: 14\n"
     ]
    }
   ],
   "metadata": {}
  },
  {
   "cell_type": "markdown",
   "source": [
    "## 문제 7\n",
    "### 다음 수열의 일반항을 구하고 n번째 항의 값과 합을 구하는 프로그램을 만들어보자"
   ],
   "metadata": {}
  },
  {
   "cell_type": "code",
   "execution_count": 328,
   "source": [
    "# {2, 6, 18, 54, 162, ...}\n",
    "\n",
    "a1=2\n",
    "r=3\n",
    "n=int(input(\"n?: \"))\n",
    "\n",
    "an = a1 * r**(n-1)\n",
    "sn = int(a1 * (1-r**n) / (1-r))\n",
    "\n",
    "print(\"{}번째 항의 값: {}\".format(n, an))\n",
    "print(\"{}번째 값의 합: {}\".format(n, sn))"
   ],
   "outputs": [
    {
     "output_type": "stream",
     "name": "stdout",
     "text": [
      "5번째 항의 값: 162\n",
      "5번째 값의 합: 242\n"
     ]
    }
   ],
   "metadata": {}
  },
  {
   "cell_type": "markdown",
   "source": [
    "## 문제 8 \n",
    "### 첫째날 쌀 2톨 > 둘째날 부터 하루 전의 2배 쌀을 받는다 할 때, 30일 날 받게되는 쌀의 개수를 수열과 시그마로 나타내고 이를 출력하는 프로그램 만들기"
   ],
   "metadata": {}
  },
  {
   "cell_type": "code",
   "execution_count": 332,
   "source": [
    "# {2, 4, 8, 12 ... } : 시그마 k^2\n",
    "\n",
    "a1 = 2\n",
    "n = int(input(\"n?\"))\n",
    "ls = []\n",
    "\n",
    "for i in range(1, n+1):\n",
    "    ls.append(a1**i)\n",
    "\n",
    "print(\"수열: {}\".format(ls))\n",
    "print(\"{}일 째 되는 날 받게 되는 쌀의 개수: {}\".format(n,format(a1 ** n,',')))\n"
   ],
   "outputs": [
    {
     "output_type": "stream",
     "name": "stdout",
     "text": [
      "수열: [2, 4, 8, 16, 32, 64, 128, 256, 512, 1024, 2048, 4096, 8192, 16384, 32768, 65536, 131072, 262144, 524288, 1048576, 2097152, 4194304, 8388608, 16777216, 33554432, 67108864, 134217728, 268435456, 536870912, 1073741824]\n",
      "30일 째 되는 날 받게 되는 쌀의 개수: 1,073,741,824\n"
     ]
    }
   ],
   "metadata": {}
  },
  {
   "cell_type": "markdown",
   "source": [
    "## 문제 9\n",
    "### 다음 수열의 일반항을 구하고, n항의 값을 출력하는 프로그램을 만들어보자."
   ],
   "metadata": {}
  },
  {
   "cell_type": "code",
   "execution_count": 343,
   "source": [
    "# {2, 5, 11, 20, 32, ...}\n",
    "## 수열 속에 규칙 {3, 6, 9, ...} : 등차수열! (an = a1 + d*(n-1))\n",
    "\n",
    "n = int(input(\"n?\"))\n",
    "an = 3*n\n",
    "sn = 2+n*(3+3*n)/2 \n",
    "\n",
    "ls = []\n",
    "for i in range(1,n+1):\n",
    "    sn = int(2+(i-1)*(3*i)/2)\n",
    "    ls.append(sn)\n",
    "\n",
    "print(\"리스트: {}\".format(ls))\n",
    "print(\"{}항의 값: {}\".format(n,sn))"
   ],
   "outputs": [
    {
     "output_type": "stream",
     "name": "stdout",
     "text": [
      "리스트: [2, 5, 11, 20, 32, 47, 65, 86, 110, 137, 167]\n",
      "11항의 값: 167\n"
     ]
    }
   ],
   "metadata": {}
  },
  {
   "cell_type": "code",
   "execution_count": null,
   "source": [],
   "outputs": [],
   "metadata": {}
  }
 ],
 "metadata": {
  "orig_nbformat": 4,
  "language_info": {
   "name": "python",
   "version": "3.9.6",
   "mimetype": "text/x-python",
   "codemirror_mode": {
    "name": "ipython",
    "version": 3
   },
   "pygments_lexer": "ipython3",
   "nbconvert_exporter": "python",
   "file_extension": ".py"
  },
  "kernelspec": {
   "name": "python3",
   "display_name": "Python 3.9.6 64-bit ('base': conda)"
  },
  "interpreter": {
   "hash": "75dc513325cd888ced9a37a8f74c25a0d7299881b086ec9442846571a7565ac6"
  }
 },
 "nbformat": 4,
 "nbformat_minor": 2
}