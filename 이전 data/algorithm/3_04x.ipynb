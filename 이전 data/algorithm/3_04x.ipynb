{
 "cells": [
  {
   "cell_type": "markdown",
   "source": [
    "## 문제 10\n",
    "### 피보나치 수열\n",
    "피보나치수열에서 n항의 값과 n항까지의 합을 출력하는 프로그램을 만들어보자."
   ],
   "metadata": {}
  },
  {
   "cell_type": "code",
   "execution_count": 14,
   "source": [
    "# {1, 1, 2, 3, 5, 8, 13, 21, 34, 55, 89, 144, ...}\n",
    "a = 1\n",
    "n = int(input(\"n?: \"))\n",
    "an = a * (n-2) + a * (n-1)\n",
    "\n",
    "ls=[]\n",
    "\n",
    "for i in range(1, n+1):\n",
    "    if i == 1 or i == 2 :\n",
    "        an = 1\n",
    "        ls.append(an)\n",
    "    else :\n",
    "        an = ls[i-3]+ls[i-2]\n",
    "        ls.append(an)\n",
    "\n",
    "print(\"리스트: {}\".format(ls))\n",
    "print(\"{}항의 값: {}\".format(n, an))\n",
    "print(\"{}항 까지의 합: {}\".format(n,sum(ls)))"
   ],
   "outputs": [
    {
     "output_type": "stream",
     "name": "stdout",
     "text": [
      "리스트: [1, 1, 2, 3, 5]\n",
      "5항의 값: 5\n",
      "5항 까지의 합: 12\n"
     ]
    }
   ],
   "metadata": {}
  },
  {
   "cell_type": "markdown",
   "source": [
    "## 문제 11\n",
    "### 군 수열\n",
    "다음 수열을 보고 수열의 합이 최초 100을 초과하는 n번째 항의 값과 n을 출력하는\n",
    "프로그램을 만들어보자."
   ],
   "metadata": {}
  },
  {
   "cell_type": "code",
   "execution_count": null,
   "source": [],
   "outputs": [],
   "metadata": {}
  },
  {
   "cell_type": "markdown",
   "source": [
    "## 문제 12\n",
    "### 순열\n",
    "파이썬을 이용해서 다음 순열들의 값을 구하는 프로그램을 만들어 보자."
   ],
   "metadata": {}
  },
  {
   "cell_type": "code",
   "execution_count": 45,
   "source": [
    "# 9P4, 6P2\n",
    "numN = int(input(\"numN 입력: \"))\n",
    "numR = int(input(\"numR 입력: \"))\n",
    "result=1\n",
    "\n",
    "for i in range(numN, numN-numR, -1):\n",
    "    print(\"n: {}\".format(i))\n",
    "    result *= i\n",
    "\n",
    "print(\"result: {}\".format(result))"
   ],
   "outputs": [
    {
     "output_type": "stream",
     "name": "stdout",
     "text": [
      "n: 9\n",
      "n: 8\n",
      "n: 7\n",
      "n: 6\n",
      "result: 3024\n"
     ]
    }
   ],
   "metadata": {}
  },
  {
   "cell_type": "markdown",
   "source": [
    "카드 7장을 일렬로 나열하되 2, 4, 7번 카드가 서로 이웃하도록 나열하는\n",
    "모든 경우의 수를 구하는 프로그램을 만들어보자."
   ],
   "metadata": {}
  },
  {
   "cell_type": "code",
   "execution_count": 5,
   "source": [
    "numN = int(input(\"총 카드 수 입력: \"))\n",
    "numA = int(input(\"이웃하는 카드 수 입력: \"))\n",
    "result=1\n",
    "num=1\n",
    "\n",
    "for i in range(numA, 0, -1):\n",
    "    num *= i\n",
    "\n",
    "for j in range(numN-numA+1, 0, -1):\n",
    "    result *= j\n",
    "\n",
    "all_result = result*num\n",
    "\n",
    "print(\"result: {}\".format(all_result))"
   ],
   "outputs": [
    {
     "output_type": "stream",
     "name": "stdout",
     "text": [
      "result: 720\n"
     ]
    }
   ],
   "metadata": {}
  },
  {
   "cell_type": "markdown",
   "source": [
    "## 문제 13\n",
    "### 조합\n",
    "파이썬을 이용해서 다음 조합들의 값을 구하는 프로그램을 만들어 보자."
   ],
   "metadata": {}
  },
  {
   "cell_type": "code",
   "execution_count": 9,
   "source": [
    "# 9C4, 6C2\n",
    "numN = int(input(\"numN 입력: \"))\n",
    "numR = int(input(\"numR 입력: \"))\n",
    "resultP=1\n",
    "resultR=1\n",
    "resultC=1\n",
    "\n",
    "for i in range(numN, numN-numR, -1):\n",
    "    resultP *= i\n",
    "\n",
    "for j in range(1, numR+1):\n",
    "    resultR *= j\n",
    "\n",
    "resultC = int(resultP / resultR)\n",
    "print(\"result: {}\".format(resultC))\n"
   ],
   "outputs": [
    {
     "output_type": "stream",
     "name": "stdout",
     "text": [
      "result: 126\n"
     ]
    }
   ],
   "metadata": {}
  },
  {
   "cell_type": "markdown",
   "source": [
    "카드 7장 중 3장을 선택했을 때 3, 4, 5가 동시에 선택될 수 있는 확률은?"
   ],
   "metadata": {}
  },
  {
   "cell_type": "code",
   "execution_count": 13,
   "source": [
    "# 3장 중 3장 선택할 경우의 수 / 7장 중 3장 선택할 경우의 수\n",
    "\n",
    "ls = []\n",
    "\n",
    "for n in range(2):\n",
    "    numN = int(input(\"numN 입력: \"))\n",
    "    numR = int(input(\"numR 입력: \"))\n",
    "    resultP=1\n",
    "    resultR=1\n",
    "    resultC=1\n",
    "\n",
    "    for i in range(numN, numN-numR, -1):\n",
    "        resultP *= i\n",
    "\n",
    "    for j in range(1, numR+1):\n",
    "        resultR *= j\n",
    "\n",
    "    resultC = int(resultP / resultR)\n",
    "    print(\"result: {}\".format(resultC))\n",
    "    ls.append(resultC)\n",
    "\n",
    "print(\"부분 경우의 수/전체 경우의 수: {:.2f}%\".format(ls[0]/ls[1]*100))\n"
   ],
   "outputs": [
    {
     "output_type": "stream",
     "name": "stdout",
     "text": [
      "result: 1\n",
      "result: 35\n",
      "부분 경우의 수/전체 경우의 수: 2.86%\n"
     ]
    }
   ],
   "metadata": {}
  },
  {
   "cell_type": "markdown",
   "source": [
    "## 문제 14\n",
    "### 확률\n",
    "박스에 ‘꽝’이 적힌 종이가 6장 있고, ‘선물’이 적힌 종이가 4장이 있을 때,\n",
    "파이썬을 이용해서 ‘꽝’3장과 ‘선물’ 3장을 뽑는 확률(%)을 출력하자."
   ],
   "metadata": {}
  },
  {
   "cell_type": "code",
   "execution_count": 14,
   "source": [
    "# 10장 중 6장 뽑기 : 꽝 3, 선물 3장 뽑을 확률\n",
    "## 꽝 6장 : 6C6 = 1\n",
    "## 꽝 5장, 선물 1장 : 6C5 * 4C1 = 6 * 4 = 24\n",
    "## 꽝 4장, 선물 2장 : 6C4 * 4C2 = 15 * 6 = 90\n",
    "## 꽝 3장, 선물 3장 : 6C3 * 4C3 = 20 * 4 = 80\n",
    "## 꽝 2장, 선물 4장 : 6C2 * 4C4 = 15"
   ],
   "outputs": [],
   "metadata": {}
  },
  {
   "cell_type": "code",
   "execution_count": 15,
   "source": [
    "def comFunc(numN,numR):\n",
    "    for n in range(2):\n",
    "        resultP=1\n",
    "        resultR=1\n",
    "        resultC=1\n",
    "\n",
    "        for i in range(numN, numN-numR, -1):\n",
    "            resultP *= i\n",
    "\n",
    "        for j in range(1, numR+1):\n",
    "            resultR *= j\n",
    "\n",
    "        resultC = int(resultP / resultR)\n",
    "        \n",
    "    return resultC"
   ],
   "outputs": [],
   "metadata": {}
  },
  {
   "cell_type": "code",
   "execution_count": 16,
   "source": [
    "F=int(input(\"꽝 총 갯수?: \"))\n",
    "T=int(input(\"선물 총 갯수?: \"))\n",
    "\n",
    "result=0\n",
    "for i,j in zip(range(F,1,-1),range(T+1)):\n",
    "    result_=comFunc(F,i)*comFunc(T,j)\n",
    "    result+=result_\n",
    "\n",
    "print(\"전체 경우의 수: {}\".format(result))"
   ],
   "outputs": [
    {
     "output_type": "stream",
     "name": "stdout",
     "text": [
      "전체 경우의 수: 210\n"
     ]
    }
   ],
   "metadata": {}
  },
  {
   "cell_type": "code",
   "execution_count": 18,
   "source": [
    "f=int(input(\"꽝 몇 개?: \"))\n",
    "t=6-f\n",
    "print(\"선물 {}개\".format(t))\n",
    "\n",
    "result_=comFunc(F,f)*comFunc(T,t)\n",
    "\n",
    "print(\"확률:부분 경우의 수/전체 경우의 수:{}/{}*100={:.2f}%\".format(result_,result,(result_/result)*100))\n",
    "\n"
   ],
   "outputs": [
    {
     "output_type": "stream",
     "name": "stdout",
     "text": [
      "선물 3개\n",
      "확률:부분 경우의 수/전체 경우의 수:80/210*100=38.10%\n"
     ]
    }
   ],
   "metadata": {}
  },
  {
   "cell_type": "markdown",
   "source": [
    "### 강의 풀이\n",
    "\n"
   ],
   "metadata": {}
  },
  {
   "cell_type": "code",
   "execution_count": 19,
   "source": [
    "def proFun():\n",
    "    numN = int(input(\"numN? : \"))\n",
    "    numR = int(input(\"numR? : \"))\n",
    "\n",
    "    resultP, resultR, resurtC = 1, 1, 1\n",
    "\n",
    "    for n in range(numN, (numN-numR), -1):\n",
    "        resultP *= n\n",
    "    #print(\"resultP: {}\".format(resultP))\n",
    "\n",
    "    for n in range(numR, 0, -1):\n",
    "        resultR *= n\n",
    "    #print(\"resultR: {}\".format(resultR))\n",
    "\n",
    "    resultC = int(resultP / resultR)\n",
    "    #print(\"resultC: {}\".format(resultC))\n",
    "\n",
    "    return resultC\n",
    "\n",
    "sample = proFun()\n",
    "print(\"sample: {}\".format(sample))\n",
    "\n",
    "event1 = proFun()\n",
    "print(\"event1: {}\".format(event1))\n",
    "\n",
    "event2 = proFun()\n",
    "print(\"event2: {}\".format(event2))\n",
    "\n",
    "probability = (event1 * event2) / sample * 100\n",
    "\n",
    "print('probability: {}%'.format(round(probability, 2)))\n"
   ],
   "outputs": [
    {
     "output_type": "stream",
     "name": "stdout",
     "text": [
      "sample: 210\n",
      "event1: 20\n",
      "event2: 4\n",
      "probability: 38.1%\n"
     ]
    }
   ],
   "metadata": {}
  },
  {
   "cell_type": "code",
   "execution_count": null,
   "source": [],
   "outputs": [],
   "metadata": {}
  }
 ],
 "metadata": {
  "orig_nbformat": 4,
  "language_info": {
   "name": "python",
   "version": "3.9.6",
   "mimetype": "text/x-python",
   "codemirror_mode": {
    "name": "ipython",
    "version": 3
   },
   "pygments_lexer": "ipython3",
   "nbconvert_exporter": "python",
   "file_extension": ".py"
  },
  "kernelspec": {
   "name": "python3",
   "display_name": "Python 3.9.6 64-bit ('base': conda)"
  },
  "interpreter": {
   "hash": "75dc513325cd888ced9a37a8f74c25a0d7299881b086ec9442846571a7565ac6"
  }
 },
 "nbformat": 4,
 "nbformat_minor": 2
}