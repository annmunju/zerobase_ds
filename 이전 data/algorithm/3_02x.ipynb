{
 "cells": [
  {
   "cell_type": "markdown",
   "source": [
    "### 계차수열 "
   ],
   "metadata": {}
  },
  {
   "cell_type": "code",
   "execution_count": null,
   "source": [
    "# an = {3, 7, 13, 21, 31, 43, 57}\n",
    "\n",
    "inputAN1 = int(input('a1 입력: '))\n",
    "inputAN = int(input('an(몇번째?) 입력: '))\n",
    "\n",
    "inputBN1 = int(input('b1 입력: '))\n",
    "inputBN = int(input('bn 공차 입력: '))\n",
    "\n",
    "valueAN = 0\n",
    "valueBN = 0\n",
    "\n",
    "n=1\n",
    "while n <= inputAN:\n",
    "\n",
    "    if n == 1:\n",
    "        valueAN = inputAN1\n",
    "        valueBN = inputBN1\n",
    "        print(\"an의 {}번째 항의 값: {}\".format(n, valueAN))\n",
    "        print(\"bn의 {}번째 항의 값: {}\".format(n, valueBN))\n",
    "        n+=1\n",
    "        continue\n",
    "    \n",
    "    valueAN = valueAN + valueBN\n",
    "    valueBN = valueBN + inputBN\n",
    "    print(\"an의 {}번째 항의 값: {}\".format(n, valueAN))\n",
    "    print(\"bn의 {}번째 항의 값: {}\".format(n, valueBN))\n",
    "    n+=1\n",
    "\n",
    "print(\"an의 {}번째 항의 값: {}\".format(inputAN, valueAN))\n",
    "print(\"bn의 {}번째 항의 값: {}\".format(inputAN, valueBN))"
   ],
   "outputs": [
    {
     "output_type": "stream",
     "name": "stdout",
     "text": [
      "an의 1번째 항의 값: 3\n",
      "bn의 1번째 항의 값: 4\n",
      "an의 2번째 항의 값: 7\n",
      "bn의 2번째 항의 값: 6\n",
      "an의 3번째 항의 값: 13\n",
      "bn의 3번째 항의 값: 8\n",
      "an의 4번째 항의 값: 21\n",
      "bn의 4번째 항의 값: 10\n",
      "an의 5번째 항의 값: 31\n",
      "bn의 5번째 항의 값: 12\n",
      "an의 6번째 항의 값: 43\n",
      "bn의 6번째 항의 값: 14\n",
      "an의 7번째 항의 값: 57\n",
      "bn의 7번째 항의 값: 16\n",
      "an의 7번째 항의 값: 57\n",
      "bn의 2번째 항의 값: 16\n"
     ]
    }
   ],
   "metadata": {}
  },
  {
   "cell_type": "markdown",
   "source": [
    "### 피보나치 수열"
   ],
   "metadata": {}
  },
  {
   "cell_type": "code",
   "execution_count": null,
   "source": [
    "inputN = int(input(\"n입력 : \"))\n",
    "\n",
    "valueN = 0\n",
    "sumN = 0\n",
    "\n",
    "valuePreN2 = 0\n",
    "valuePreN1 = 0\n",
    "\n",
    "n=1\n",
    "while n <= inputN:\n",
    "    if n ==1 or n==2 :\n",
    "        valueN = 1\n",
    "        valuePreN2 = valueN\n",
    "        valuePreN1 = valueN\n",
    "\n",
    "        sumN += valueN\n",
    "        n+=1\n",
    "\n",
    "    else:\n",
    "        valueN = valuePreN2 + valuePreN1\n",
    "        valuePreN2 = valuePreN1\n",
    "        valuePreN1 = valueN\n",
    "        sumN += valueN\n",
    "        n+=1\n",
    "\n",
    "\n",
    "print(\"{}번째 항의 값: {}\".format(inputN, valueN))\n",
    "print(\"{}번째 항 까지의 합: {}\".format(inputN, sumN))\n"
   ],
   "outputs": [
    {
     "output_type": "stream",
     "name": "stdout",
     "text": [
      "9번째 항의 값: 34\n",
      "9번째 항 까지의 합: 88\n"
     ]
    }
   ],
   "metadata": {}
  },
  {
   "cell_type": "markdown",
   "source": [
    "### 팩토리얼"
   ],
   "metadata": {}
  },
  {
   "cell_type": "code",
   "execution_count": null,
   "source": [
    "# 반복문을 이용해 팩토리얼 구하기\n",
    "inputN = int(input(\"n입력 : \"))\n",
    "\n",
    "#for문\n",
    "result = 1\n",
    "for n in range(1, inputN*1):\n",
    "    result *= n\n",
    "\n",
    "print(\"{} 팩토리얼 : {}\".format(inputN, result))\n",
    "\n",
    "#while문\n",
    "result = 1\n",
    "n=1\n",
    "while n <= inputN:\n",
    "    result *= n\n",
    "    n += 1\n",
    "\n",
    "print(\"{} 팩토리얼 : {}\".format(inputN, result))\n",
    "\n",
    "\n",
    "# 재귀 함수를 이용하는 경우\n",
    "def factorialFun(n) :\n",
    "    if n == 1 : return 1\n",
    "\n",
    "    return n * factorialFun(n - 1)\n",
    "\n",
    "print(\"{} 팩토리얼 : {}\".format(inputN, factorialFun(inputN)))"
   ],
   "outputs": [
    {
     "output_type": "stream",
     "name": "stdout",
     "text": [
      "7 팩토리얼 : 5040\n"
     ]
    }
   ],
   "metadata": {}
  },
  {
   "cell_type": "markdown",
   "source": [
    "### 군수열"
   ],
   "metadata": {}
  },
  {
   "cell_type": "code",
   "execution_count": null,
   "source": [
    "inputN = int(input(\"n항 입력: \"))\n",
    "flag = True\n",
    "n = 1; nCnt = 1; searchN = 0\n",
    "while flag:\n",
    "\n",
    "    for i in range(1, (n+1)):\n",
    "        if i == n:\n",
    "            print(\"{} \".format(i), end=\"\")\n",
    "        else :\n",
    "            print(\"{}, \".format(i), end=\"\")\n",
    "\n",
    "        nCnt += 1\n",
    "        if (nCnt > inputN):\n",
    "            searchN = i\n",
    "            flag = False\n",
    "            break\n",
    "    \n",
    "    print()\n",
    "    n+=1\n",
    "\n",
    "print(\"{}항: {}\".format(inputN, searchN))"
   ],
   "outputs": [
    {
     "output_type": "stream",
     "name": "stdout",
     "text": [
      "1 \n",
      "1, 2 \n",
      "1, 2, 3 \n",
      "1, 2, 3, 4 \n",
      "1, 2, 3, 4, 5 \n",
      "1, 2, 3, 4, 5, 6 \n",
      "1, 2, 3, 4, 5, 6, 7 \n",
      "1, 2, 3, 4, 5, 6, 7, 8 \n",
      "1, 2, 3, 4, 5, 6, 7, 8, 9 \n",
      "1, 2, 3, 4, 5, \n",
      "50항: 5\n"
     ]
    }
   ],
   "metadata": {}
  },
  {
   "cell_type": "code",
   "execution_count": null,
   "source": [
    "inputN = int(input(\"n항 입력: \"))\n",
    "flag = True\n",
    "n = 1; nCnt = 1; searchN = 0\n",
    "while flag:\n",
    "\n",
    "    for i in range(1, (n+1)):\n",
    "        if i == n:\n",
    "            print(\"{}/{} \".format(i,(n-i+1)), end=\"\")\n",
    "        else :\n",
    "            print(\"{}/{}, \".format(i,(n-i+1)), end=\"\")\n",
    "\n",
    "        nCnt += 1\n",
    "\n",
    "        if (nCnt > inputN):\n",
    "            searchNC = i\n",
    "            searchNP = n - i + 1\n",
    "            flag = False\n",
    "            break\n",
    "    \n",
    "    print()\n",
    "    n+=1\n",
    "\n",
    "print(\"{}항: {}\".format(inputN, searchNC, searchNP))"
   ],
   "outputs": [
    {
     "output_type": "stream",
     "name": "stdout",
     "text": [
      "1/1 \n",
      "1/2, 2/1 \n",
      "1/3, 2/2, 3/1 \n",
      "1/4, 2/3, 3/2, 4/1 \n",
      "1/5, 2/4, 3/3, 4/2, 5/1 \n",
      "1/6, 2/5, 3/4, 4/3, 5/2, 6/1 \n",
      "1/7, 2/6, 3/5, 4/4, \n",
      "25항: 4\n"
     ]
    }
   ],
   "metadata": {}
  },
  {
   "cell_type": "code",
   "execution_count": null,
   "source": [],
   "outputs": [],
   "metadata": {}
  },
  {
   "cell_type": "markdown",
   "source": [
    "### 순열"
   ],
   "metadata": {}
  },
  {
   "cell_type": "code",
   "execution_count": 1,
   "source": [
    "numN = int(input(\"numN 입력: \"))\n",
    "numR = int(input(\"numR 입력: \"))\n",
    "result = 1\n",
    "\n",
    "for n in range(numN, (numN - numR), -1):\n",
    "    print('n: {}'.format(n))\n",
    "    result = result * n\n",
    "\n",
    "print('result: {}'.format(result))"
   ],
   "outputs": [
    {
     "output_type": "stream",
     "name": "stdout",
     "text": [
      "n: 7\n",
      "n: 6\n",
      "n: 5\n",
      "n: 4\n",
      "n: 3\n",
      "result: 2520\n"
     ]
    }
   ],
   "metadata": {}
  },
  {
   "cell_type": "code",
   "execution_count": 2,
   "source": [
    "# 원 순열 : 시작과 끝의 구분이 없는 순열\n",
    "# (4명 친구가 원탁 테이블에 앉을 수 있는 순서를 계산해보자)\n",
    "\n",
    "n = int(input(\"친구 수 입력: \"))\n",
    "result = 1\n",
    "for i in range(1, n):\n",
    "    result *= i\n",
    "\n",
    "print(\"result: {}\".format(result))"
   ],
   "outputs": [
    {
     "output_type": "stream",
     "name": "stdout",
     "text": [
      "result: 6\n"
     ]
    }
   ],
   "metadata": {}
  },
  {
   "cell_type": "markdown",
   "source": [
    "### 조합"
   ],
   "metadata": {}
  },
  {
   "cell_type": "code",
   "execution_count": 9,
   "source": [
    "numN = int(input(\"numN 입력: \"))\n",
    "numR = int(input(\"numR 입력: \"))\n",
    "resultP = 1\n",
    "resultR = 1\n",
    "resultC = 1\n",
    "\n",
    "for n in range(numN, (numN - numR), -1):\n",
    "    print('n: {}'.format(n))\n",
    "    resultP = resultP * n\n",
    "\n",
    "print('resultP: {}'.format(resultP))\n",
    "\n",
    "for m in range(numR, 0, -1):\n",
    "    print('m: {}'.format(m))\n",
    "    resultR *= m\n",
    "\n",
    "print('resultR: {}'.format(resultR))\n",
    "\n",
    "resultC = int(resultP/resultR)\n",
    "print('resultC: {}'.format(resultC))"
   ],
   "outputs": [
    {
     "output_type": "stream",
     "name": "stdout",
     "text": [
      "n: 5\n",
      "n: 4\n",
      "resultP: 20\n",
      "m: 2\n",
      "m: 1\n",
      "resultR: 2\n",
      "resultC: 10\n"
     ]
    }
   ],
   "metadata": {}
  },
  {
   "cell_type": "markdown",
   "source": [
    "### 확률"
   ],
   "metadata": {}
  },
  {
   "cell_type": "code",
   "execution_count": 14,
   "source": [
    "def proFun():\n",
    "    numN = int(input(\"numN 입력: \"))\n",
    "    numR = int(input(\"numR 입력: \"))\n",
    "    resultP = 1\n",
    "    resultR = 1\n",
    "    resultC = 1\n",
    "\n",
    "    for n in range(numN, (numN - numR), -1):\n",
    "        resultP = resultP * n\n",
    "    for m in range(numR, 0, -1):\n",
    "        resultR *= m\n",
    "\n",
    "    resultC = int(resultP/resultR)\n",
    "\n",
    "    return resultC\n",
    "\n",
    "sample = proFun()\n",
    "print('sample: {}'.format(sample))\n",
    "\n",
    "event1 = proFun()\n",
    "print('event1: {}'.format(event1))\n",
    "\n",
    "event2 = proFun()\n",
    "print('event2: {}'.format(event2))\n",
    "\n",
    "probability = (event1*event2) / sample\n",
    "print('probability : {}%'.format(round(probability*100,2)))"
   ],
   "outputs": [
    {
     "output_type": "stream",
     "name": "stdout",
     "text": [
      "sample: 35\n",
      "event1: 6\n",
      "event2: 3\n",
      "probability : 51.43%\n"
     ]
    }
   ],
   "metadata": {}
  },
  {
   "cell_type": "code",
   "execution_count": null,
   "source": [],
   "outputs": [],
   "metadata": {}
  }
 ],
 "metadata": {
  "orig_nbformat": 4,
  "language_info": {
   "name": "python",
   "version": "3.8.12",
   "mimetype": "text/x-python",
   "codemirror_mode": {
    "name": "ipython",
    "version": 3
   },
   "pygments_lexer": "ipython3",
   "nbconvert_exporter": "python",
   "file_extension": ".py"
  },
  "kernelspec": {
   "name": "python3",
   "display_name": "Python 3.8.12 64-bit ('ds_study': conda)"
  },
  "interpreter": {
   "hash": "9dab925e62535ecf9adda54c57de77b745094700fe61e7b8328fda3c55de33cf"
  }
 },
 "nbformat": 4,
 "nbformat_minor": 2
}