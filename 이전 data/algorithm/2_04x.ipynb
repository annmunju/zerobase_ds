{
 "cells": [
  {
   "cell_type": "code",
   "execution_count": 2,
   "source": [
    "import datetime\n",
    "\n",
    "name=str(input(\"고객명: \"))\n",
    "goods=str(input(\"상품명: \"))\n",
    "orderNo=int(input(\"주문번호: \"))\n",
    "payway=str(input(\"결제방법: \"))\n",
    "charge=int(input(\"상품금액: \"))\n",
    "point=int(input(\"포인트: \"))\n",
    "orderDate=datetime.datetime.now()\n",
    "install=int(input(\"할부: \"))\n",
    "\n",
    "print(f''' \n",
    "{name} 고객님 안녕하세요.\n",
    "{name} 고객님의 주문이 완료되었습니다.\n",
    "다음은 주문건에 대한 상세 내역입니다.\n",
    "------------------------------\n",
    "상품명\\t: {goods}\n",
    "주문번호\\t: {orderNo}\n",
    "결제방법\\t: {payway}\n",
    "상품금액\\t: {charge} 원\n",
    "결제금액\\t: {charge-point} 원\n",
    "포인트\\t: {point} P\n",
    "결제일시\\t: {orderDate}\n",
    "할부\\t: {install} 개월\n",
    "할부유형\\t: 무\n",
    "문의\\t: 02-1234-5678\n",
    "------------------------------\n",
    "저희 사이트를 이용해 주셔서 감사합니다.\n",
    "''')"
   ],
   "outputs": [
    {
     "output_type": "stream",
     "name": "stdout",
     "text": [
      " \n",
      "홍길동 고객님 안녕하세요.\n",
      "홍길동 고객님의 주문이 완료되었습니다.\n",
      "다음은 주문건에 대한 상세 내역입니다.\n",
      "------------------------------\n",
      "상품명\t: 가방\n",
      "주문번호\t: 122555\n",
      "결제방법\t: 현금\n",
      "상품금액\t: 1000000 원\n",
      "결제금액\t: 850000 원\n",
      "포인트\t: 150000 P\n",
      "결제일시\t: 2021-09-23 13:46:54.974252\n",
      "할부\t: 6 개월\n",
      "할부유형\t: 무\n",
      "문의\t: 02-1234-5678\n",
      "------------------------------\n",
      "저희 사이트를 이용해 주셔서 감사합니다.\n",
      "\n"
     ]
    }
   ],
   "metadata": {}
  },
  {
   "cell_type": "code",
   "execution_count": 4,
   "source": [
    "pip install datetime"
   ],
   "outputs": [
    {
     "output_type": "stream",
     "name": "stdout",
     "text": [
      "Collecting datetime\n",
      "  Downloading DateTime-4.3-py2.py3-none-any.whl (60 kB)\n",
      "\u001b[K     |████████████████████████████████| 60 kB 2.7 MB/s \n",
      "\u001b[?25hCollecting zope.interface\n",
      "  Downloading zope.interface-5.4.0.tar.gz (249 kB)\n",
      "\u001b[K     |████████████████████████████████| 249 kB 5.4 MB/s \n",
      "\u001b[?25hRequirement already satisfied: pytz in /Users/annmunju/miniforge3/envs/ds_study/lib/python3.8/site-packages (from datetime) (2021.1)\n",
      "Requirement already satisfied: setuptools in /Users/annmunju/miniforge3/envs/ds_study/lib/python3.8/site-packages (from zope.interface->datetime) (58.0.4)\n",
      "Building wheels for collected packages: zope.interface\n",
      "  Building wheel for zope.interface (setup.py) ... \u001b[?25ldone\n",
      "\u001b[?25h  Created wheel for zope.interface: filename=zope.interface-5.4.0-cp38-cp38-macosx_11_0_arm64.whl size=208819 sha256=3331062507bebd8910138b503a8f76657df38c2db4beb51ec2c73418450f851f\n",
      "  Stored in directory: /Users/annmunju/Library/Caches/pip/wheels/f6/d5/8a/522a527f3831d7baa52a67b0d6f45c5872aad25058e4a34b16\n",
      "Successfully built zope.interface\n",
      "Installing collected packages: zope.interface, datetime\n",
      "Successfully installed datetime-4.3 zope.interface-5.4.0\n",
      "Note: you may need to restart the kernel to use updated packages.\n"
     ]
    }
   ],
   "metadata": {}
  },
  {
   "cell_type": "code",
   "execution_count": 6,
   "source": [
    "mg = input(\"메시지 입력: \")\n",
    "print(\"메시지 문자열 길이 : {}\".format(len(mg)))"
   ],
   "outputs": [
    {
     "output_type": "stream",
     "name": "stdout",
     "text": [
      "메시지 문자열 길이 : 13\n"
     ]
    }
   ],
   "metadata": {}
  },
  {
   "cell_type": "code",
   "execution_count": 11,
   "source": [
    "mg = \"파이썬(영어: Python)은 1991년 프로그래머인 귀도 반 로섬이 발표한 고급 프로그래밍 언어로, \\\n",
    "    플랫폼에 독립적이며 인터프리터식, 객체지향적, 동적 타이핑(dynamically typed) 대화형 언어이다. \\\n",
    "        파이썬이라는 이름은 귀도가 좋아하는 코미디 〈Monty Python's Flying Circus〉에서 따온 것이다.\"\n",
    "print(\"'객체지향' 문자열 위치: {}\".format(mg.find('객체지향')))"
   ],
   "outputs": [
    {
     "output_type": "stream",
     "name": "stdout",
     "text": [
      "'객체지향' 문자열 위치: 76\n"
     ]
    }
   ],
   "metadata": {}
  },
  {
   "cell_type": "code",
   "execution_count": 3,
   "source": [
    "width = float(input(\"가로 길이 입력: \"))\n",
    "length = float(input(\"세로 길이 입력: \"))\n",
    "triangle = width * length / 2\n",
    "square = width * length\n",
    "\n",
    "print('''\n",
    "--------- Result ---------\n",
    "삼각형 넓이 : {:.6f}\n",
    "사각형 넓이 : {:.6f}\n",
    "삼각형 넓이 : {:.2f}\n",
    "사각형 넓이 : {:.2f}\n",
    "---------------------------\n",
    "'''.format(triangle, square, triangle, square))"
   ],
   "outputs": [
    {
     "output_type": "stream",
     "name": "stdout",
     "text": [
      "\n",
      "--------- Result ---------\n",
      "삼각형 넓이 : 25.000000\n",
      "사각형 넓이 : 50.000000\n",
      "삼각형 넓이 : 25.00\n",
      "사각형 넓이 : 50.00\n",
      "---------------------------\n",
      "\n"
     ]
    }
   ],
   "metadata": {}
  },
  {
   "cell_type": "code",
   "execution_count": 5,
   "source": [
    "radius = int(input(\"반지름(cm) 입력 : \"))\n",
    "print(f\"원의 녋이\\t\\t: {int(radius**2*3.14)}cm\")\n",
    "print(f\"원의 둘레길이\\t: {int(radius*2*3.14)}cm\")\n",
    "print(\"원의 녋이\\t\\t: {:.1f}cm\".format(radius**2*3.14))\n",
    "print(\"원의 둘레길이\\t: {:.1f}cm\".format(radius*2*3.14))\n",
    "print(\"원의 녋이\\t\\t: {:.3f}cm\".format(radius**2*3.14))\n",
    "print(\"원의 둘레길이\\t: {:.3f}cm\".format(radius*2*3.14))"
   ],
   "outputs": [
    {
     "output_type": "stream",
     "name": "stdout",
     "text": [
      "원의 녋이\t\t: 153cm\n",
      "원의 둘레길이\t: 43cm\n",
      "원의 녋이\t\t: 153.9cm\n",
      "원의 둘레길이\t: 44.0cm\n",
      "원의 녋이\t\t: 153.860cm\n",
      "원의 둘레길이\t: 43.960cm\n"
     ]
    }
   ],
   "metadata": {}
  },
  {
   "cell_type": "code",
   "execution_count": 9,
   "source": [
    "name = input('이름 입력: ')\n",
    "mail = input('메일 입력: ')\n",
    "cust_id = input('아이디 입력: ')\n",
    "password = input('비밀번호 입력: ')\n",
    "num_front = input('주민번호 앞자리 입력: ')\n",
    "num_back = input('주민번호 뒷자리 입력: ')\n",
    "adress = input('주소 입력: ')\n",
    "\n",
    "print(\"-----------------------\")\n",
    "print(\"이름\\t: {}\".format(name))\n",
    "print(\"메일\\t: {}\".format(mail))\n",
    "print(\"아이디\\t: {}\".format(cust_id))\n",
    "print(\"비밀번호\\t: {}\".format(\"*\"*len(password)))\n",
    "print(\"주민번호\\t: {} - {[0]}{}\".format(num_front, num_back, (\"*\"*6)))\n",
    "print(\"주소\\t: {}\".format(adress))\n",
    "print(\"-----------------------\")"
   ],
   "outputs": [
    {
     "output_type": "stream",
     "name": "stdout",
     "text": [
      "-----------------------\n",
      "이름\t: 안문주\n",
      "메일\t: annmunju@gmail.com\n",
      "아이디\t: annmunju\n",
      "비밀번호\t: ********\n",
      "주민번호\t: 970827 - 2******\n",
      "주소\t: 서울시 성동구 용답동\n",
      "-----------------------\n"
     ]
    }
   ],
   "metadata": {}
  },
  {
   "cell_type": "code",
   "execution_count": 52,
   "source": [
    "weight = input(\"체중 입력(g): \")\n",
    "height = input(\"신장 입력(cm): \")\n",
    "\n",
    "if weight.isdigit():\n",
    "    weight=int(weight)*0.1\n",
    "    print(\"체중: {}kg\".format(weight))\n",
    "if height.isdigit():\n",
    "    height=int(height)*0.01\n",
    "    print(\"신장: {}m\".format(height))\n",
    "print(\"BMI: {:.2f}\".format(weight / (height**2)))"
   ],
   "outputs": [
    {
     "output_type": "stream",
     "name": "stdout",
     "text": [
      "체중: 85.5kg\n",
      "신장: 1.87m\n",
      "BMI: 24.45\n"
     ]
    }
   ],
   "metadata": {}
  },
  {
   "cell_type": "code",
   "execution_count": 37,
   "source": [
    "num1 = 10\n",
    "num2 = 20\n",
    "print('num1: {}, num2: {}'.format(num1, num2))\n",
    "num = num2\n",
    "num2 = num1\n",
    "num1 = num\n",
    "print('num1: {}, num2: {}'.format(num1, num2))"
   ],
   "outputs": [
    {
     "output_type": "stream",
     "name": "stdout",
     "text": [
      "num1: 10, num2: 20\n",
      "num1: 20, num2: 10\n"
     ]
    }
   ],
   "metadata": {}
  },
  {
   "cell_type": "code",
   "execution_count": 10,
   "source": [
    "# try :\n",
    "#     midTest = int(input(\"중간 고사 점수: \"))\n",
    "#     finalTest = int(input(\"기말 고사 점수: \"))\n",
    "#     sumPrice = midTest + finalTest\n",
    "#     avePrice = sumPrice/2\n",
    "#     print(\"총점: {}, 평균: {:.1f}\".format(sumPrice, avePrice))\n",
    "# except :\n",
    "#     print(\"잘 못 입력했습니다.\")\n",
    "\n",
    "midscore = input(\"중간 고사 점수: \")\n",
    "finalscore = input(\"기말 고사 점수: \")\n",
    "\n",
    "if midscore.isdigit() and finalscore.isdigit():\n",
    "    midscore = int(midscore)\n",
    "    finalscore = int(finalscore)\n",
    "\n",
    "    totalScore = midscore+finalscore\n",
    "    avgScore = totalScore / 2\n",
    "\n",
    "    print(\"총점: {}, 평균: {}\".format(totalScore, avgScore))\n",
    "\n",
    "else :\n",
    "    print(\"잘 못 입력했습니다.\")"
   ],
   "outputs": [
    {
     "output_type": "stream",
     "name": "stdout",
     "text": [
      "총점: 170, 평균: 85.0\n"
     ]
    }
   ],
   "metadata": {}
  },
  {
   "cell_type": "code",
   "execution_count": 57,
   "source": [
    "lang = input(\"언어 선택(Choose your language): 1. 한국 \\t 2. English\")\n",
    "\n",
    "if lang == '1' :\n",
    "    print(\"1.샌드위치\\t 2.햄버거\\t 3.쥬스\\t 4.커피\\t 5.아이스크림\")\n",
    "elif lang == '2' :\n",
    "    print(\"1.Sandwich\\t 2.Hamburger\\t 3.Juice\\t 4.Coffee\\t 5.Ice cream\")\n",
    "else :\n",
    "    pass"
   ],
   "outputs": [],
   "metadata": {}
  },
  {
   "cell_type": "code",
   "execution_count": 16,
   "source": [
    "# try:\n",
    "#     age = int(input(\"나이 입력 : \"))\n",
    "#     date = 2021\n",
    "#     print(\"{}년({}년후)에 100살!!\".format(100-age+date, 100-age))\n",
    "# except:\n",
    "#     print(\"잘 못 입력했습니다.\")\n",
    "\n",
    "import datetime\n",
    "\n",
    "today = datetime.datetime.today()\n",
    "\n",
    "myAge = input(\"나이 입력 : \")\n",
    "\n",
    "if myAge.isdigit() :\n",
    "    afterAge = 100-int(myAge)\n",
    "    myhundred=today.year + afterAge\n",
    "    print(\"{}년({}년후)에 100살!!\".format(myhundred, afterAge))\n",
    "else :\n",
    "    print(\"잘 못 입력했습니다.\")\n",
    "\n"
   ],
   "outputs": [
    {
     "output_type": "stream",
     "name": "stdout",
     "text": [
      "2096년(75년후)에 100살!!\n"
     ]
    }
   ],
   "metadata": {}
  },
  {
   "cell_type": "code",
   "execution_count": 13,
   "source": [
    "import isdigit"
   ],
   "outputs": [
    {
     "output_type": "error",
     "ename": "ModuleNotFoundError",
     "evalue": "No module named 'isdigit'",
     "traceback": [
      "\u001b[0;31m---------------------------------------------------------------------------\u001b[0m",
      "\u001b[0;31mModuleNotFoundError\u001b[0m                       Traceback (most recent call last)",
      "\u001b[0;32m/var/folders/1w/gwcwvn0s6d1b31t9w4yydlh80000gn/T/ipykernel_3409/983391516.py\u001b[0m in \u001b[0;36m<module>\u001b[0;34m\u001b[0m\n\u001b[0;32m----> 1\u001b[0;31m \u001b[0;32mimport\u001b[0m \u001b[0misdigit\u001b[0m\u001b[0;34m\u001b[0m\u001b[0;34m\u001b[0m\u001b[0m\n\u001b[0m",
      "\u001b[0;31mModuleNotFoundError\u001b[0m: No module named 'isdigit'"
     ]
    }
   ],
   "metadata": {}
  },
  {
   "cell_type": "code",
   "execution_count": 76,
   "source": [
    "# 지폐 : 5만원, 1만원, 5천원, 1천원\n",
    "# 동전 : 5백원, 1백원, 1십원\n",
    "\n",
    "\n",
    "price = int(input(\"상품 가격 입력: \"))\n",
    "pay = int(input(\"지불 금액: \"))\n",
    "change = int((pay-price)/10)*10\n",
    "print(\"거스름 돈: {}(원단위 절사)\".format(change))\n",
    "print(\"-------------------------\")\n",
    "print(\"50,000 {}장\".format(change // 50000))\n",
    "change %= 50000\n",
    "print(\"10,000 {}장\".format(change // 10000))\n",
    "change %= 10000\n",
    "print(\"5,000 {}장\".format(change // 5000))\n",
    "change %= 5000\n",
    "print(\"1,000 {}장\".format(change // 1000))\n",
    "change %= 1000\n",
    "print(\"500 {}장\".format(change // 500))\n",
    "change %= 500\n",
    "print(\"100 {}장\".format(change // 100))\n",
    "change %= 100\n",
    "print(\"10 {}장\".format(change // 10))\n",
    "print(\"-------------------------\")"
   ],
   "outputs": [
    {
     "output_type": "stream",
     "name": "stdout",
     "text": [
      "거스름 돈: 76430(원단위 절사)\n",
      "-------------------------\n",
      "50,000 1장\n",
      "10,000 2장\n",
      "5,000 1장\n",
      "1,000 1장\n",
      "500 0장\n",
      "100 4장\n",
      "10 3장\n",
      "-------------------------\n"
     ]
    }
   ],
   "metadata": {}
  },
  {
   "cell_type": "code",
   "execution_count": 80,
   "source": [
    "korScore = int(input(\"국어 점수 입력: \"))\n",
    "engScore = int(input(\"영어 점수 입력: \"))\n",
    "mathScore = int(input(\"수학 점수 입력: \"))\n",
    "sumScore = korScore + engScore + mathScore\n",
    "avgScore = sumScore / 3\n",
    "print(\"총점: {}\".format(sumScore))\n",
    "print(\"평균: {:.2f}\".format(avgScore))\n",
    "print(\"-------------------------\")\n",
    "if korScore > engScore :\n",
    "    bestScore = (\"국어\",korScore)\n",
    "    if mathScore > korScore :\n",
    "        bestScore = (\"수학\",mathScore)\n",
    "elif korScore < engScore :\n",
    "    bestScore = (\"영어\",engScore)\n",
    "    if engScore < mathScore :\n",
    "        bestScore = (\"수학\",mathScore)\n",
    "\n",
    "if korScore < engScore :\n",
    "    worstScore = (\"국어\",korScore)\n",
    "    if mathScore < korScore :\n",
    "        worstScore = (\"수학\",mathScore)\n",
    "elif korScore > engScore :\n",
    "    worstScore = (\"영어\",engScore)\n",
    "    if engScore > mathScore :\n",
    "        worstScore = (\"수학\",mathScore)\n",
    "print(\"최고 점수 과목(점수): {}({})\".format(bestScore[0],bestScore[1]))\n",
    "print(\"최저 점수 과목(점수): {}({})\".format(worstScore[0],worstScore[1]))\n",
    "print(\"최고, 최저 점수 차이: {}\".format(bestScore[1]-worstScore[1]))\n",
    "print(\"-------------------------\")"
   ],
   "outputs": [
    {
     "output_type": "stream",
     "name": "stdout",
     "text": [
      "총점: 253\n",
      "평균: 84.33\n",
      "-------------------------\n",
      "최고 점수 과목(점수): 영어(90)\n",
      "최저 점수 과목(점수): 수학(79)\n",
      "최고, 최저 점수 차이: 11\n",
      "-------------------------\n"
     ]
    }
   ],
   "metadata": {}
  },
  {
   "cell_type": "code",
   "execution_count": 81,
   "source": [
    "hou = int(input(\"시간 입력: \"))\n",
    "min = int(input(\"분 입력: \"))\n",
    "sec = int(input(\"초 입력: \"))\n",
    "\n",
    "print('{}초'.format(format(hou*60*60+min*60+sec, ',')))"
   ],
   "outputs": [
    {
     "output_type": "stream",
     "name": "stdout",
     "text": [
      "35,151초\n"
     ]
    }
   ],
   "metadata": {}
  },
  {
   "cell_type": "code",
   "execution_count": 93,
   "source": [
    "price = int(input(\"금액 입력: \"))\n",
    "rate = float(input(\"이율 입력: \"))\n",
    "period = int(input(\"기간 입력: \"))\n",
    "print(\"-----------------------\")\n",
    "print(\"이율: {:.1f}%\".format(rate))\n",
    "print(\"원금: {}원\".format(format(price,',')))\n",
    "for i in range(period):\n",
    "    price *= (1+(rate/100))\n",
    "print(\"{}년 후 금액: {}원\".format(period, format(round(price),',')))\n",
    "print(\"-----------------------\")"
   ],
   "outputs": [
    {
     "output_type": "stream",
     "name": "stdout",
     "text": [
      "-----------------------\n",
      "이율: 5.1%\n",
      "원금: 2,000,000원\n",
      "6년 후 금액: 2,695,543원\n",
      "-----------------------\n"
     ]
    }
   ],
   "metadata": {}
  },
  {
   "cell_type": "code",
   "execution_count": 94,
   "source": [
    "baseTemp = 29\n",
    "step = 60\n",
    "stepTemp = 0.8\n",
    "\n",
    "height = int(input(\"고도 입력: \"))\n",
    "\n",
    "targetTemp = baseTemp - (height // step * 0.8)\n",
    "\n",
    "if height % step != 0 :\n",
    "    targetTemp -= stepTemp\n",
    "\n",
    "print(\"지면 온도: {}\".format(baseTemp))\n",
    "print(\"고도 {}m의 기온: {}\".format(height, targetTemp))"
   ],
   "outputs": [
    {
     "output_type": "stream",
     "name": "stdout",
     "text": [
      "지면 온도: 29\n",
      "고도 720m의 기온: 19.4\n"
     ]
    }
   ],
   "metadata": {}
  },
  {
   "cell_type": "code",
   "execution_count": 95,
   "source": [
    "bread = 197\n",
    "milk = 152\n",
    "studentCnt= 17\n",
    "\n",
    "print('학생 한명이 갖게되는 빵 갯수: {}'.format(bread//studentCnt))\n",
    "print('학생 한명이 갖게되는 우유 갯수: {}'.format(milk//studentCnt))\n",
    "\n",
    "print('남는 빵 갯수: {}'.format(bread%studentCnt))\n",
    "print('남는 우유 갯수: {}'.format(milk%studentCnt))"
   ],
   "outputs": [
    {
     "output_type": "stream",
     "name": "stdout",
     "text": [
      "학생 한명이 갖게되는 빵 갯수: 11\n",
      "학생 한명이 갖게되는 우유 갯수: 8\n",
      "남는 빵 갯수: 10\n",
      "남는 우유 갯수: 16\n"
     ]
    }
   ],
   "metadata": {}
  },
  {
   "cell_type": "code",
   "execution_count": 18,
   "source": [
    "age = int(input(\"나이 입력: \"))\n",
    "day = (\"월\",\"화\",\"수\",\"목\",\"금\")\n",
    "\n",
    "if age <= 19 or age >= 65:\n",
    "    birth=int(input(\"출생 연도 끝자리 입력: \"))\n",
    "    print(f\"{day[(birth-1)%5]}요일 접종 가능!!\")\n",
    "else :\n",
    "    print(\"하반기 일정을 확인하세요\")"
   ],
   "outputs": [
    {
     "output_type": "stream",
     "name": "stdout",
     "text": [
      "화요일 접종 가능!!\n"
     ]
    }
   ],
   "metadata": {}
  },
  {
   "cell_type": "code",
   "execution_count": 104,
   "source": [
    "byInch = 0.039\n",
    "lengthMM = int(input(\"길이(mm) 입력: \"))\n",
    "lengthInch = lengthMM * byInch\n",
    "\n",
    "print(\"{}mm -> {}inch\".format(lengthMM, lengthInch))"
   ],
   "outputs": [
    {
     "output_type": "stream",
     "name": "stdout",
     "text": [
      "52mm -> 2.028inch\n"
     ]
    }
   ],
   "metadata": {}
  },
  {
   "cell_type": "code",
   "execution_count": null,
   "source": [],
   "outputs": [],
   "metadata": {}
  }
 ],
 "metadata": {
  "orig_nbformat": 4,
  "language_info": {
   "name": "python",
   "version": "3.8.12",
   "mimetype": "text/x-python",
   "codemirror_mode": {
    "name": "ipython",
    "version": 3
   },
   "pygments_lexer": "ipython3",
   "nbconvert_exporter": "python",
   "file_extension": ".py"
  },
  "kernelspec": {
   "name": "python3",
   "display_name": "Python 3.8.12 64-bit ('ds_study': conda)"
  },
  "interpreter": {
   "hash": "9dab925e62535ecf9adda54c57de77b745094700fe61e7b8328fda3c55de33cf"
  }
 },
 "nbformat": 4,
 "nbformat_minor": 2
}