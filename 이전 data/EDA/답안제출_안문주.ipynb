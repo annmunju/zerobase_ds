{
 "cells": [
  {
   "cell_type": "markdown",
   "id": "2d77f442",
   "metadata": {},
   "source": [
    "문제1"
   ]
  },
  {
   "cell_type": "code",
   "execution_count": 62,
   "id": "6b037781",
   "metadata": {},
   "outputs": [
    {
     "data": {
      "text/plain": [
       "{'이름': ['이경규', '이승엽', '이승기', '유현주'],\n",
       " '번호': ['010-1212-7979', '010-1010-2121', '010-1211-0901', '010-3821-1231'],\n",
       " '성적': [90, 80, 100, 72]}"
      ]
     },
     "execution_count": 62,
     "metadata": {},
     "output_type": "execute_result"
    }
   ],
   "source": [
    "list_of_friends = {\n",
    "    '이름' : ['이경규', '이승엽', '이승기', '유현주'],\n",
    "    '번호' : ['010-1212-7979', '010-1010-2121', '010-1211-0901', '010-3821-1231'],\n",
    "    '성적' : [90, 80, 100, 72]\n",
    "}\n",
    "\n",
    "list_of_friends"
   ]
  },
  {
   "cell_type": "markdown",
   "id": "fb224b4a",
   "metadata": {},
   "source": [
    "문제2"
   ]
  },
  {
   "cell_type": "code",
   "execution_count": 63,
   "id": "28f9c630",
   "metadata": {},
   "outputs": [
    {
     "data": {
      "text/html": [
       "<div>\n",
       "<style scoped>\n",
       "    .dataframe tbody tr th:only-of-type {\n",
       "        vertical-align: middle;\n",
       "    }\n",
       "\n",
       "    .dataframe tbody tr th {\n",
       "        vertical-align: top;\n",
       "    }\n",
       "\n",
       "    .dataframe thead th {\n",
       "        text-align: right;\n",
       "    }\n",
       "</style>\n",
       "<table border=\"1\" class=\"dataframe\">\n",
       "  <thead>\n",
       "    <tr style=\"text-align: right;\">\n",
       "      <th></th>\n",
       "      <th>이름</th>\n",
       "      <th>번호</th>\n",
       "      <th>성적</th>\n",
       "    </tr>\n",
       "  </thead>\n",
       "  <tbody>\n",
       "    <tr>\n",
       "      <th>0</th>\n",
       "      <td>이경규</td>\n",
       "      <td>010-1212-7979</td>\n",
       "      <td>90</td>\n",
       "    </tr>\n",
       "    <tr>\n",
       "      <th>1</th>\n",
       "      <td>이승엽</td>\n",
       "      <td>010-1010-2121</td>\n",
       "      <td>80</td>\n",
       "    </tr>\n",
       "    <tr>\n",
       "      <th>2</th>\n",
       "      <td>이승기</td>\n",
       "      <td>010-1211-0901</td>\n",
       "      <td>100</td>\n",
       "    </tr>\n",
       "    <tr>\n",
       "      <th>3</th>\n",
       "      <td>유현주</td>\n",
       "      <td>010-3821-1231</td>\n",
       "      <td>72</td>\n",
       "    </tr>\n",
       "  </tbody>\n",
       "</table>\n",
       "</div>"
      ],
      "text/plain": [
       "    이름             번호   성적\n",
       "0  이경규  010-1212-7979   90\n",
       "1  이승엽  010-1010-2121   80\n",
       "2  이승기  010-1211-0901  100\n",
       "3  유현주  010-3821-1231   72"
      ]
     },
     "execution_count": 63,
     "metadata": {},
     "output_type": "execute_result"
    }
   ],
   "source": [
    "import pandas as pd\n",
    "df=pd.DataFrame(list_of_friends)\n",
    "df"
   ]
  },
  {
   "cell_type": "markdown",
   "id": "ca6a965b",
   "metadata": {},
   "source": [
    "문제3"
   ]
  },
  {
   "cell_type": "code",
   "execution_count": 64,
   "id": "8b0a803c",
   "metadata": {},
   "outputs": [
    {
     "data": {
      "text/html": [
       "<div>\n",
       "<style scoped>\n",
       "    .dataframe tbody tr th:only-of-type {\n",
       "        vertical-align: middle;\n",
       "    }\n",
       "\n",
       "    .dataframe tbody tr th {\n",
       "        vertical-align: top;\n",
       "    }\n",
       "\n",
       "    .dataframe thead th {\n",
       "        text-align: right;\n",
       "    }\n",
       "</style>\n",
       "<table border=\"1\" class=\"dataframe\">\n",
       "  <thead>\n",
       "    <tr style=\"text-align: right;\">\n",
       "      <th></th>\n",
       "      <th>이름</th>\n",
       "      <th>번호</th>\n",
       "      <th>성적</th>\n",
       "      <th>이전성적</th>\n",
       "    </tr>\n",
       "  </thead>\n",
       "  <tbody>\n",
       "    <tr>\n",
       "      <th>0</th>\n",
       "      <td>이경규</td>\n",
       "      <td>010-1212-7979</td>\n",
       "      <td>90</td>\n",
       "      <td>90</td>\n",
       "    </tr>\n",
       "    <tr>\n",
       "      <th>1</th>\n",
       "      <td>이승엽</td>\n",
       "      <td>010-1010-2121</td>\n",
       "      <td>80</td>\n",
       "      <td>80</td>\n",
       "    </tr>\n",
       "    <tr>\n",
       "      <th>2</th>\n",
       "      <td>이승기</td>\n",
       "      <td>010-1211-0901</td>\n",
       "      <td>100</td>\n",
       "      <td>110</td>\n",
       "    </tr>\n",
       "    <tr>\n",
       "      <th>3</th>\n",
       "      <td>유현주</td>\n",
       "      <td>010-3821-1231</td>\n",
       "      <td>72</td>\n",
       "      <td>80</td>\n",
       "    </tr>\n",
       "  </tbody>\n",
       "</table>\n",
       "</div>"
      ],
      "text/plain": [
       "    이름             번호   성적  이전성적\n",
       "0  이경규  010-1212-7979   90    90\n",
       "1  이승엽  010-1010-2121   80    80\n",
       "2  이승기  010-1211-0901  100   110\n",
       "3  유현주  010-3821-1231   72    80"
      ]
     },
     "execution_count": 64,
     "metadata": {},
     "output_type": "execute_result"
    }
   ],
   "source": [
    "df['이전성적'] = (90,80,110,80)\n",
    "df"
   ]
  },
  {
   "cell_type": "markdown",
   "id": "3fc4745e",
   "metadata": {},
   "source": [
    "문제4"
   ]
  },
  {
   "cell_type": "code",
   "execution_count": 65,
   "id": "684ea238",
   "metadata": {},
   "outputs": [
    {
     "data": {
      "text/html": [
       "<div>\n",
       "<style scoped>\n",
       "    .dataframe tbody tr th:only-of-type {\n",
       "        vertical-align: middle;\n",
       "    }\n",
       "\n",
       "    .dataframe tbody tr th {\n",
       "        vertical-align: top;\n",
       "    }\n",
       "\n",
       "    .dataframe thead th {\n",
       "        text-align: right;\n",
       "    }\n",
       "</style>\n",
       "<table border=\"1\" class=\"dataframe\">\n",
       "  <thead>\n",
       "    <tr style=\"text-align: right;\">\n",
       "      <th></th>\n",
       "      <th>이름</th>\n",
       "      <th>번호</th>\n",
       "      <th>성적</th>\n",
       "      <th>이전성적</th>\n",
       "    </tr>\n",
       "  </thead>\n",
       "  <tbody>\n",
       "    <tr>\n",
       "      <th>0</th>\n",
       "      <td>이경규</td>\n",
       "      <td>010-1212-7979</td>\n",
       "      <td>90</td>\n",
       "      <td>90</td>\n",
       "    </tr>\n",
       "  </tbody>\n",
       "</table>\n",
       "</div>"
      ],
      "text/plain": [
       "    이름             번호  성적  이전성적\n",
       "0  이경규  010-1212-7979  90    90"
      ]
     },
     "execution_count": 65,
     "metadata": {},
     "output_type": "execute_result"
    }
   ],
   "source": [
    "df[df['이름']=='이경규']"
   ]
  },
  {
   "cell_type": "markdown",
   "id": "8bc91cbe",
   "metadata": {},
   "source": [
    "문제5"
   ]
  },
  {
   "cell_type": "code",
   "execution_count": 66,
   "id": "0893e5c6",
   "metadata": {},
   "outputs": [
    {
     "data": {
      "text/html": [
       "<div>\n",
       "<style scoped>\n",
       "    .dataframe tbody tr th:only-of-type {\n",
       "        vertical-align: middle;\n",
       "    }\n",
       "\n",
       "    .dataframe tbody tr th {\n",
       "        vertical-align: top;\n",
       "    }\n",
       "\n",
       "    .dataframe thead th {\n",
       "        text-align: right;\n",
       "    }\n",
       "</style>\n",
       "<table border=\"1\" class=\"dataframe\">\n",
       "  <thead>\n",
       "    <tr style=\"text-align: right;\">\n",
       "      <th></th>\n",
       "      <th>이름</th>\n",
       "      <th>번호</th>\n",
       "      <th>성적</th>\n",
       "      <th>이전성적</th>\n",
       "    </tr>\n",
       "  </thead>\n",
       "  <tbody>\n",
       "    <tr>\n",
       "      <th>0</th>\n",
       "      <td>이경규</td>\n",
       "      <td>010-1212-7979</td>\n",
       "      <td>90</td>\n",
       "      <td>90</td>\n",
       "    </tr>\n",
       "    <tr>\n",
       "      <th>1</th>\n",
       "      <td>이승엽</td>\n",
       "      <td>010-1010-2121</td>\n",
       "      <td>80</td>\n",
       "      <td>80</td>\n",
       "    </tr>\n",
       "    <tr>\n",
       "      <th>2</th>\n",
       "      <td>이승기</td>\n",
       "      <td>010-1211-0901</td>\n",
       "      <td>100</td>\n",
       "      <td>120</td>\n",
       "    </tr>\n",
       "    <tr>\n",
       "      <th>3</th>\n",
       "      <td>유현주</td>\n",
       "      <td>010-3821-1231</td>\n",
       "      <td>72</td>\n",
       "      <td>80</td>\n",
       "    </tr>\n",
       "  </tbody>\n",
       "</table>\n",
       "</div>"
      ],
      "text/plain": [
       "    이름             번호   성적  이전성적\n",
       "0  이경규  010-1212-7979   90    90\n",
       "1  이승엽  010-1010-2121   80    80\n",
       "2  이승기  010-1211-0901  100   120\n",
       "3  유현주  010-3821-1231   72    80"
      ]
     },
     "execution_count": 66,
     "metadata": {},
     "output_type": "execute_result"
    }
   ],
   "source": [
    "df.iloc[2,3]=120\n",
    "df"
   ]
  },
  {
   "cell_type": "markdown",
   "id": "382330e2",
   "metadata": {},
   "source": [
    "문제6"
   ]
  },
  {
   "cell_type": "code",
   "execution_count": 67,
   "id": "29dd6366",
   "metadata": {},
   "outputs": [
    {
     "data": {
      "text/html": [
       "<div>\n",
       "<style scoped>\n",
       "    .dataframe tbody tr th:only-of-type {\n",
       "        vertical-align: middle;\n",
       "    }\n",
       "\n",
       "    .dataframe tbody tr th {\n",
       "        vertical-align: top;\n",
       "    }\n",
       "\n",
       "    .dataframe thead th {\n",
       "        text-align: right;\n",
       "    }\n",
       "</style>\n",
       "<table border=\"1\" class=\"dataframe\">\n",
       "  <thead>\n",
       "    <tr style=\"text-align: right;\">\n",
       "      <th></th>\n",
       "      <th>번호</th>\n",
       "      <th>성적</th>\n",
       "      <th>이전성적</th>\n",
       "    </tr>\n",
       "    <tr>\n",
       "      <th>이름</th>\n",
       "      <th></th>\n",
       "      <th></th>\n",
       "      <th></th>\n",
       "    </tr>\n",
       "  </thead>\n",
       "  <tbody>\n",
       "    <tr>\n",
       "      <th>이경규</th>\n",
       "      <td>010-1212-7979</td>\n",
       "      <td>90</td>\n",
       "      <td>90</td>\n",
       "    </tr>\n",
       "    <tr>\n",
       "      <th>이승엽</th>\n",
       "      <td>010-1010-2121</td>\n",
       "      <td>80</td>\n",
       "      <td>80</td>\n",
       "    </tr>\n",
       "    <tr>\n",
       "      <th>이승기</th>\n",
       "      <td>010-1211-0901</td>\n",
       "      <td>100</td>\n",
       "      <td>120</td>\n",
       "    </tr>\n",
       "    <tr>\n",
       "      <th>유현주</th>\n",
       "      <td>010-3821-1231</td>\n",
       "      <td>72</td>\n",
       "      <td>80</td>\n",
       "    </tr>\n",
       "  </tbody>\n",
       "</table>\n",
       "</div>"
      ],
      "text/plain": [
       "                번호   성적  이전성적\n",
       "이름                           \n",
       "이경규  010-1212-7979   90    90\n",
       "이승엽  010-1010-2121   80    80\n",
       "이승기  010-1211-0901  100   120\n",
       "유현주  010-3821-1231   72    80"
      ]
     },
     "execution_count": 67,
     "metadata": {},
     "output_type": "execute_result"
    }
   ],
   "source": [
    "df.set_index(\"이름\", inplace=True)\n",
    "df"
   ]
  },
  {
   "cell_type": "markdown",
   "id": "5d42bc03",
   "metadata": {},
   "source": [
    "문제7"
   ]
  },
  {
   "cell_type": "code",
   "execution_count": 68,
   "id": "f30219eb",
   "metadata": {},
   "outputs": [
    {
     "data": {
      "text/plain": [
       "<AxesSubplot:ylabel='이름'>"
      ]
     },
     "execution_count": 68,
     "metadata": {},
     "output_type": "execute_result"
    },
    {
     "data": {
      "image/png": "[encoded data removed]",
      "text/plain": [
       "<Figure size 432x288 with 1 Axes>"
      ]
     },
     "metadata": {
      "needs_background": "light"
     },
     "output_type": "display_data"
    }
   ],
   "source": [
    "import matplotlib.pyplot as plt\n",
    "plt.rcParams[\"axes.unicode_minus\"]=False\n",
    "plt.rc('font',family='NanumGothic')\n",
    "%matplotlib inline\n",
    "\n",
    "df[\"성적\"].plot(kind='barh')"
   ]
  },
  {
   "cell_type": "markdown",
   "id": "18900314",
   "metadata": {},
   "source": [
    "문제8"
   ]
  },
  {
   "cell_type": "code",
   "execution_count": 71,
   "id": "3a24d70e",
   "metadata": {},
   "outputs": [
    {
     "data": {
      "text/plain": [
       "<AxesSubplot:ylabel='이름'>"
      ]
     },
     "execution_count": 71,
     "metadata": {},
     "output_type": "execute_result"
    },
    {
     "data": {
      "image/png": "[encoded data removed]",
      "text/plain": [
       "<Figure size 432x288 with 1 Axes>"
      ]
     },
     "metadata": {
      "needs_background": "light"
     },
     "output_type": "display_data"
    }
   ],
   "source": [
    "df.sort_values(by=\"성적\",ascending=False)[[\"성적\",\"이전성적\"]].plot(kind='barh')"
   ]
  },
  {
   "cell_type": "markdown",
   "id": "ccd37509",
   "metadata": {},
   "source": [
    "문제9"
   ]
  },
  {
   "cell_type": "code",
   "execution_count": 70,
   "id": "5a184142",
   "metadata": {},
   "outputs": [
    {
     "data": {
      "text/html": [
       "<div>\n",
       "<style scoped>\n",
       "    .dataframe tbody tr th:only-of-type {\n",
       "        vertical-align: middle;\n",
       "    }\n",
       "\n",
       "    .dataframe tbody tr th {\n",
       "        vertical-align: top;\n",
       "    }\n",
       "\n",
       "    .dataframe thead th {\n",
       "        text-align: right;\n",
       "    }\n",
       "</style>\n",
       "<table border=\"1\" class=\"dataframe\">\n",
       "  <thead>\n",
       "    <tr style=\"text-align: right;\">\n",
       "      <th></th>\n",
       "      <th>번호</th>\n",
       "      <th>성적</th>\n",
       "      <th>이전성적</th>\n",
       "      <th>성적상승률</th>\n",
       "    </tr>\n",
       "    <tr>\n",
       "      <th>이름</th>\n",
       "      <th></th>\n",
       "      <th></th>\n",
       "      <th></th>\n",
       "      <th></th>\n",
       "    </tr>\n",
       "  </thead>\n",
       "  <tbody>\n",
       "    <tr>\n",
       "      <th>이경규</th>\n",
       "      <td>010-1212-7979</td>\n",
       "      <td>90</td>\n",
       "      <td>90</td>\n",
       "      <td>100.000000</td>\n",
       "    </tr>\n",
       "    <tr>\n",
       "      <th>이승엽</th>\n",
       "      <td>010-1010-2121</td>\n",
       "      <td>80</td>\n",
       "      <td>80</td>\n",
       "      <td>100.000000</td>\n",
       "    </tr>\n",
       "    <tr>\n",
       "      <th>이승기</th>\n",
       "      <td>010-1211-0901</td>\n",
       "      <td>100</td>\n",
       "      <td>120</td>\n",
       "      <td>120.000000</td>\n",
       "    </tr>\n",
       "    <tr>\n",
       "      <th>유현주</th>\n",
       "      <td>010-3821-1231</td>\n",
       "      <td>72</td>\n",
       "      <td>80</td>\n",
       "      <td>111.111111</td>\n",
       "    </tr>\n",
       "  </tbody>\n",
       "</table>\n",
       "</div>"
      ],
      "text/plain": [
       "                번호   성적  이전성적       성적상승률\n",
       "이름                                       \n",
       "이경규  010-1212-7979   90    90  100.000000\n",
       "이승엽  010-1010-2121   80    80  100.000000\n",
       "이승기  010-1211-0901  100   120  120.000000\n",
       "유현주  010-3821-1231   72    80  111.111111"
      ]
     },
     "execution_count": 70,
     "metadata": {},
     "output_type": "execute_result"
    }
   ],
   "source": [
    "df[\"성적상승률\"]=(df[\"이전성적\"]/df[\"성적\"])*100\n",
    "df"
   ]
  },
  {
   "cell_type": "markdown",
   "id": "ae466c78",
   "metadata": {},
   "source": [
    "문제10"
   ]
  },
  {
   "cell_type": "code",
   "execution_count": 75,
   "id": "850c22fb",
   "metadata": {},
   "outputs": [
    {
     "data": {
      "text/plain": [
       "<AxesSubplot:ylabel='이름'>"
      ]
     },
     "execution_count": 75,
     "metadata": {},
     "output_type": "execute_result"
    },
    {
     "data": {
      "image/png": "[encoded data removed]",
      "text/plain": [
       "<Figure size 432x288 with 1 Axes>"
      ]
     },
     "metadata": {
      "needs_background": "light"
     },
     "output_type": "display_data"
    }
   ],
   "source": [
    "df.sort_values(by=\"성적상승률\",ascending=True)[[\"성적\",\"이전성적\",\"성적상승률\"]].plot(kind='barh')"
   ]
  }
 ],
 "metadata": {
  "kernelspec": {
   "display_name": "Python 3 (ipykernel)",
   "language": "python",
   "name": "python3"
  },
  "language_info": {
   "codemirror_mode": {
    "name": "ipython",
    "version": 3
   },
   "file_extension": ".py",
   "mimetype": "text/x-python",
   "name": "python",
   "nbconvert_exporter": "python",
   "pygments_lexer": "ipython3",
   "version": "3.8.11"
  }
 },
 "nbformat": 4,
 "nbformat_minor": 5
}
