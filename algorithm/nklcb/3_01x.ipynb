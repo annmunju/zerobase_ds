{
 "cells": [
  {
   "cell_type": "markdown",
   "source": [
    "### 약수와 소수"
   ],
   "metadata": {}
  },
  {
   "cell_type": "code",
   "execution_count": 5,
   "source": [
    "# 사용자가 입력한 숫자의 약수를 출력해보자\n",
    "\n",
    "inputNum = int(input(\"0보다 큰 정수 입력: \"))\n",
    "\n",
    "for num in range(1, (inputNum+1)):\n",
    "    if inputNum % num == 0:\n",
    "        print(\"{}의 약수: {}\".format(inputNum, num))"
   ],
   "outputs": [
    {
     "output_type": "stream",
     "name": "stdout",
     "text": [
      "10의 약수: 1\n",
      "10의 약수: 2\n",
      "10의 약수: 5\n",
      "10의 약수: 10\n"
     ]
    }
   ],
   "metadata": {}
  },
  {
   "cell_type": "code",
   "execution_count": 11,
   "source": [
    "# 사용자가 입력한 숫자까지의 소수를 출력해보자\n",
    "\n",
    "inputNum2 = int(input(\"0보다 큰 정수 입력\"))\n",
    "\n",
    "for num in range(2,(inputNum2+1)):\n",
    "    flag = True\n",
    "    for n in range(2, num):\n",
    "        if num % n == 0:\n",
    "            flag=False\n",
    "            break\n",
    "\n",
    "    if (flag) : print(\"{}: 소수!!\".format(num))\n",
    "    else : print(\"{}: \\t합성수!!\".format(num))"
   ],
   "outputs": [
    {
     "output_type": "stream",
     "name": "stdout",
     "text": [
      "2: 소수!!\n",
      "3: 소수!!\n",
      "4: \t합성수!!\n",
      "5: 소수!!\n",
      "6: \t합성수!!\n",
      "7: 소수!!\n",
      "8: \t합성수!!\n",
      "9: \t합성수!!\n",
      "10: \t합성수!!\n"
     ]
    }
   ],
   "metadata": {}
  },
  {
   "cell_type": "markdown",
   "source": [
    "### 소인수분해"
   ],
   "metadata": {}
  },
  {
   "cell_type": "code",
   "execution_count": 13,
   "source": [
    "# 사용자가 입력한 숫자를 소인수분해하자\n",
    "\n",
    "inputNum3 = int(input(\"0보다 큰 정수 입력\"))\n",
    "\n",
    "n=2\n",
    "while n <= inputNum3 :\n",
    "    if inputNum3 % n == 0:\n",
    "        print(\"소인수: {}\".format(n))\n",
    "        inputNum3 /= n\n",
    "    else :\n",
    "        n += 1"
   ],
   "outputs": [
    {
     "output_type": "stream",
     "name": "stdout",
     "text": [
      "소인수: 5\n",
      "소인수: 67\n",
      "소인수: 4519\n"
     ]
    }
   ],
   "metadata": {}
  },
  {
   "cell_type": "code",
   "execution_count": 16,
   "source": [
    "# 72에 x를 곱하면 y의 제곱이 된다고 할 때, x에 해당하는 가장 작은 정수를 구하자.\n",
    "## = 소인수 분해했을 때 홀수개인 약수를 한번 더 곱해주면 그 수의 제곱이 될 수 있음.\n",
    "\n",
    "inputNum4 = int(input(\"0보다 큰 정수 입력\"))\n",
    "\n",
    "n=2\n",
    "searchNumbers = []\n",
    "while n <= inputNum4 :\n",
    "    if inputNum4 % n == 0:\n",
    "        print(\"소인수: {}\".format(n))\n",
    "        if searchNumbers.count(n) ==  0:\n",
    "            searchNumbers.append(n)\n",
    "        elif searchNumbers.count(n) == 1:\n",
    "            searchNumbers.remove(n)\n",
    "        inputNum4 /= n\n",
    "    else :\n",
    "        n += 1\n",
    "\n",
    "print(\"searchNumbers : {}\".format(searchNumbers))"
   ],
   "outputs": [
    {
     "output_type": "stream",
     "name": "stdout",
     "text": [
      "소인수: 2\n",
      "소인수: 2\n",
      "소인수: 3\n",
      "소인수: 5\n",
      "소인수: 5\n",
      "searchNumbers : [3]\n"
     ]
    }
   ],
   "metadata": {}
  },
  {
   "cell_type": "markdown",
   "source": [
    "### 공약수와 최대공약수"
   ],
   "metadata": {}
  },
  {
   "cell_type": "code",
   "execution_count": 49,
   "source": [
    "# 두 개의 수를 입력하면 공약수와 최대공약수를 출력하는 코드를 작성하자\n",
    "\n",
    "num1 = int(input(\"1보다 큰 정수 입력 (1): \"))\n",
    "num2 = int(input(\"1보다 큰 정수 입력 (2): \"))\n",
    "maxNum = 0\n",
    "\n",
    "for i in range(1, (num1+1)):\n",
    "    if num1 % i == 0 and num2 % i == 0:\n",
    "        print(\"공약수 : {}\".format(i))\n",
    "        maxNum = i\n",
    "\n",
    "print(\"최대공약수: {}\".format(maxNum))"
   ],
   "outputs": [
    {
     "output_type": "stream",
     "name": "stdout",
     "text": [
      "공약수 : 1\n",
      "공약수 : 2\n",
      "공약수 : 3\n",
      "공약수 : 4\n",
      "공약수 : 6\n",
      "공약수 : 12\n",
      "최대공약수: 12\n"
     ]
    }
   ],
   "metadata": {}
  },
  {
   "cell_type": "code",
   "execution_count": 52,
   "source": [
    "# 세 개의 수를 입력하면 공약수와 최대공약수를 출력하는 코드를 작성하자\n",
    "\n",
    "num1 = int(input(\"1보다 큰 정수입력 (1): \"))\n",
    "num2 = int(input(\"1보다 큰 정수입력 (2): \"))\n",
    "num3 = int(input(\"1보다 큰 정수입력 (3): \"))\n",
    "\n",
    "for i in range(1, num1+1):\n",
    "    if num1 % i == 0 and num2 % i == 0 and num3 % i == 0:\n",
    "        print(\"공약수: {}\".format(i))\n",
    "        maxNum = i\n",
    "print(\"최대공약수: {}\".format(maxNum))"
   ],
   "outputs": [
    {
     "output_type": "stream",
     "name": "stdout",
     "text": [
      "공약수: 1\n",
      "공약수: 5\n",
      "최대공약수: 5\n"
     ]
    }
   ],
   "metadata": {}
  },
  {
   "cell_type": "markdown",
   "source": [
    "### + 유클리드 호제법"
   ],
   "metadata": {}
  },
  {
   "cell_type": "code",
   "execution_count": 19,
   "source": [
    "num1 = int(input(\"1보다 큰 정수 입력 (1): \"))\n",
    "num2 = int(input(\"1보다 큰 정수 입력 (2): \"))\n",
    "\n",
    "temp1 = num1 ; temp2 = num2 \n",
    "\n",
    "while temp2 > 0 :\n",
    "    temp = temp2\n",
    "    temp2 = temp1 % temp2\n",
    "    temp1 = temp\n",
    "\n",
    "print(\"{}, {}의 최대공약수 : {}\".format(num1, num2, temp1))\n",
    "\n",
    "for n in range (1, (temp1+1)):\n",
    "    if temp1 % n == 0:\n",
    "        print(\"{}, {}의 공약수: {}\".format(num1, num2, n))\n"
   ],
   "outputs": [
    {
     "output_type": "stream",
     "name": "stdout",
     "text": [
      "20, 30의 최대공약수 : 10\n",
      "20, 30의 공약수: 1\n",
      "20, 30의 공약수: 2\n",
      "20, 30의 공약수: 5\n",
      "20, 30의 공약수: 10\n"
     ]
    }
   ],
   "metadata": {}
  },
  {
   "cell_type": "markdown",
   "source": [
    "### 공배수와 최소공배수"
   ],
   "metadata": {}
  },
  {
   "cell_type": "code",
   "execution_count": 35,
   "source": [
    "num1 = int(input(\"1보다 큰 정수 입력 (1): \"))\n",
    "num2 = int(input(\"1보다 큰 정수 입력 (2): \"))\n",
    "maxNum = 0\n",
    "\n",
    "for i in range(1, (num1 + 1)):\n",
    "    if num1 % i == 0 and num2 % i == 0:\n",
    "        print(\"공약수: {}\".format(i))\n",
    "        maxNum = i\n",
    "\n",
    "print(\"최대공약수: {}\".format(maxNum))\n",
    "\n",
    "minNum = (num1 * num2) // maxNum\n",
    "print(\"최소공배수: {}\".format(minNum))"
   ],
   "outputs": [
    {
     "output_type": "stream",
     "name": "stdout",
     "text": [
      "공약수: 1\n",
      "공약수: 5\n",
      "최대공약수: 5\n",
      "최소공배수: 10\n"
     ]
    }
   ],
   "metadata": {}
  },
  {
   "cell_type": "code",
   "execution_count": 33,
   "source": [
    "num1 = int(input(\"1보다 큰 정수입력 (1): \"))\n",
    "num2 = int(input(\"1보다 큰 정수입력 (2): \"))\n",
    "num3 = int(input(\"1보다 큰 정수입력 (3): \"))\n",
    "maxNum = 0\n",
    "\n",
    "for i in range(1, (num1 + 1)):\n",
    "    if num1 % i == 0 and num2 % i == 0:\n",
    "        maxNum = i\n",
    "\n",
    "print(\"최대공약수: {}\".format(maxNum))\n",
    "\n",
    "minNum = (num1 * num2) // maxNum\n",
    "print(\"{}, {}의 최소공배수: {}\".format(num1, num2, minNum))\n",
    "\n",
    "newNum = minNum\n",
    "for i in range(1, (newNum + 1)):\n",
    "    if newNum % i == 0 and num3 % i == 0:\n",
    "        maxNum = i\n",
    "\n",
    "print(\"최대공약수: {}\".format(maxNum))\n",
    "\n",
    "minNum = (newNum * num3) // maxNum\n",
    "print(\"{}, {}, {}의 최소공배수: {}\".format(num1, num2, num3, minNum))"
   ],
   "outputs": [
    {
     "output_type": "stream",
     "name": "stdout",
     "text": [
      "최대공약수: 6\n",
      "6, 12의 최소공배수: 12\n",
      "최대공약수: 6\n",
      "6, 12, 18의 최소공배수: 36\n"
     ]
    }
   ],
   "metadata": {}
  },
  {
   "cell_type": "code",
   "execution_count": 41,
   "source": [
    "# 섬마을에 과일, 생선, 야채를 판매하는 배가 다음 주기로 입항한다고 할 때,\n",
    "#  모든 배가 입항하는 날짜를 계산해보자. (최소공배수)\n",
    "## 과일 선백 : 3일 주기, 생선 선박 : 4일 주기, 야채 선박 : 5일 주기\u001c\n",
    "\n",
    "num1 = 3\n",
    "num2 = 4\n",
    "num3 = 5\n",
    "maxNum = 0\n",
    "\n",
    "for i in range(1, (num1+1)):\n",
    "    if num1 % i == 0 and num2 % i == 0:\n",
    "        maxNum = i\n",
    "\n",
    "print(\"최대공약수: {}\".format(maxNum))\n",
    "\n",
    "minNum = (num1 * num2) // maxNum\n",
    "print(\"{}, {}의 최소공배수: {}\".format(num1, num2, minNum))\n",
    "\n",
    "newNum = minNum\n",
    "for i in range(1, (newNum + 1)):\n",
    "    if newNum % i == 0 and num3 % i == 0:\n",
    "        maxNum = i\n",
    "\n",
    "print(\"최대공약수: {}\".format(maxNum))\n",
    "\n",
    "minNum = (newNum * num3) // maxNum\n",
    "print(\"{}, {}, {}의 최소공배수: {}\".format(num1, num2, num3, minNum))\n",
    "\n",
    "print(\"{}일마다 모든 선박이 입항합니다.\".format(minNum))"
   ],
   "outputs": [
    {
     "output_type": "stream",
     "name": "stdout",
     "text": [
      "최대공약수: 1\n",
      "3, 4의 최소공배수: 12\n",
      "최대공약수: 1\n",
      "3, 4, 5의 최소공배수: 60\n",
      "60일마다 모든 선박이 입항합니다.\n"
     ]
    }
   ],
   "metadata": {}
  },
  {
   "cell_type": "markdown",
   "source": [
    "### 진법\n",
    "#### binary : bin() : 2진수 : 0b .... \n",
    "#### octal : oct() : 8진수 : 0o .... \n",
    "#### Hexadecimal : hex() : 16진수 : 0x .... \n",
    "#### (2, 8, 16진수로 표현된 숫자는 문자형 데이터형을 띄고 있음)"
   ],
   "metadata": {}
  },
  {
   "cell_type": "code",
   "execution_count": 2,
   "source": [
    "dNum = 30   # \"#\"은 상징적인 문자 표현해줌. 0b, 0o, 0x\n",
    "\n",
    "print(\"2진수: {}\".format(bin(dNum))) # foramt(dNum, '#b') # \"2진수: {0:#b} \n",
    "print(\"8진수: {}\".format(oct(dNum))) # foramt(dNum, '#o') # \"8진수: {0:#o}\n",
    "print(\"16진수: {}\".format(hex(dNum))) # format(dNum, '#x') # \"16진수: {0:#x}"
   ],
   "outputs": [
    {
     "output_type": "stream",
     "name": "stdout",
     "text": [
      "2진수: 0b11110\n",
      "8진수: 0o36\n",
      "16진수: 0x1e\n"
     ]
    }
   ],
   "metadata": {}
  },
  {
   "cell_type": "code",
   "execution_count": 53,
   "source": [
    "#x진수 -> 10진수로 변환\n",
    "print(\"2진수: 0b11110 -> 10진수: {}\".format(int('0b11110', 2)))\n",
    "print(\"8진수: 0o36 -> 10진수: {}\".format(int('0o21', 8)))\n",
    "print(\"16진수: 0x1e -> 10진수: {}\".format(int('0x1e', 16)))"
   ],
   "outputs": [
    {
     "output_type": "stream",
     "name": "stdout",
     "text": [
      "2진수: 0b11110 -> 10진수: 30\n",
      "8진수: 0o36 -> 10진수: 17\n",
      "16진수: 0x1e -> 10진수: 30\n"
     ]
    }
   ],
   "metadata": {}
  },
  {
   "cell_type": "markdown",
   "source": [
    "### 등차수열 실습"
   ],
   "metadata": {}
  },
  {
   "cell_type": "code",
   "execution_count": 10,
   "source": [
    "inputN1 = int(input(\"a1 입력:\"))\n",
    "inputD = int(input(\"공차 입력:\"))\n",
    "inputN = int(input(\"n 입력:\"))\n",
    "\n",
    "valueN = 0\n",
    "n = 1\n",
    "while n <= inputN:\n",
    "    if n==1 :\n",
    "        valueN = inputN1\n",
    "        print('{}번째 항의 값: {}'.format(n, valueN))\n",
    "        n+=1\n",
    "        continue\n",
    "\n",
    "    valueN += inputD\n",
    "    print('{}번째 항의 값: {}'.format(n, valueN))\n",
    "    n += 1\n",
    "\n",
    "\n",
    "print('{}번째 항의 값: {}'.format(inputN, valueN))\n",
    "\n",
    "# 등차수열 일반항 공식 활용\n",
    "valueN = inputN1 + (inputN-1) * inputDå\n",
    "print('{}번째 항의 값: {}'.format(inputN, valueN))"
   ],
   "outputs": [
    {
     "output_type": "stream",
     "name": "stdout",
     "text": [
      "1번째 항의 값: 5\n",
      "2번째 항의 값: 9\n",
      "3번째 항의 값: 13\n",
      "4번째 항의 값: 17\n",
      "5번째 항의 값: 21\n",
      "6번째 항의 값: 25\n",
      "7번째 항의 값: 29\n",
      "7번째 항의 값: 29\n",
      "7번째 항의 값: 29\n"
     ]
    }
   ],
   "metadata": {}
  },
  {
   "cell_type": "code",
   "execution_count": 13,
   "source": [
    "# n번째 항 까지의 합을 구하기\n",
    "\n",
    "inputN1 = int(input(\"a1 입력:\"))\n",
    "inputD = int(input(\"공차 입력:\"))\n",
    "inputN = int(input(\"n 입력:\"))\n",
    "\n",
    "valueN = 0\n",
    "sumN = 0\n",
    "n = 1\n",
    "while n <= inputN:\n",
    "    if n==1 :\n",
    "        valueN = inputN1\n",
    "        sumN += valueN\n",
    "        print('{}번째 항의 값의 합: {}'.format(n, sumN))\n",
    "        n+=1\n",
    "        continue\n",
    "\n",
    "    valueN += inputD\n",
    "    sumN += valueN\n",
    "    print('{}번째 항의 값의 합: {}'.format(n, sumN))\n",
    "    n += 1\n",
    "\n",
    "\n",
    "print('{}번째 항의 값의 합: {}'.format(inputN, sumN))\n",
    "\n",
    "# 등차수열 일반항 공식 활용\n",
    "valueN = inputN1 + (inputN-1) * inputD\n",
    "sumN = inputN * (inputN1 + valueN) /2\n",
    "print('{}번째 항의 값의 합: {}'.format(inputN, int(sumN)))\n"
   ],
   "outputs": [
    {
     "output_type": "stream",
     "name": "stdout",
     "text": [
      "1번째 항의 값의 합: 5\n",
      "2번째 항의 값의 합: 14\n",
      "3번째 항의 값의 합: 27\n",
      "4번째 항의 값의 합: 44\n",
      "5번째 항의 값의 합: 65\n",
      "6번째 항의 값의 합: 90\n",
      "7번째 항의 값의 합: 119\n",
      "7번째 항의 값의 합: 119\n",
      "7번째 항의 값: 119\n"
     ]
    }
   ],
   "metadata": {}
  },
  {
   "cell_type": "markdown",
   "source": [
    "### 등비수열"
   ],
   "metadata": {}
  },
  {
   "cell_type": "code",
   "execution_count": 19,
   "source": [
    "inputN1 = int(input(\"a1 입력:\"))\n",
    "inputR = int(input(\"공비 입력:\"))\n",
    "inputN = int(input(\"n 입력:\"))\n",
    "\n",
    "valueN = 0\n",
    "n = 1\n",
    "while n <= inputN:\n",
    "    if n==1 :\n",
    "        valueN = inputN1\n",
    "        print('{}번째 항의 값: {}'.format(n, valueN))\n",
    "        n+=1\n",
    "        continue\n",
    "\n",
    "    valueN *= inputR\n",
    "    print('{}번째 항의 값: {}'.format(n, valueN))\n",
    "    n += 1\n",
    "\n",
    "\n",
    "print('{}번째 항의 값: {}'.format(inputN, valueN))\n",
    "\n",
    "# 등비수열 일반항 공식 활용\n",
    "valueN = inputN1 * (inputR ** (inputN-1))\n",
    "print('{}번째 항의 값: {}'.format(inputN, valueN))"
   ],
   "outputs": [
    {
     "output_type": "stream",
     "name": "stdout",
     "text": [
      "1번째 항의 값: 2\n",
      "2번째 항의 값: 4\n",
      "3번째 항의 값: 8\n",
      "4번째 항의 값: 16\n",
      "5번째 항의 값: 32\n",
      "6번째 항의 값: 64\n",
      "7번째 항의 값: 128\n",
      "7번째 항의 값: 128\n",
      "7번째 항의 값: 128\n"
     ]
    }
   ],
   "metadata": {}
  },
  {
   "cell_type": "code",
   "execution_count": 22,
   "source": [
    "# n번째 항 까지의 합을 구하기\n",
    "\n",
    "inputN1 = int(input(\"a1 입력:\"))\n",
    "inputR = int(input(\"공비 입력:\"))\n",
    "inputN = int(input(\"n 입력:\"))\n",
    "\n",
    "valueN = 0\n",
    "sumN = 0\n",
    "n = 1\n",
    "while n <= inputN:\n",
    "    if n==1 :\n",
    "        valueN = inputN1\n",
    "        sumN += valueN\n",
    "        print('{}번째 항의 값의 합: {}'.format(n, sumN))\n",
    "        n+=1\n",
    "        continue\n",
    "\n",
    "    valueN *= inputR\n",
    "    sumN += valueN\n",
    "    print('{}번째 항의 값의 합: {}'.format(n, sumN))\n",
    "    n += 1\n",
    "\n",
    "\n",
    "print('{}번째 항의 값의 합: {}'.format(inputN, sumN))\n",
    "\n",
    "# 등비수열 일반항 공식 활용 Sn = A1 * (1-(r^n)) / (1-r) \n",
    "valueN = inputN1 + (inputR**(inputN-1))\n",
    "sumN = inputN1 * (1-(inputR ** inputN)) / (1-inputR)\n",
    "print('{}번째 항의 값의 합: {}'.format(inputN, int(sumN)))\n"
   ],
   "outputs": [
    {
     "output_type": "stream",
     "name": "stdout",
     "text": [
      "1번째 항의 값의 합: 5\n",
      "2번째 항의 값의 합: 20\n",
      "3번째 항의 값의 합: 65\n",
      "4번째 항의 값의 합: 200\n",
      "5번째 항의 값의 합: 605\n",
      "6번째 항의 값의 합: 1820\n",
      "7번째 항의 값의 합: 5465\n",
      "7번째 항의 값의 합: 5465\n",
      "7번째 항의 값의 합: 5465\n"
     ]
    }
   ],
   "metadata": {}
  }
 ],
 "metadata": {
  "orig_nbformat": 4,
  "language_info": {
   "name": "python",
   "version": "3.8.12",
   "mimetype": "text/x-python",
   "codemirror_mode": {
    "name": "ipython",
    "version": 3
   },
   "pygments_lexer": "ipython3",
   "nbconvert_exporter": "python",
   "file_extension": ".py"
  },
  "kernelspec": {
   "name": "python3",
   "display_name": "Python 3.8.12 64-bit ('ds_study': conda)"
  },
  "interpreter": {
   "hash": "9dab925e62535ecf9adda54c57de77b745094700fe61e7b8328fda3c55de33cf"
  }
 },
 "nbformat": 4,
 "nbformat_minor": 2
}