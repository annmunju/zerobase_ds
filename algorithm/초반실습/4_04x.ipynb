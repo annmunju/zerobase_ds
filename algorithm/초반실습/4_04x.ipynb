{
 "cells": [
  {
   "cell_type": "markdown",
   "source": [
    "## 리스트 자료구조\n",
    "\n",
    "- 1부터 사용자가 입력한 숫자까지의 약수와 소수를 리스트에 각각저장하고 출력하는 프로그램을 만들어보자."
   ],
   "metadata": {}
  },
  {
   "cell_type": "code",
   "execution_count": 10,
   "source": [
    "inputNum = int(input(\"1보다 큰 숫자를 입력하세요: \"))\n",
    "\n",
    "lsA = []\n",
    "lsB = []\n",
    "\n",
    "for i in range(1, inputNum+1):\n",
    "    if inputNum % i == 0:\n",
    "        lsA.append(i)\n",
    "    \n",
    "print(lsA)\n",
    "\n",
    "for i in range(2, inputNum+1):\n",
    "    flag = True\n",
    "    for n in range(2, i):\n",
    "        if i % n == 0 :\n",
    "            flag=False\n",
    "            break\n",
    "\n",
    "    if flag : lsB.append(i)\n",
    "\n",
    "print(lsB)"
   ],
   "outputs": [
    {
     "output_type": "stream",
     "name": "stdout",
     "text": [
      "[1, 2, 5, 10, 25, 50]\n",
      "[2, 3, 5, 7, 11, 13, 17, 19, 23, 29, 31, 37, 41, 43, 47]\n"
     ]
    }
   ],
   "metadata": {}
  },
  {
   "cell_type": "markdown",
   "source": [
    "- 1부터 100사이 난수 10개 생성 후 짝수 홀수 구분해서\n",
    "리스트에 저장하고 각각의 개수를 출력하는 프로그램 만들기"
   ],
   "metadata": {}
  },
  {
   "cell_type": "code",
   "execution_count": 71,
   "source": [
    "import random"
   ],
   "outputs": [],
   "metadata": {}
  },
  {
   "cell_type": "code",
   "execution_count": 72,
   "source": [
    "randomls = sample(range(1, 101), 10)\n",
    "evens = []\n",
    "odds = []\n",
    "\n",
    "for i in randomls:\n",
    "    if i % 2 == 0:\n",
    "        evens.append(i)\n",
    "    else: odds.append(i)\n",
    "\n",
    "print('짝:{}, 갯수:{}'.format(evens, len(evens)))\n",
    "print('홀:{}, 갯수:{}'.format(odds, len(odds)))"
   ],
   "outputs": [
    {
     "output_type": "stream",
     "name": "stdout",
     "text": [
      "짝:[28, 32, 80, 92, 38, 46, 94], 갯수:7\n",
      "홀:[33, 77, 31], 갯수:3\n"
     ]
    }
   ],
   "metadata": {}
  },
  {
   "cell_type": "markdown",
   "source": [
    "- 공원 입장료 표 (영유아 0~7세 무료 / 어린이 8~13세 200 / 청소년 14~19세 / 성인 20~64세 500 / 어르신 65세 무료)\n",
    "- 1일 총 입장객 100명이라 할 때 전체 입장 요금을 구하는 프로그램 만들기\n",
    "- 입장 고객 나이는 난수를 이용한다."
   ],
   "metadata": {}
  },
  {
   "cell_type": "code",
   "execution_count": 79,
   "source": [
    "custLs = []\n",
    "\n",
    "for one in range(100):\n",
    "    cust = random.randrange(1, 80)\n",
    "    custLs.append(cust)\n",
    "\n",
    "feeLs = [0, 200, 300, 500, 0]\n",
    "feeSum = []\n",
    "custCnt = [0, 0, 0, 0, 0]\n",
    "custClass = ['영유아', '어린이', '청소년', '성인', '어르신']\n",
    "\n",
    "for i in custLs:\n",
    "    if i < 8 : \n",
    "        custCnt[0] += 1\n",
    "    elif i >= 8 and i < 14 :\n",
    "        custCnt[1] += 1\n",
    "    elif i >= 14 and i < 20 :\n",
    "        custCnt[2] += 1\n",
    "    elif i >= 20 and i < 65 :\n",
    "        custCnt[3] += 1\n",
    "    else : \n",
    "        custCnt[4] += 1\n",
    "\n",
    "for m in range(5):\n",
    "    feeSum.append(custCnt[m]*feeLs[m])\n",
    "\n",
    "print('-'*30)\n",
    "for n in range(5):\n",
    "    print('{}\\t: {}명\\t: {}원'.format(custClass[n], custCnt[n], feeSum[n]))\n",
    "print('-'*30)\n",
    "print('1일 요금 총합계: {}원'.format(format(sum(feeSum),',')))\n",
    "print('-'*30)   "
   ],
   "outputs": [
    {
     "output_type": "stream",
     "name": "stdout",
     "text": [
      "------------------------------\n",
      "영유아\t: 8명\t: 0원\n",
      "어린이\t: 4명\t: 800원\n",
      "청소년\t: 5명\t: 1500원\n",
      "성인\t: 64명\t: 32000원\n",
      "어르신\t: 19명\t: 0원\n",
      "------------------------------\n",
      "1일 요금 총합계: 34,300원\n",
      "------------------------------\n"
     ]
    }
   ],
   "metadata": {}
  },
  {
   "cell_type": "markdown",
   "source": [
    "- 친구 이름 다섯 명을 리스트에 저장하고 오름차순과 내림차순으로 정렬해보자."
   ],
   "metadata": {}
  },
  {
   "cell_type": "code",
   "execution_count": 84,
   "source": [
    "friendLs = []\n",
    "for i in range(5):\n",
    "    friend = input(\"친구 이름 입력:\")\n",
    "    friendLs.append(friend)\n",
    "\n",
    "print(\"친구들 : {}\".format(friendLs))\n",
    "print(\"오름차순 : {}\".format(sorted(friendLs)))\n",
    "print(\"내림차순 : {}\".format(sorted(friendLs,reverse=True)))"
   ],
   "outputs": [
    {
     "output_type": "stream",
     "name": "stdout",
     "text": [
      "친구들 : ['박찬호', '홍길동', '유재석', '강호동', '박지성']\n",
      "오름차순 : ['강호동', '박지성', '박찬호', '유재석', '홍길동']\n",
      "내림차순 : ['홍길동', '유재석', '박찬호', '박지성', '강호동']\n"
     ]
    }
   ],
   "metadata": {}
  },
  {
   "cell_type": "markdown",
   "source": [
    "- 리스트에서 중복 아이템(숫자)을 제거하는 프로그램을 만들어보자"
   ],
   "metadata": {}
  },
  {
   "cell_type": "code",
   "execution_count": 86,
   "source": [
    "numbers = [2, 22, 7, 8, 9, 2, 7, 3, 5, 2, 7, 1, 3]\n",
    "\n",
    "for i in numbers :\n",
    "    if numbers.count(i) >=2 :\n",
    "        numbers.remove(i)\n",
    "\n",
    "print(numbers)"
   ],
   "outputs": [
    {
     "output_type": "stream",
     "name": "stdout",
     "text": [
      "[22, 8, 9, 5, 2, 7, 1, 3]\n"
     ]
    }
   ],
   "metadata": {}
  },
  {
   "cell_type": "markdown",
   "source": [
    "- 4개의 숫자 중 서로 다른 숫자 2개를 선택해서 만들 수 있는 모든 경우의 수를 출력하는 프로그램을 만들어보자."
   ],
   "metadata": {}
  },
  {
   "cell_type": "code",
   "execution_count": 89,
   "source": [
    "numbers = [4, 6, 7, 9]\n",
    "result = []\n",
    "\n",
    "for i in numbers:\n",
    "    for j in numbers:\n",
    "        if i==j: continue\n",
    "        result.append([i,j])\n",
    "\n",
    "print(result, len(result))"
   ],
   "outputs": [
    {
     "output_type": "stream",
     "name": "stdout",
     "text": [
      "[[4, 6], [4, 7], [4, 9], [6, 4], [6, 7], [6, 9], [7, 4], [7, 6], [7, 9], [9, 4], [9, 6], [9, 7]] 12\n"
     ]
    }
   ],
   "metadata": {}
  },
  {
   "cell_type": "markdown",
   "source": [
    "- 4개의 숫자 중 서로 다른 숫자 3개를 선택해서 만들 수 있는 모든 경우의 수를 출력하는 프로그램을 만들어보자."
   ],
   "metadata": {}
  },
  {
   "cell_type": "code",
   "execution_count": 92,
   "source": [
    "numbers = [4, 6, 7, 9]\n",
    "result = []\n",
    "\n",
    "for n1 in numbers:\n",
    "    for n2 in numbers:\n",
    "        for n3 in numbers:\n",
    "            if n1==n2 or n2==n3 or n1==n3 : continue\n",
    "            result.append([n1,n2,n3])\n",
    "\n",
    "print(result, len(result))"
   ],
   "outputs": [
    {
     "output_type": "stream",
     "name": "stdout",
     "text": [
      "[[4, 6, 7], [4, 6, 9], [4, 7, 6], [4, 7, 9], [4, 9, 6], [4, 9, 7], [6, 4, 7], [6, 4, 9], [6, 7, 4], [6, 7, 9], [6, 9, 4], [6, 9, 7], [7, 4, 6], [7, 4, 9], [7, 6, 4], [7, 6, 9], [7, 9, 4], [7, 9, 6], [9, 4, 6], [9, 4, 7], [9, 6, 4], [9, 6, 7], [9, 7, 4], [9, 7, 6]] 24\n"
     ]
    }
   ],
   "metadata": {}
  },
  {
   "cell_type": "markdown",
   "source": [
    "## 튜플 자료구조\n",
    "\n",
    "- 자주 접속하는 웹사이트 비번을 튜플에 저장해보자."
   ],
   "metadata": {}
  },
  {
   "cell_type": "code",
   "execution_count": 93,
   "source": [
    "passwds = ('a12345', 'passw', 'hello')\n",
    "\n",
    "print(passwds)"
   ],
   "outputs": [
    {
     "output_type": "stream",
     "name": "stdout",
     "text": [
      "('a12345', 'passw', 'hello')\n"
     ]
    }
   ],
   "metadata": {}
  },
  {
   "cell_type": "markdown",
   "source": [
    "- 대학생 길동이의 1, 2, 3학년 성적을 바탕으로, 졸업시 4.0 이상의 학점을 받기 위해 길동이가 받아야 하는 4학년 1,2 학기의 최소 학점을 구해보자."
   ],
   "metadata": {}
  },
  {
   "cell_type": "code",
   "execution_count": 126,
   "source": [
    "scores = ((3.7, 4.2), (2.9, 4.3), (4.1, 4.2))\n",
    "scoreSum = 0\n",
    "\n",
    "for i in scores:\n",
    "    scoreSum += sum(i)\n",
    "\n",
    "print(\"3학년 총학점: {}\".format(scoreSum))\n",
    "print(\"3학년 평균: {}\".format(scoreSum/len(scores)))\n",
    "print(\"-\"*30)\n",
    "\n",
    "goalScore = 4.0 * 8\n",
    "fourGoal = round(goalScore - scoreSum,1)\n",
    "\n",
    "print(\"4학년 목표 총학점: {}\".format(fourGoal))\n",
    "print(\"4학년 한학기 최소학점: {}\".format(fourGoal/2))\n",
    "print(\"-\"*30)\n",
    "\n",
    "fourScore = ((fourGoal/2, fourGoal/2),)\n",
    "scores += fourScore\n",
    "\n",
    "print(\"scores: {}\".format(scores))"
   ],
   "outputs": [
    {
     "output_type": "stream",
     "name": "stdout",
     "text": [
      "3학년 총학점: 23.4\n",
      "3학년 평균: 7.8\n",
      "------------------------------\n",
      "4학년 목표 총학점: 8.6\n",
      "4학년 한학기 최소학점: 4.3\n",
      "------------------------------\n",
      "scores: ((3.7, 4.2), (2.9, 4.3), (4.1, 4.2), (4.3, 4.3))\n"
     ]
    }
   ],
   "metadata": {}
  },
  {
   "cell_type": "markdown",
   "source": [
    "- 다음 2개의 튜플에 대해서 합집합과 교집합을 출력해보자."
   ],
   "metadata": {}
  },
  {
   "cell_type": "code",
   "execution_count": 141,
   "source": [
    "tuple1 = (1, 3, 2, 6, 12, 5, 7, 8)\n",
    "tuple2 = (0, 5, 2, 9, 8, 6, 17, 3)\n",
    "intersection = []\n",
    "union = []\n",
    "\n",
    "for i in tuple1 :\n",
    "    for j in tuple2 :\n",
    "        if i == j and i not in intersection :\n",
    "            intersection.append(i)\n",
    "intersection = tuple(intersection)\n",
    "\n",
    "print(intersection)\n",
    "\n",
    "for i in tuple1 :\n",
    "    for j in tuple2 :\n",
    "\n",
    "            \n",
    "\n",
    "union = tuple(union)\n",
    "\n",
    "print(union)\n"
   ],
   "outputs": [
    {
     "output_type": "stream",
     "name": "stdout",
     "text": [
      "(3, 2, 6, 5, 8)\n",
      "(1, 0, 1, 5, 1, 2, 1, 9, 1, 8, 1, 6, 1, 17, 1, 3)\n"
     ]
    }
   ],
   "metadata": {}
  },
  {
   "cell_type": "markdown",
   "source": [
    "- 다음 튜플을 요구 사항에 맞춰 아이템을 슬라이스하자"
   ],
   "metadata": {}
  },
  {
   "cell_type": "code",
   "execution_count": 143,
   "source": [
    "numbers = (8.7, 9.0, 9.1, 9.2, 8.6, 9.3, 7.9, 8.1, 8.3)\n",
    "\n",
    "numbers[:4]\n",
    "numbers[2:5]\n",
    "numbers[3:]\n",
    "numbers[2:-1] #index 2부터 뒤에서 -2까지\n",
    "numbers[::3]"
   ],
   "outputs": [
    {
     "output_type": "execute_result",
     "data": {
      "text/plain": [
       "(8.7, 9.2, 7.9)"
      ]
     },
     "metadata": {},
     "execution_count": 143
    }
   ],
   "metadata": {}
  },
  {
   "cell_type": "markdown",
   "source": [
    "- 시험 점수를 입력한 후 튜플에 저장하고 과목별 학점을 출력해보자."
   ],
   "metadata": {}
  },
  {
   "cell_type": "code",
   "execution_count": 145,
   "source": [
    "kor = int(input(\"국어 점수 입력: \"))\n",
    "eng = int(input(\"영어 점수 입력: \"))\n",
    "mat = int(input(\"수학 점수 입력: \"))\n",
    "sci = int(input(\"과학 점수 입력: \"))\n",
    "his = int(input(\"역사 점수 입력: \"))\n",
    "\n",
    "scores = ({'kor':kor}, {'eng':eng}, {'mat':mat}, {'sci':sci},{'his':his})\n",
    "\n",
    "print(scores)"
   ],
   "outputs": [
    {
     "output_type": "stream",
     "name": "stdout",
     "text": [
      "({'kor': 92}, {'eng': 86}, {'mat': 77}, {'sci': 68}, {'his': 54})\n"
     ]
    }
   ],
   "metadata": {}
  },
  {
   "cell_type": "markdown",
   "source": [
    "- 다음 튜플의 시험 점수에 대해서 오름차순 및 내림차순으로 정렬해보자."
   ],
   "metadata": {}
  },
  {
   "cell_type": "code",
   "execution_count": 148,
   "source": [
    "# 위 문제의 scores와 동일\n",
    "scores = ({'kor': 92}, {'eng': 86}, {'mat': 77}, {'sci': 68}, {'his': 54})\n",
    "sort_scores=sorted(scores)\n",
    "\n"
   ],
   "outputs": [
    {
     "output_type": "error",
     "ename": "TypeError",
     "evalue": "'<' not supported between instances of 'dict' and 'dict'",
     "traceback": [
      "\u001b[0;31m---------------------------------------------------------------------------\u001b[0m",
      "\u001b[0;31mTypeError\u001b[0m                                 Traceback (most recent call last)",
      "\u001b[0;32m/var/folders/1w/gwcwvn0s6d1b31t9w4yydlh80000gn/T/ipykernel_2492/1814282433.py\u001b[0m in \u001b[0;36m<module>\u001b[0;34m\u001b[0m\n\u001b[1;32m      1\u001b[0m \u001b[0;31m# 위 문제의 scores와 동일\u001b[0m\u001b[0;34m\u001b[0m\u001b[0;34m\u001b[0m\u001b[0;34m\u001b[0m\u001b[0m\n\u001b[1;32m      2\u001b[0m \u001b[0mscores\u001b[0m \u001b[0;34m=\u001b[0m \u001b[0;34m(\u001b[0m\u001b[0;34m{\u001b[0m\u001b[0;34m'kor'\u001b[0m\u001b[0;34m:\u001b[0m \u001b[0;36m92\u001b[0m\u001b[0;34m}\u001b[0m\u001b[0;34m,\u001b[0m \u001b[0;34m{\u001b[0m\u001b[0;34m'eng'\u001b[0m\u001b[0;34m:\u001b[0m \u001b[0;36m86\u001b[0m\u001b[0;34m}\u001b[0m\u001b[0;34m,\u001b[0m \u001b[0;34m{\u001b[0m\u001b[0;34m'mat'\u001b[0m\u001b[0;34m:\u001b[0m \u001b[0;36m77\u001b[0m\u001b[0;34m}\u001b[0m\u001b[0;34m,\u001b[0m \u001b[0;34m{\u001b[0m\u001b[0;34m'sci'\u001b[0m\u001b[0;34m:\u001b[0m \u001b[0;36m68\u001b[0m\u001b[0;34m}\u001b[0m\u001b[0;34m,\u001b[0m \u001b[0;34m{\u001b[0m\u001b[0;34m'his'\u001b[0m\u001b[0;34m:\u001b[0m \u001b[0;36m54\u001b[0m\u001b[0;34m}\u001b[0m\u001b[0;34m)\u001b[0m\u001b[0;34m\u001b[0m\u001b[0;34m\u001b[0m\u001b[0m\n\u001b[0;32m----> 3\u001b[0;31m \u001b[0msort_scores\u001b[0m\u001b[0;34m=\u001b[0m\u001b[0msorted\u001b[0m\u001b[0;34m(\u001b[0m\u001b[0mscores\u001b[0m\u001b[0;34m)\u001b[0m\u001b[0;34m\u001b[0m\u001b[0;34m\u001b[0m\u001b[0m\n\u001b[0m\u001b[1;32m      4\u001b[0m \u001b[0;34m\u001b[0m\u001b[0m\n\u001b[1;32m      5\u001b[0m \u001b[0mprint\u001b[0m\u001b[0;34m(\u001b[0m\u001b[0msort_scores\u001b[0m\u001b[0;34m[\u001b[0m\u001b[0;36m0\u001b[0m\u001b[0;34m]\u001b[0m\u001b[0;34m)\u001b[0m\u001b[0;34m\u001b[0m\u001b[0;34m\u001b[0m\u001b[0m\n",
      "\u001b[0;31mTypeError\u001b[0m: '<' not supported between instances of 'dict' and 'dict'"
     ]
    }
   ],
   "metadata": {}
  },
  {
   "cell_type": "code",
   "execution_count": null,
   "source": [],
   "outputs": [],
   "metadata": {}
  }
 ],
 "metadata": {
  "orig_nbformat": 4,
  "language_info": {
   "name": "python",
   "version": "3.8.12",
   "mimetype": "text/x-python",
   "codemirror_mode": {
    "name": "ipython",
    "version": 3
   },
   "pygments_lexer": "ipython3",
   "nbconvert_exporter": "python",
   "file_extension": ".py"
  },
  "kernelspec": {
   "name": "python3",
   "display_name": "Python 3.8.12 64-bit ('ds_study': conda)"
  },
  "interpreter": {
   "hash": "9dab925e62535ecf9adda54c57de77b745094700fe61e7b8328fda3c55de33cf"
  }
 },
 "nbformat": 4,
 "nbformat_minor": 2
}