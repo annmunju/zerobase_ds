{
 "cells": [
  {
   "cell_type": "markdown",
   "metadata": {},
   "source": [
    "## 3-1 거스름돈\n",
    "당신은 음식점의 계산을 도와주는 점원이다.\n",
    "\n",
    "카운터에는 거스름돈으로 사용할 500원, 100원, 50원, 10원짜리 동전이 무한히 존재한다고 가정한다.\n",
    "\n",
    "손님에게 거슬러 줘야 할 돈이 N원일 때 거슬러줘야 할 동전의 최소 개수를 구하라. 단, 거슬러 줘야 할 돈 N은 항상 10의 배수이다."
   ]
  },
  {
   "cell_type": "code",
   "execution_count": 36,
   "metadata": {},
   "outputs": [
    {
     "name": "stdout",
     "output_type": "stream",
     "text": [
      "3920\n",
      "420\n",
      "20\n",
      "20\n",
      "0\n",
      "[7, 4, 0, 2] 13\n"
     ]
    }
   ],
   "source": [
    "N = int(input())\n",
    "print(N)\n",
    "\n",
    "coinLs = [500, 100, 50, 10]\n",
    "cntLs = []\n",
    "\n",
    "for i in coinLs :\n",
    "    cntLs.append(N//i)\n",
    "    N %= i\n",
    "    print(N)\n",
    "\n",
    "print(cntLs, sum(cntLs))"
   ]
  },
  {
   "cell_type": "markdown",
   "metadata": {},
   "source": [
    "## 3-2 큰 수의 법칙\n",
    "- 다양한 수로 이루어진 배열이 있을 때 주어진 수들을 M번 더하여 가장 큰 수를 만드는 법칙.\n",
    "- 입력 조건\n",
    "    - 배열의 크기 N (2 <= N <= 1000), M (1 <= M <= 10000), K (1 <= K <= 10000)의 자연수가 주어지며, 각 자연수는 공백으로 구분한다.\n",
    "    - 둘째 줄에 N개의 자연수가 주어진다. 각 자연수는 공백으로 구분한다. 단, 각각의 자연수는 1 이상 10000 이하의 수로 주어진다.\n",
    "    - 입력으로 주어지는 K는 항상 M보다 작거나 같다.\n",
    "- 출력 조건\n",
    "    - 첫째 줄에 큰 수의 법칙에 따라 더해진 답을 출력한다."
   ]
  },
  {
   "cell_type": "code",
   "execution_count": 92,
   "metadata": {},
   "outputs": [],
   "source": [
    "N, M, K = map(int, input(\"N M K 입력: \").split())\n",
    "numLs = list(map(int, input(\"자연수 입력: \").split()))"
   ]
  },
  {
   "cell_type": "code",
   "execution_count": 93,
   "metadata": {},
   "outputs": [
    {
     "name": "stdout",
     "output_type": "stream",
     "text": [
      "28\n"
     ]
    }
   ],
   "source": [
    "numLs.sort(reverse=True)\n",
    "N_1 = numLs[0]; N_2 = numLs[1]\n",
    "\n",
    "share = M//(K+1)\n",
    "remain = M%(K+1)\n",
    "\n",
    "result = (N_1 * K * share) + (N_2 * share) + (N_1 * remain)\n",
    "print(result)"
   ]
  },
  {
   "cell_type": "markdown",
   "metadata": {},
   "source": [
    "## 3-3 숫자 카드 게임\n",
    "- 숫자 카드 게임은 여러 개의 숫자 카드 중에서 가장 높은 숫자가 쓰인 카드 한 장을 뽑는 게임이다.\n",
    "- 단, 게임의 룰을 지키며 카드를 뽑아야 하고 룰은 다음과 같다.\n",
    "1. 숫자가 쓰인 카드들이 N x M 형태로 놓여 있다.\n",
    "이때 N 은 행의 개수를 의미하며, M은 열의 개수를 의미한다.\n",
    "2. 먼저 뽑고자 하는 카드가 포함되어 있는 행을 선택한다.\n",
    "3. 그다음 선택된 행에 포함된 카드들 중 가장 숫자가 낮은 카드를 뽑아야 한다.\n",
    "4. 따라서 처음에 카드를 골라낼 행을 선택할 때, 이후에 해당 행에서 가장 숫자가 낮은 카드를 뽑을 것을 고려하여\n",
    "최종적으로 가장 높은 숫자의 카드를 뽑을 수 있도록 전략을 세워야 한다.\n",
    "\n",
    "- 입력 조건\n",
    "    * 첫째 줄에 숫자 카드들이 놓인 행의 개수 N과 열의 개수 M이 공백을 기준으로 하여 각각 자연수로 주어진다. ( 1 <= N, M <= 100 )\n",
    "    * 둘째 줄부터 N개의 줄에 걸쳐 각 카드에 적힌 숫자가 주어진다.\n",
    "    각 숫자는 1 이상 10,000 이하의 자연수이다.\n",
    "\n",
    "- 출력 조건\n",
    "    * 첫째 줄에 게임의 룰에 맞게 선택한 카드에 적힌 숫자를 출력한다.\n"
   ]
  },
  {
   "cell_type": "code",
   "execution_count": 74,
   "metadata": {},
   "outputs": [],
   "source": [
    "N, M = map(int, input(\"N M 입력: \").split())\n",
    "numLs = []\n",
    "choiceLs = []\n",
    "\n",
    "for i in range(N):\n",
    "    numLs.append(list(map(int, input(\"자연수 입력: \").split())))\n"
   ]
  },
  {
   "cell_type": "code",
   "execution_count": 75,
   "metadata": {},
   "outputs": [
    {
     "name": "stdout",
     "output_type": "stream",
     "text": [
      "3\n"
     ]
    }
   ],
   "source": [
    "for n in range(N):\n",
    "    choiceLs.append(min(numLs[n]))\n",
    "\n",
    "print(max(choiceLs))"
   ]
  },
  {
   "cell_type": "markdown",
   "metadata": {},
   "source": [
    "## 3-4 1이 될 때 까지\n",
    "어떠한 수 N이 1이 될 때까지 다음의 두 과정 중 하나를 반복적으로 선택하여 수행하려고 한다.\n",
    "단, 두 번째 연산은 N이 K로 나누어떨어질 때만 선택할 수 있다.\n",
    "\n",
    "1. N 에서 1을 뺀다.\n",
    "2. N 을 K 로 나눈다.\n",
    "\n",
    "예를 들어, N 이 17, K가 4라고 가정하자. 이때 1번의 과정을 한 번 수행하면 N은 16이 된다.\n",
    "이후에 2번의 과정을 두 번 수행하면 N은 1이 된다. \n",
    "결과적으로 이 경우 전체 과정을 실행한 횟수는 3이 된다. 이는 N을 1로 만드는 최소 횟수이다.\n",
    "​\n",
    "N과 K가 주어질 때 N 이 1이 될 때까지 1번 혹은 2번의 과정을 수행해야 하는 최소 횟수를 구하는 프로그램을 작성하시오.\n",
    "\n",
    "입력 조건\n",
    "\n",
    "* 첫째 줄에 N ( 2 <= N <= 100,000) 과 K ( 2 <= K <= 100,000) 가 공백으로 구분되며 각각 자연수로 주어진다.\n",
    "이때 입력으로 주어지는 N은 항상 K보다 크거나 같다.\n",
    "\n",
    "출력 조건\n",
    "* 첫째 줄에 N이 1이 될 때까지 1번 혹은 2번의 과정을 수행해야 하는 횟수의 최솟값을 출력한다."
   ]
  },
  {
   "cell_type": "code",
   "execution_count": 85,
   "metadata": {},
   "outputs": [],
   "source": [
    "N, K = map(int, input(\"N K 입력: \").split())\n",
    "cnt = 0\n",
    "\n",
    "while N != 1:\n",
    "    if N%K == 0:\n",
    "        N //= K\n",
    "        cnt += 1\n",
    "    else : \n",
    "        N -= 1\n",
    "cnt += 1"
   ]
  },
  {
   "cell_type": "code",
   "execution_count": 86,
   "metadata": {},
   "outputs": [
    {
     "data": {
      "text/plain": [
       "3"
      ]
     },
     "execution_count": 86,
     "metadata": {},
     "output_type": "execute_result"
    }
   ],
   "source": [
    "cnt"
   ]
  }
 ],
 "metadata": {
  "interpreter": {
   "hash": "7245496e12d04d7ae4f232fb0f5b8488c4697571c0c5a5facb524514c2aa3b83"
  },
  "kernelspec": {
   "display_name": "Python 3.8.12 64-bit ('ds_study': conda)",
   "name": "python3"
  },
  "language_info": {
   "codemirror_mode": {
    "name": "ipython",
    "version": 3
   },
   "file_extension": ".py",
   "mimetype": "text/x-python",
   "name": "python",
   "nbconvert_exporter": "python",
   "pygments_lexer": "ipython3",
   "version": "3.8.12"
  },
  "orig_nbformat": 4
 },
 "nbformat": 4,
 "nbformat_minor": 2
}
