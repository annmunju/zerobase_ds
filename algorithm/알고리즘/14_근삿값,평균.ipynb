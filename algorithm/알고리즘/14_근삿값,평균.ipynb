{
 "cells": [
  {
   "cell_type": "code",
   "execution_count": 49,
   "metadata": {},
   "outputs": [],
   "source": [
    "# 01 근삿값\n",
    "\n",
    "## 강의"
   ]
  },
  {
   "cell_type": "code",
   "execution_count": 50,
   "metadata": {},
   "outputs": [
    {
     "name": "stdout",
     "output_type": "stream",
     "text": [
      "nums: [26, 0, 15, 7, 25, 6, 32, 1, 36, 21, 4, 35, 12, 40, 28, 14, 10, 39, 33, 46]\n",
      "11\n"
     ]
    }
   ],
   "source": [
    "import random\n",
    "\n",
    "nums = random.sample(range(0,50), 20)\n",
    "print(f'nums: {nums}')\n",
    "\n",
    "inputNum = int(input('input number: '))\n",
    "print(inputNum)"
   ]
  },
  {
   "cell_type": "code",
   "execution_count": 51,
   "metadata": {},
   "outputs": [
    {
     "name": "stdout",
     "output_type": "stream",
     "text": [
      "nearNum: 12\n"
     ]
    }
   ],
   "source": [
    "nearNum = 0\n",
    "minNum = 50\n",
    "\n",
    "for n in nums:\n",
    "    absNum = abs(n - inputNum)\n",
    "    # print(f\"absNum {absNum}\")\n",
    "\n",
    "    if absNum < minNum:\n",
    "        minNum = absNum\n",
    "        nearNum = n\n",
    "\n",
    "print(f'nearNum: {nearNum}')"
   ]
  },
  {
   "cell_type": "code",
   "execution_count": 52,
   "metadata": {},
   "outputs": [],
   "source": [
    "## 실습"
   ]
  },
  {
   "cell_type": "code",
   "execution_count": 53,
   "metadata": {},
   "outputs": [],
   "source": [
    "def getNearNum(an):\n",
    "\n",
    "    baseScores = [95, 85, 75, 65, 55]\n",
    "    nearNum = 0\n",
    "    minNum = 100\n",
    "\n",
    "    for n in baseScores:\n",
    "        absNUm = abs(n - an)\n",
    "        if absNUm < minNum:\n",
    "            minNum = absNUm\n",
    "            nearNum = n\n",
    "\n",
    "    if nearNum == '95':\n",
    "        return 'A'\n",
    "    elif nearNum == '85':\n",
    "        return 'B'\n",
    "    elif nearNum == '75':\n",
    "        return 'C'\n",
    "    elif nearNum == '65':\n",
    "        return 'D'\n",
    "    elif nearNum <= '55':\n",
    "        return 'F'"
   ]
  },
  {
   "cell_type": "code",
   "execution_count": 54,
   "metadata": {},
   "outputs": [],
   "source": [
    "import near"
   ]
  },
  {
   "cell_type": "code",
   "execution_count": 55,
   "metadata": {},
   "outputs": [],
   "source": [
    "\n",
    "scores = []\n",
    "\n",
    "kor = int(input(\"kor 점수 입력: \"))\n",
    "scores.append(kor)\n",
    "eng = int(input(\"eng 점수 입력: \"))\n",
    "scores.append(eng)\n",
    "mat = int(input(\"mat 점수 입력: \"))\n",
    "scores.append(mat)\n",
    "sci = int(input(\"sci 점수 입력: \"))\n",
    "scores.append(sci)\n",
    "his = int(input(\"his 점수 입력: \"))\n",
    "scores.append(his)"
   ]
  },
  {
   "cell_type": "code",
   "execution_count": 58,
   "metadata": {},
   "outputs": [
    {
     "name": "stdout",
     "output_type": "stream",
     "text": [
      "1170\n",
      "234.0\n"
     ]
    },
    {
     "ename": "TypeError",
     "evalue": "'<=' not supported between instances of 'int' and 'str'",
     "output_type": "error",
     "traceback": [
      "\u001b[0;31m---------------------------------------------------------------------------\u001b[0m",
      "\u001b[0;31mTypeError\u001b[0m                                 Traceback (most recent call last)",
      "\u001b[0;32m/var/folders/hr/y8znbyhd4058w4d5l14qqsv80000gn/T/ipykernel_14464/3251602871.py\u001b[0m in \u001b[0;36m<module>\u001b[0;34m\u001b[0m\n\u001b[1;32m      5\u001b[0m \u001b[0mprint\u001b[0m\u001b[0;34m(\u001b[0m\u001b[0mavgScore\u001b[0m\u001b[0;34m)\u001b[0m\u001b[0;34m\u001b[0m\u001b[0;34m\u001b[0m\u001b[0m\n\u001b[1;32m      6\u001b[0m \u001b[0;34m\u001b[0m\u001b[0m\n\u001b[0;32m----> 7\u001b[0;31m \u001b[0mgrade\u001b[0m \u001b[0;34m=\u001b[0m \u001b[0mnear\u001b[0m\u001b[0;34m.\u001b[0m\u001b[0mgetNearNum\u001b[0m\u001b[0;34m(\u001b[0m\u001b[0mavgScore\u001b[0m\u001b[0;34m)\u001b[0m\u001b[0;34m\u001b[0m\u001b[0;34m\u001b[0m\u001b[0m\n\u001b[0m\u001b[1;32m      8\u001b[0m \u001b[0mprint\u001b[0m\u001b[0;34m(\u001b[0m\u001b[0mgrade\u001b[0m\u001b[0;34m)\u001b[0m\u001b[0;34m\u001b[0m\u001b[0;34m\u001b[0m\u001b[0m\n",
      "\u001b[0;32m~/Documents/ds_study/algorithm/알고리즘/near.py\u001b[0m in \u001b[0;36mgetNearNum\u001b[0;34m(an)\u001b[0m\n\u001b[1;32m     19\u001b[0m     \u001b[0;32melif\u001b[0m \u001b[0mnearNum\u001b[0m \u001b[0;34m==\u001b[0m \u001b[0;36m65\u001b[0m\u001b[0;34m:\u001b[0m\u001b[0;34m\u001b[0m\u001b[0;34m\u001b[0m\u001b[0m\n\u001b[1;32m     20\u001b[0m         \u001b[0;32mreturn\u001b[0m \u001b[0;34m'D'\u001b[0m\u001b[0;34m\u001b[0m\u001b[0;34m\u001b[0m\u001b[0m\n\u001b[0;32m---> 21\u001b[0;31m     \u001b[0;32melse\u001b[0m\u001b[0;34m:\u001b[0m\u001b[0;34m\u001b[0m\u001b[0;34m\u001b[0m\u001b[0m\n\u001b[0m\u001b[1;32m     22\u001b[0m         \u001b[0;32mreturn\u001b[0m \u001b[0;34m'F'\u001b[0m\u001b[0;34m\u001b[0m\u001b[0;34m\u001b[0m\u001b[0m\n",
      "\u001b[0;31mTypeError\u001b[0m: '<=' not supported between instances of 'int' and 'str'"
     ]
    }
   ],
   "source": [
    "totalScore = sum(scores)\n",
    "print(totalScore)\n",
    "\n",
    "avgScore = totalScore/len(scores)\n",
    "print(avgScore)\n",
    "\n",
    "grade = near.getNearNum(avgScore)\n",
    "print(grade)"
   ]
  },
  {
   "cell_type": "code",
   "execution_count": null,
   "metadata": {},
   "outputs": [],
   "source": [
    "baseScores = [95, 85, 75, 65, 55]\n",
    "nearNum = 0\n",
    "minNum = 100\n",
    "\n",
    "for n in baseScores:\n",
    "    absNUm = abs(n - 87)\n",
    "    if absNUm < minNum:\n",
    "        minNum = absNUm\n",
    "        nearNum = n\n",
    "\n",
    "if nearNum == 95:\n",
    "    print('A')\n",
    "elif nearNum == 85:\n",
    "    print('B')\n",
    "elif nearNum == 75:\n",
    "    print('C')\n",
    "elif nearNum == 65:\n",
    "    print('D')\n",
    "elif nearNum <= 55:\n",
    "    print('F')"
   ]
  },
  {
   "cell_type": "markdown",
   "metadata": {},
   "source": [
    "---\n",
    "# 02 평균"
   ]
  },
  {
   "cell_type": "code",
   "execution_count": 4,
   "metadata": {},
   "outputs": [
    {
     "name": "stdout",
     "output_type": "stream",
     "text": [
      "[47, 26, 17, 88, 24, 6, 41, 55, 57, 28]\n"
     ]
    }
   ],
   "source": [
    "import random\n",
    "\n",
    "nums = random.sample(range(0,100), 10)\n",
    "print(nums)"
   ]
  },
  {
   "cell_type": "code",
   "execution_count": 5,
   "metadata": {},
   "outputs": [
    {
     "name": "stdout",
     "output_type": "stream",
     "text": [
      "38.9\n"
     ]
    }
   ],
   "source": [
    "total = 0\n",
    "for n in nums:\n",
    "    total += n\n",
    "\n",
    "average = total / len(nums)\n",
    "print(average)"
   ]
  },
  {
   "cell_type": "code",
   "execution_count": 11,
   "metadata": {},
   "outputs": [
    {
     "name": "stdout",
     "output_type": "stream",
     "text": [
      "[88, 55, 57]\n",
      "66.7\n"
     ]
    }
   ],
   "source": [
    "# 50 이상 90 이하 수들의 평균\n",
    "#print(nums)\n",
    "total = 0\n",
    "targetNums = []\n",
    "for n in nums:\n",
    "    if n >= 50 and n <= 90:\n",
    "        total += n\n",
    "        targetNums.append(n)\n",
    "\n",
    "average = round(total / len(targetNums), 1)\n",
    "print(targetNums)\n",
    "print(average)"
   ]
  },
  {
   "cell_type": "code",
   "execution_count": 12,
   "metadata": {},
   "outputs": [
    {
     "name": "stdout",
     "output_type": "stream",
     "text": [
      "[4, 0, 5, 9, 3]\n",
      "4.2\n"
     ]
    }
   ],
   "source": [
    "# 정수들의 평균\n",
    "\n",
    "nums=[4, 5.12, 0, 5, 7.34, 9.1, 9, 3]\n",
    "total = 0\n",
    "targetNums = []\n",
    "for n in nums:\n",
    "    if n - int(n) == 0:\n",
    "        total += n\n",
    "        targetNums.append(n)\n",
    "\n",
    "average = round(total / len(targetNums), 1)\n",
    "print(targetNums)\n",
    "print(average)"
   ]
  },
  {
   "cell_type": "code",
   "execution_count": 13,
   "metadata": {},
   "outputs": [
    {
     "name": "stdout",
     "output_type": "stream",
     "text": [
      "[5.12, 7.34, 9.1]\n",
      "7.2\n"
     ]
    }
   ],
   "source": [
    "# 실수들의 평균\n",
    "\n",
    "nums=[4, 5.12, 0, 5, 7.34, 9.1, 9, 3]\n",
    "total = 0\n",
    "targetNums = []\n",
    "for n in nums:\n",
    "    if n - int(n) != 0:\n",
    "        total += n\n",
    "        targetNums.append(n)\n",
    "\n",
    "average = round(total / len(targetNums), 1)\n",
    "print(targetNums)\n",
    "print(average)"
   ]
  },
  {
   "cell_type": "markdown",
   "metadata": {},
   "source": [
    "## 실습"
   ]
  },
  {
   "cell_type": "code",
   "execution_count": 15,
   "metadata": {},
   "outputs": [
    {
     "name": "stdout",
     "output_type": "stream",
     "text": [
      "83.9\n",
      "8.39\n"
     ]
    }
   ],
   "source": [
    "scores = [8.9, 7.6, 8.2, 9.1, 8.8, 8.1, 7.9, 9.4, 7.2, 8.7]\n",
    "top5PlayerScores = [9.12, 8.95, 8.12, 7.98, 7.88]\n",
    "\n",
    "total, average = 0, 0\n",
    "\n",
    "for n in scores:\n",
    "    total += n\n",
    "\n",
    "average = round(total / len(scores), 2)\n",
    "\n",
    "print(total)\n",
    "print(average)"
   ]
  },
  {
   "cell_type": "code",
   "execution_count": 16,
   "metadata": {},
   "outputs": [],
   "source": [
    "import neartop"
   ]
  },
  {
   "cell_type": "code",
   "execution_count": 18,
   "metadata": {},
   "outputs": [
    {
     "name": "stdout",
     "output_type": "stream",
     "text": [
      "[8.39, 8.95, 8.95, 8.12, 7.98]\n"
     ]
    }
   ],
   "source": [
    "tp = neartop.Top5Players(top5PlayerScores, average)\n",
    "tp.setAlignScore()\n",
    "top5PlayerScores = tp.getFinalTop5Scores()\n",
    "print(top5PlayerScores)"
   ]
  },
  {
   "cell_type": "code",
   "execution_count": null,
   "metadata": {},
   "outputs": [],
   "source": []
  }
 ],
 "metadata": {
  "interpreter": {
   "hash": "a16486e2993ff77e6bffe69def0208660310d1acf71787fa0ab560015301b92b"
  },
  "kernelspec": {
   "display_name": "Python 3.8.12 64-bit ('ds_study': conda)",
   "name": "python3"
  },
  "language_info": {
   "codemirror_mode": {
    "name": "ipython",
    "version": 3
   },
   "file_extension": ".py",
   "mimetype": "text/x-python",
   "name": "python",
   "nbconvert_exporter": "python",
   "pygments_lexer": "ipython3",
   "version": "3.8.12"
  },
  "orig_nbformat": 4
 },
 "nbformat": 4,
 "nbformat_minor": 2
}
