{
 "cells": [
  {
   "cell_type": "markdown",
   "metadata": {},
   "source": [
    "# 강의듣기 전 미리 실습해보기\n",
    "## [강의]"
   ]
  },
  {
   "cell_type": "code",
   "execution_count": 43,
   "metadata": {},
   "outputs": [],
   "source": [
    "score = [98, 67, 99, 52, 89, 78, 57, 65, 50, 74, 58, 71, 68, 96, 86, 85, 93, 94, 66, 97]\n",
    "score_sort = sorted(score, reverse=True)"
   ]
  },
  {
   "cell_type": "code",
   "execution_count": 46,
   "metadata": {},
   "outputs": [
    {
     "data": {
      "text/plain": [
       "14"
      ]
     },
     "execution_count": 46,
     "metadata": {},
     "output_type": "execute_result"
    }
   ],
   "source": [
    "score_sort.index(67)+1"
   ]
  },
  {
   "cell_type": "code",
   "execution_count": 47,
   "metadata": {},
   "outputs": [
    {
     "name": "stdout",
     "output_type": "stream",
     "text": [
      "score:98\trank:2\n",
      "score:67\trank:14\n",
      "score:99\trank:1\n",
      "score:52\trank:19\n",
      "score:89\trank:7\n",
      "score:78\trank:10\n",
      "score:57\trank:18\n",
      "score:65\trank:16\n",
      "score:50\trank:20\n",
      "score:74\trank:11\n",
      "score:58\trank:17\n",
      "score:71\trank:12\n",
      "score:68\trank:13\n",
      "score:96\trank:4\n",
      "score:86\trank:8\n",
      "score:85\trank:9\n",
      "score:93\trank:6\n",
      "score:94\trank:5\n",
      "score:66\trank:15\n",
      "score:97\trank:3\n"
     ]
    }
   ],
   "source": [
    "for i in range(len(score)):\n",
    "    print(f\"score:{score[i]}\\trank:{score_sort.index(score[i])+1}\")"
   ]
  },
  {
   "cell_type": "code",
   "execution_count": 48,
   "metadata": {},
   "outputs": [],
   "source": [
    "score_rank = list()\n",
    "\n",
    "for i in range(len(score)):\n",
    "    score_rank.append(score_sort.index(score[i])+1)"
   ]
  },
  {
   "cell_type": "code",
   "execution_count": 53,
   "metadata": {},
   "outputs": [
    {
     "name": "stdout",
     "output_type": "stream",
     "text": [
      "[2, 14, 1, 19, 7, 10, 18, 16, 20, 11, 17, 12, 13, 4, 8, 9, 6, 5, 15, 3] \n",
      " [98, 67, 99, 52, 89, 78, 57, 65, 50, 74, 58, 71, 68, 96, 86, 85, 93, 94, 66, 97]\n"
     ]
    }
   ],
   "source": [
    "print(score_rank,\"\\n\",score)"
   ]
  },
  {
   "cell_type": "markdown",
   "metadata": {},
   "source": [
    "---\n",
    "\n",
    "## [실습]"
   ]
  },
  {
   "cell_type": "code",
   "execution_count": 100,
   "metadata": {},
   "outputs": [],
   "source": [
    "import random\n",
    "\n",
    "midStuScos = [random.randint(50,100) for i in range(20)]\n",
    "endStuScos = [random.randint(50,100) for i in range(20)]"
   ]
  },
  {
   "cell_type": "code",
   "execution_count": 101,
   "metadata": {},
   "outputs": [],
   "source": [
    "mid_rank = list()\n",
    "end_rank = list()"
   ]
  },
  {
   "cell_type": "code",
   "execution_count": 102,
   "metadata": {},
   "outputs": [],
   "source": [
    "mid_sort = sorted(midStuScos, reverse=True)\n",
    "for i in range(len(midStuScos)):\n",
    "    mid_rank.append(mid_sort.index(midStuScos[i]))"
   ]
  },
  {
   "cell_type": "code",
   "execution_count": 103,
   "metadata": {},
   "outputs": [],
   "source": [
    "end_sort = sorted(endStuScos, reverse=True)\n",
    "for i in range(len(endStuScos)):\n",
    "    end_rank.append(end_sort.index(endStuScos[i]))"
   ]
  },
  {
   "cell_type": "code",
   "execution_count": 104,
   "metadata": {},
   "outputs": [
    {
     "name": "stdout",
     "output_type": "stream",
     "text": [
      "midStuScos: [50, 85, 79, 97, 79, 75, 68, 50, 80, 59, 66, 52, 57, 82, 59, 100, 65, 57, 72, 53]\n",
      "mid_rank: [18, 2, 5, 1, 5, 7, 9, 18, 4, 12, 10, 17, 14, 3, 12, 0, 11, 14, 8, 16]\n",
      "endStuScos: [70, 86, 60, 79, 58, 51, 81, 68, 94, 76, 92, 53, 90, 60, 69, 69, 88, 86, 79, 52]\n",
      "end_rank: [10, 4, 14, 7, 16, 19, 6, 13, 0, 9, 1, 17, 2, 14, 11, 11, 3, 4, 7, 18]\n"
     ]
    }
   ],
   "source": [
    "print(f\"midStuScos: {midStuScos}\")\n",
    "print(f\"mid_rank: {mid_rank}\")\n",
    "print(f\"endStuScos: {endStuScos}\")\n",
    "print(f\"end_rank: {end_rank}\")"
   ]
  },
  {
   "cell_type": "code",
   "execution_count": 105,
   "metadata": {},
   "outputs": [
    {
     "name": "stdout",
     "output_type": "stream",
     "text": [
      "['↑8', '↓2', '↓9', '↓6', '↓11', '↓12', '↑3', '↑5', '↑4', '↑3', '↑9', '=0', '↑12', '↓11', '↑1', '↓11', '↑8', '↑10', '↑1', '↓2']\n"
     ]
    }
   ],
   "source": [
    "Deviation = list()\n",
    "\n",
    "for i in range(20):\n",
    "    dif=mid_rank[i]-end_rank[i]\n",
    "    if dif == 0 :\n",
    "        Deviation.append(\"=0\")\n",
    "    elif dif > 0 :\n",
    "        Deviation.append(f\"↑{dif}\")\n",
    "    elif dif < 0 :\n",
    "        Deviation.append(f\"↓{dif*(-1)}\")\n",
    "\n",
    "print(Deviation)"
   ]
  },
  {
   "cell_type": "code",
   "execution_count": 106,
   "metadata": {},
   "outputs": [
    {
     "name": "stdout",
     "output_type": "stream",
     "text": [
      "mid_rank: 18          \tend_rank:10          \tDeviation: ↑8\n",
      "mid_rank: 2          \tend_rank:4          \tDeviation: ↓2\n",
      "mid_rank: 5          \tend_rank:14          \tDeviation: ↓9\n",
      "mid_rank: 1          \tend_rank:7          \tDeviation: ↓6\n",
      "mid_rank: 5          \tend_rank:16          \tDeviation: ↓11\n",
      "mid_rank: 7          \tend_rank:19          \tDeviation: ↓12\n",
      "mid_rank: 9          \tend_rank:6          \tDeviation: ↑3\n",
      "mid_rank: 18          \tend_rank:13          \tDeviation: ↑5\n",
      "mid_rank: 4          \tend_rank:0          \tDeviation: ↑4\n",
      "mid_rank: 12          \tend_rank:9          \tDeviation: ↑3\n",
      "mid_rank: 10          \tend_rank:1          \tDeviation: ↑9\n",
      "mid_rank: 17          \tend_rank:17          \tDeviation: =0\n",
      "mid_rank: 14          \tend_rank:2          \tDeviation: ↑12\n",
      "mid_rank: 3          \tend_rank:14          \tDeviation: ↓11\n",
      "mid_rank: 12          \tend_rank:11          \tDeviation: ↑1\n",
      "mid_rank: 0          \tend_rank:11          \tDeviation: ↓11\n",
      "mid_rank: 11          \tend_rank:3          \tDeviation: ↑8\n",
      "mid_rank: 14          \tend_rank:4          \tDeviation: ↑10\n",
      "mid_rank: 8          \tend_rank:7          \tDeviation: ↑1\n",
      "mid_rank: 16          \tend_rank:18          \tDeviation: ↓2\n"
     ]
    }
   ],
   "source": [
    "for i in range(20):\n",
    "    print(f\"mid_rank: {mid_rank[i]} \\\n",
    "         \\tend_rank:{end_rank[i]} \\\n",
    "         \\tDeviation: {Deviation[i]}\")"
   ]
  },
  {
   "cell_type": "code",
   "execution_count": null,
   "metadata": {},
   "outputs": [],
   "source": []
  }
 ],
 "metadata": {
  "interpreter": {
   "hash": "a16486e2993ff77e6bffe69def0208660310d1acf71787fa0ab560015301b92b"
  },
  "kernelspec": {
   "display_name": "Python 3.8.12 64-bit ('ds_study': conda)",
   "name": "python3"
  },
  "language_info": {
   "codemirror_mode": {
    "name": "ipython",
    "version": 3
   },
   "file_extension": ".py",
   "mimetype": "text/x-python",
   "name": "python",
   "nbconvert_exporter": "python",
   "pygments_lexer": "ipython3",
   "version": "3.8.12"
  },
  "orig_nbformat": 4
 },
 "nbformat": 4,
 "nbformat_minor": 2
}
