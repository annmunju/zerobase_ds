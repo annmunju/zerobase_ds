{
 "cells": [
  {
   "cell_type": "markdown",
   "metadata": {},
   "source": [
    "# 01 선형검색\n",
    "\n",
    "## [강의]"
   ]
  },
  {
   "cell_type": "code",
   "execution_count": 1,
   "metadata": {},
   "outputs": [
    {
     "name": "stdout",
     "output_type": "stream",
     "text": [
      "datas: [3, 2, 5, 7, 9, 1, 0, 8, 6, 4]\n",
      "datas length: 10\n"
     ]
    }
   ],
   "source": [
    "datas = [3,2,5,7,9,1,0,8,6,4]\n",
    "print(f'datas: {datas}')\n",
    "print(f'datas length: {len(datas)}')"
   ]
  },
  {
   "cell_type": "code",
   "execution_count": 2,
   "metadata": {},
   "outputs": [
    {
     "name": "stdout",
     "output_type": "stream",
     "text": [
      "9\n"
     ]
    }
   ],
   "source": [
    "searchData = int(input(\"찾으려는 숫자를 입력하세요: \"))\n",
    "print(searchData)\n",
    "\n",
    "searchResultIdx = -1"
   ]
  },
  {
   "cell_type": "markdown",
   "metadata": {},
   "source": [
    "### 1. 선형검색 이란?"
   ]
  },
  {
   "cell_type": "code",
   "execution_count": 3,
   "metadata": {},
   "outputs": [
    {
     "name": "stdout",
     "output_type": "stream",
     "text": [
      "searchResultIdx: 4\n"
     ]
    }
   ],
   "source": [
    "n = 0\n",
    "while True:\n",
    "\n",
    "    if n == len(datas) :\n",
    "        searchResultIdx = -1\n",
    "        break\n",
    "    \n",
    "    elif datas[n]==searchData:\n",
    "        searchResultIdx = n\n",
    "        break\n",
    "\n",
    "    n += 1\n",
    "\n",
    "print(f\"searchResultIdx: {searchResultIdx}\")"
   ]
  },
  {
   "cell_type": "markdown",
   "metadata": {},
   "source": [
    "### 2. 보초법"
   ]
  },
  {
   "cell_type": "code",
   "execution_count": 4,
   "metadata": {},
   "outputs": [
    {
     "name": "stdout",
     "output_type": "stream",
     "text": [
      "searchResultIdx: 4\n"
     ]
    }
   ],
   "source": [
    "datas.append(searchData)\n",
    "\n",
    "n = 0\n",
    "while True:\n",
    "\n",
    "    if datas[n] == searchData:\n",
    "        if n != len(datas)-1:\n",
    "            searchResultIdx = n\n",
    "        break\n",
    "\n",
    "    n += 1\n",
    "\n",
    "print(f\"searchResultIdx: {searchResultIdx}\")"
   ]
  },
  {
   "cell_type": "markdown",
   "metadata": {},
   "source": [
    "## [실습]"
   ]
  },
  {
   "cell_type": "code",
   "execution_count": 10,
   "metadata": {},
   "outputs": [],
   "source": [
    "nums = [4, 7, 10, 2, 4, 7, 0, 2, 7, 3, 9]"
   ]
  },
  {
   "cell_type": "code",
   "execution_count": 14,
   "metadata": {},
   "outputs": [
    {
     "name": "stdout",
     "output_type": "stream",
     "text": [
      "찾고자 한 숫자의 인덱스 값: 1\n"
     ]
    }
   ],
   "source": [
    "# 리스트에서 가장 앞에 있는 숫자 7을 검색하고 위치를 출력\n",
    "n = 0\n",
    "searchData = 7\n",
    "searchResultIdx = -1\n",
    "\n",
    "while True:\n",
    "\n",
    "    if n == len(nums) : \n",
    "        break\n",
    "\n",
    "    if nums[n] == searchData:\n",
    "        searchResultIdx = n\n",
    "        break\n",
    "\n",
    "    n += 1\n",
    "\n",
    "print(f\"찾고자 한 숫자의 인덱스 값: {searchResultIdx}\")"
   ]
  },
  {
   "cell_type": "code",
   "execution_count": 22,
   "metadata": {},
   "outputs": [
    {
     "name": "stdout",
     "output_type": "stream",
     "text": [
      "찾고자 한 숫자의 인덱스 값:[1, 5, 8]\n",
      "검색 갯수: 3\n"
     ]
    }
   ],
   "source": [
    "# 리스트에서 숫자 7을 모두 검색하고 위치를 출력\n",
    "n = 0\n",
    "searchData = 7\n",
    "searchResultLs = []\n",
    "\n",
    "while True:\n",
    "\n",
    "    if n == len(nums) : \n",
    "        break\n",
    "\n",
    "    if nums[n] == searchData:\n",
    "        searchResultLs.append(n)\n",
    "\n",
    "    n += 1\n",
    "\n",
    "print(f\"찾고자 한 숫자의 인덱스 값:{searchResultLs}\")\n",
    "print(f\"검색 갯수: {len(searchResultLs)}\")"
   ]
  },
  {
   "cell_type": "markdown",
   "metadata": {},
   "source": [
    "# 02 이진검색"
   ]
  },
  {
   "cell_type": "markdown",
   "metadata": {},
   "source": [
    "## [강의]"
   ]
  },
  {
   "cell_type": "code",
   "execution_count": 9,
   "metadata": {},
   "outputs": [
    {
     "name": "stdout",
     "output_type": "stream",
     "text": [
      "datas: [1, 2, 3, 4, 5, 6, 7, 8, 9, 10, 11]\n",
      "datas length: 11\n"
     ]
    }
   ],
   "source": [
    "datas = [1,2,3,4,5,6,7,8,9,10,11]\n",
    "print(f\"datas: {datas}\")\n",
    "print(f\"datas length: {len(datas)}\")"
   ]
  },
  {
   "cell_type": "code",
   "execution_count": 10,
   "metadata": {},
   "outputs": [
    {
     "name": "stdout",
     "output_type": "stream",
     "text": [
      "9\n"
     ]
    }
   ],
   "source": [
    "searchData = int(input(\"찾으려는 숫자를 입력하세요: \"))\n",
    "print(searchData)"
   ]
  },
  {
   "cell_type": "code",
   "execution_count": 11,
   "metadata": {},
   "outputs": [],
   "source": [
    "staIdx = 0\n",
    "endIdx = len(datas) -1\n",
    "midIdx = (staIdx + endIdx) // 2\n",
    "midVal = datas[midIdx]"
   ]
  },
  {
   "cell_type": "code",
   "execution_count": 12,
   "metadata": {},
   "outputs": [],
   "source": [
    "while True:\n",
    "    if searchData > midVal:\n",
    "        staIdx = midIdx\n",
    "        midIdx = (staIdx + endIdx) // 2\n",
    "        midVal = datas[midIdx]\n",
    "        # print(f\"midIdx: {midIdx}\")\n",
    "        # print(f\"midVal: {midVal}\")\n",
    "\n",
    "    elif searchData < midVal:\n",
    "        endIdx = midIdx\n",
    "        midIdx = (staIdx + endIdx) // 2\n",
    "        midVal = datas[midIdx]\n",
    "        # print(f\"midIdx: {midIdx}\")\n",
    "        # print(f\"midVal: {midVal}\")\n",
    "\n",
    "    elif searchData == midVal:\n",
    "        searchResultIdx = midIdx\n",
    "        break"
   ]
  },
  {
   "cell_type": "code",
   "execution_count": 13,
   "metadata": {},
   "outputs": [
    {
     "data": {
      "text/plain": [
       "8"
      ]
     },
     "execution_count": 13,
     "metadata": {},
     "output_type": "execute_result"
    }
   ],
   "source": [
    "searchResultIdx"
   ]
  },
  {
   "cell_type": "markdown",
   "metadata": {},
   "source": [
    "## [실습]"
   ]
  },
  {
   "cell_type": "code",
   "execution_count": 3,
   "metadata": {},
   "outputs": [
    {
     "name": "stdout",
     "output_type": "stream",
     "text": [
      "11\n",
      "6\n"
     ]
    }
   ],
   "source": [
    "nums = [4,10,22,5,0,17,7,11,9,61,88]\n",
    "searchData = int(input(\"찾으려는 숫자를 입력하세요: \"))\n",
    "\n",
    "print(searchData)\n",
    "\n",
    "nums.sort()\n",
    "staIdx = 0\n",
    "endIdx = len(nums) -1\n",
    "midIdx = (staIdx + endIdx) // 2\n",
    "midVal = nums[midIdx]\n",
    "\n",
    "while True:\n",
    "    if searchData > midVal:\n",
    "        staIdx = midIdx\n",
    "        midIdx = (staIdx + endIdx) // 2\n",
    "        midVal = nums[midIdx]\n",
    "        # print(f\"midIdx: {midIdx}\")\n",
    "        # print(f\"midVal: {midVal}\")\n",
    "\n",
    "    elif searchData < midVal:\n",
    "        endIdx = midIdx\n",
    "        midIdx = (staIdx + endIdx) // 2\n",
    "        midVal = nums[midIdx]\n",
    "        # print(f\"midIdx: {midIdx}\")\n",
    "        # print(f\"midVal: {midVal}\")\n",
    "\n",
    "    elif searchData == midVal:\n",
    "        searchResultIdx = midIdx\n",
    "        break\n",
    "\n",
    "print(searchResultIdx)"
   ]
  },
  {
   "cell_type": "code",
   "execution_count": null,
   "metadata": {},
   "outputs": [],
   "source": []
  }
 ],
 "metadata": {
  "interpreter": {
   "hash": "a16486e2993ff77e6bffe69def0208660310d1acf71787fa0ab560015301b92b"
  },
  "kernelspec": {
   "display_name": "Python 3.8.12 64-bit ('ds_study': conda)",
   "name": "python3"
  },
  "language_info": {
   "codemirror_mode": {
    "name": "ipython",
    "version": 3
   },
   "file_extension": ".py",
   "mimetype": "text/x-python",
   "name": "python",
   "nbconvert_exporter": "python",
   "pygments_lexer": "ipython3",
   "version": "3.8.12"
  },
  "orig_nbformat": 4
 },
 "nbformat": 4,
 "nbformat_minor": 2
}
