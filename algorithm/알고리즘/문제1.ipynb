{
 "cells": [
  {
   "cell_type": "code",
   "execution_count": 35,
   "metadata": {},
   "outputs": [
    {
     "name": "stdout",
     "output_type": "stream",
     "text": [
      "waaw 4\n"
     ]
    }
   ],
   "source": [
    "s = input(\"s = \")\n",
    "print(s, len(s))"
   ]
  },
  {
   "cell_type": "code",
   "execution_count": 36,
   "metadata": {},
   "outputs": [
    {
     "name": "stdout",
     "output_type": "stream",
     "text": [
      "0 w\n",
      "1 a\n",
      "2 a\n",
      "3 w\n"
     ]
    }
   ],
   "source": [
    "start = 0\n",
    "end = len(word)-1\n",
    "\n",
    "for idx, s in enumerate(word):\n",
    "    print(idx, s)"
   ]
  },
  {
   "cell_type": "code",
   "execution_count": 37,
   "metadata": {},
   "outputs": [
    {
     "name": "stdout",
     "output_type": "stream",
     "text": [
      "\n"
     ]
    }
   ],
   "source": [
    "ls = ''\n",
    "\n",
    "while end > start:\n",
    "    if word[start] != word[end]:\n",
    "        ls += word[start]\n",
    "    end -= 1\n",
    "    start += 1\n",
    "\n",
    "print(ls+ls[::-1])\n"
   ]
  },
  {
   "cell_type": "code",
   "execution_count": 38,
   "metadata": {},
   "outputs": [],
   "source": [
    "def solution(s):\n",
    "\n",
    "    start = 0\n",
    "    end = len(s)-1\n",
    "    out = ''\n",
    "\n",
    "    while end > start:\n",
    "        if s[start] != s[end]:\n",
    "            out += s[start]\n",
    "        end -= 1\n",
    "        start += 1\n",
    "\n",
    "    output = out + out[::-1]\n",
    "    \n",
    "    return output"
   ]
  },
  {
   "cell_type": "code",
   "execution_count": 43,
   "metadata": {},
   "outputs": [
    {
     "name": "stdout",
     "output_type": "stream",
     "text": [
      "hambbmah\n"
     ]
    }
   ],
   "source": [
    "s = 'hamburger'\n",
    "print(solution(s))"
   ]
  },
  {
   "cell_type": "code",
   "execution_count": 56,
   "metadata": {},
   "outputs": [],
   "source": [
    "n = 12\n",
    "weak = [1,3,4,9,10]\n",
    "dist = [3,5,7]"
   ]
  },
  {
   "cell_type": "code",
   "execution_count": 59,
   "metadata": {},
   "outputs": [],
   "source": [
    "n = 12\n",
    "weak = [1,5,6,10]\n",
    "dist = [1,2,3,4]"
   ]
  },
  {
   "cell_type": "code",
   "execution_count": 60,
   "metadata": {},
   "outputs": [
    {
     "name": "stdout",
     "output_type": "stream",
     "text": [
      "8 : 4\n",
      "11 : 1\n",
      "8 : 4\n",
      "3 : 9\n"
     ]
    }
   ],
   "source": [
    "for i in range(len(weak)-1) :\n",
    "    print(n - abs(weak[i] - weak[i+1]), end=' : ')\n",
    "    print(abs(weak[i] - weak[i+1]))\n",
    "\n",
    "print(n - abs(weak[len(weak)-1] - weak[0]), end=' : ')\n",
    "print(abs(weak[len(weak)-1] - weak[0]))"
   ]
  },
  {
   "cell_type": "code",
   "execution_count": 61,
   "metadata": {},
   "outputs": [
    {
     "name": "stdout",
     "output_type": "stream",
     "text": [
      "[1, 5, 6, 10]\n",
      "[4, 1, 4, 3]\n"
     ]
    }
   ],
   "source": [
    "difLs = []\n",
    "\n",
    "for i in range(len(weak)-1): \n",
    "\n",
    "    dif = abs(weak[i] - weak[i+1])\n",
    "    if n - dif < dif:\n",
    "        difLs.append(n-dif)\n",
    "    elif n - dif >= dif:\n",
    "        difLs.append(dif)\n",
    "\n",
    "dif = abs(weak[len(weak)-1] - weak[0])\n",
    "if n - dif < dif:\n",
    "    difLs.append(n-dif)\n",
    "elif n - dif >= dif:\n",
    "    difLs.append(dif)\n",
    "\n",
    "print(weak)\n",
    "print(difLs)"
   ]
  },
  {
   "cell_type": "code",
   "execution_count": null,
   "metadata": {},
   "outputs": [],
   "source": []
  },
  {
   "cell_type": "markdown",
   "metadata": {},
   "source": [
    "---"
   ]
  },
  {
   "cell_type": "code",
   "execution_count": 65,
   "metadata": {},
   "outputs": [
    {
     "name": "stdout",
     "output_type": "stream",
     "text": [
      "3\n"
     ]
    }
   ],
   "source": [
    "from collections import deque\n",
    "\n",
    "def bfs(): \n",
    "    q = deque() \n",
    "    q.append(N) \n",
    "    while q: \n",
    "        v = q.popleft() \n",
    "        if v == K: \n",
    "            print(time[v]) \n",
    "            return \n",
    "        for next_step in (v-1, v+1, v*2): \n",
    "            if 0 <= next_step < MAX and not time[next_step]: \n",
    "                time[next_step] = time[v] + 1 \n",
    "                q.append(next_step) \n",
    "\n",
    "MAX = 100001 \n",
    "N, K = map(int, input().split()) \n",
    "time = [0]*MAX \n",
    "bfs()"
   ]
  },
  {
   "cell_type": "code",
   "execution_count": 66,
   "metadata": {},
   "outputs": [
    {
     "name": "stdout",
     "output_type": "stream",
     "text": [
      "5\n"
     ]
    }
   ],
   "source": [
    "from collections import deque\n",
    "\n",
    "c = 11\n",
    "b = 2\n",
    "\n",
    "\n",
    "def catch_me(C, B):\n",
    "    time = 0\n",
    "    queue = deque()\n",
    "    queue.append((B, 0)) # 브라운의 초기 위치와 시간\n",
    "\n",
    "    visited = [{} for _ in range(200001)]\n",
    "\n",
    "    while C <= 200000:\n",
    "        C += time \n",
    "        if time in visited[C]:\n",
    "            return time # 코니와 브라운이 만남\n",
    "           \n",
    "        for i in range(0, len(queue)):\n",
    "            current_position, current_time = queue.popleft()\n",
    "            new_time = current_time + 1\n",
    "\n",
    "            new_position = current_position - 1\n",
    "            if 0 <= new_position <= 20000:\n",
    "                visited[new_position][new_time] = True\n",
    "                queue.append((new_position, new_time))\n",
    "\n",
    "            new_position = current_position + 1\n",
    "            if 0 <= new_position <= 20000:\n",
    "                visited[new_position][new_time] = True\n",
    "                queue.append((new_position, new_time))\n",
    "\n",
    "            new_position = current_position * 2\n",
    "            if 0 <= new_position <= 20000:\n",
    "                visited[new_position][new_time] = True\n",
    "                queue.append((new_position, new_time))\n",
    "            # 모든 경우의 수 저장을 위한 각각 격우의 수 저장\n",
    "        time += 1\n",
    "    return -1\n",
    "\n",
    "\n",
    "print(catch_me(c, b))  # 5가 나와야 합니다!"
   ]
  },
  {
   "cell_type": "code",
   "execution_count": 67,
   "metadata": {},
   "outputs": [],
   "source": [
    "c = 11\n",
    "b = 2\n",
    "\n",
    "time = 0\n",
    "queue = deque()\n",
    "queue.append((b, 0)) #브라운의 초기 위치와 시간\n"
   ]
  },
  {
   "cell_type": "code",
   "execution_count": 68,
   "metadata": {},
   "outputs": [
    {
     "data": {
      "text/plain": [
       "deque([(2, 0)])"
      ]
     },
     "execution_count": 68,
     "metadata": {},
     "output_type": "execute_result"
    }
   ],
   "source": [
    "queue"
   ]
  },
  {
   "cell_type": "code",
   "execution_count": 70,
   "metadata": {},
   "outputs": [
    {
     "ename": "NameError",
     "evalue": "name 'C' is not defined",
     "output_type": "error",
     "traceback": [
      "\u001b[0;31m---------------------------------------------------------------------------\u001b[0m",
      "\u001b[0;31mNameError\u001b[0m                                 Traceback (most recent call last)",
      "\u001b[0;32m/var/folders/hr/y8znbyhd4058w4d5l14qqsv80000gn/T/ipykernel_15323/224670245.py\u001b[0m in \u001b[0;36m<module>\u001b[0;34m\u001b[0m\n\u001b[1;32m      3\u001b[0m \u001b[0;32mwhile\u001b[0m \u001b[0mc\u001b[0m \u001b[0;34m<=\u001b[0m \u001b[0;36m200000\u001b[0m\u001b[0;34m:\u001b[0m\u001b[0;34m\u001b[0m\u001b[0;34m\u001b[0m\u001b[0m\n\u001b[1;32m      4\u001b[0m     \u001b[0mc\u001b[0m \u001b[0;34m+=\u001b[0m \u001b[0mtime\u001b[0m\u001b[0;34m\u001b[0m\u001b[0;34m\u001b[0m\u001b[0m\n\u001b[0;32m----> 5\u001b[0;31m     \u001b[0;32mif\u001b[0m \u001b[0mtime\u001b[0m \u001b[0;32min\u001b[0m \u001b[0mvisited\u001b[0m\u001b[0;34m[\u001b[0m\u001b[0mC\u001b[0m\u001b[0;34m]\u001b[0m\u001b[0;34m:\u001b[0m\u001b[0;34m\u001b[0m\u001b[0;34m\u001b[0m\u001b[0m\n\u001b[0m\u001b[1;32m      6\u001b[0m         \u001b[0mprint\u001b[0m\u001b[0;34m(\u001b[0m\u001b[0mtime\u001b[0m\u001b[0;34m)\u001b[0m \u001b[0;31m# 코니와 브라운이 만남\u001b[0m\u001b[0;34m\u001b[0m\u001b[0;34m\u001b[0m\u001b[0m\n\u001b[1;32m      7\u001b[0m \u001b[0;34m\u001b[0m\u001b[0m\n",
      "\u001b[0;31mNameError\u001b[0m: name 'C' is not defined"
     ]
    }
   ],
   "source": [
    "\n",
    "visited = [{} for _ in range(200001)]\n",
    "\n",
    "while c <= 200000:\n",
    "    c += time \n",
    "    if time in visited[C]:\n",
    "        print(time) # 코니와 브라운이 만남\n",
    "        \n",
    "    for i in range(0, len(queue)):\n",
    "        current_position, current_time = queue.popleft()\n",
    "        new_time = current_time + 1\n",
    "\n",
    "        new_position = current_position - 1\n",
    "        if 0 <= new_position <= 20000:\n",
    "            visited[new_position][new_time] = True\n",
    "            queue.append((new_position, new_time))\n",
    "            print(queue)\n",
    "\n",
    "        new_position = current_position + 1\n",
    "        if 0 <= new_position <= 20000:\n",
    "            visited[new_position][new_time] = True\n",
    "            queue.append((new_position, new_time))\n",
    "            print(queue)\n",
    "\n",
    "        new_position = current_position * 2\n",
    "        if 0 <= new_position <= 20000:\n",
    "            visited[new_position][new_time] = True\n",
    "            queue.append((new_position, new_time))\n",
    "            print(queue)\n",
    "        # 모든 경우의 수 저장을 위한 각각 격우의 수 저장\n",
    "    time += 1"
   ]
  },
  {
   "cell_type": "code",
   "execution_count": null,
   "metadata": {},
   "outputs": [],
   "source": []
  }
 ],
 "metadata": {
  "interpreter": {
   "hash": "a16486e2993ff77e6bffe69def0208660310d1acf71787fa0ab560015301b92b"
  },
  "kernelspec": {
   "display_name": "Python 3.8.12 64-bit ('ds_study': conda)",
   "name": "python3"
  },
  "language_info": {
   "codemirror_mode": {
    "name": "ipython",
    "version": 3
   },
   "file_extension": ".py",
   "mimetype": "text/x-python",
   "name": "python",
   "nbconvert_exporter": "python",
   "pygments_lexer": "ipython3",
   "version": "3.8.12"
  },
  "orig_nbformat": 4
 },
 "nbformat": 4,
 "nbformat_minor": 2
}
