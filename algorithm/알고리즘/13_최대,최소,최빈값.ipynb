{
 "cells": [
  {
   "cell_type": "markdown",
   "metadata": {},
   "source": [
    "# 01 최댓값"
   ]
  },
  {
   "cell_type": "code",
   "execution_count": 1,
   "metadata": {},
   "outputs": [
    {
     "name": "stdout",
     "output_type": "stream",
     "text": [
      "20\n"
     ]
    }
   ],
   "source": [
    "nums=[-2, -4, 5, 7, 10, 0, 8, 20, -11]\n",
    "\n",
    "class MaxAlgorithm:\n",
    "\n",
    "    def __init__(self, ns):\n",
    "        self.nums = ns\n",
    "        self.maxNum = 0\n",
    "\n",
    "    def getMaxNum(self):\n",
    "        self.maxNum = self.nums[0]\n",
    "\n",
    "        for n in self.nums:\n",
    "            if self.maxNum<n:\n",
    "                self.maxNum = n\n",
    "\n",
    "        return self.maxNum;\n",
    "\n",
    "ma = MaxAlgorithm(nums)\n",
    "maxNum = ma.getMaxNum()\n",
    "print(maxNum)"
   ]
  },
  {
   "cell_type": "markdown",
   "metadata": {},
   "source": [
    "## 실습"
   ]
  },
  {
   "cell_type": "code",
   "execution_count": 4,
   "metadata": {},
   "outputs": [
    {
     "name": "stdout",
     "output_type": "stream",
     "text": [
      "x\n"
     ]
    }
   ],
   "source": [
    "class MaxAlgorithm:\n",
    "\n",
    "    def __init__(self, cs):\n",
    "        self.chars = cs\n",
    "        self.maxChar = 0\n",
    "\n",
    "    def getMaxChar(self):\n",
    "\n",
    "        self.maxChar = self.chars[0]\n",
    "\n",
    "        for c in self.chars:\n",
    "            if ord(self.maxChar) < ord(c):\n",
    "                self.maxChar = c\n",
    "\n",
    "        return self.maxChar\n",
    "\n",
    "chars = ['c', 'x', 'Q' , 'A', 'e', 'P', 'p']\n",
    "mc = MaxAlgorithm(chars)\n",
    "maxChar = mc.getMaxChar()\n",
    "print(maxChar)"
   ]
  },
  {
   "cell_type": "markdown",
   "metadata": {},
   "source": [
    "---"
   ]
  },
  {
   "cell_type": "markdown",
   "metadata": {},
   "source": [
    "# 02 최솟값"
   ]
  },
  {
   "cell_type": "code",
   "execution_count": 3,
   "metadata": {},
   "outputs": [
    {
     "name": "stdout",
     "output_type": "stream",
     "text": [
      "-11\n"
     ]
    }
   ],
   "source": [
    "nums=[-2, -4, 5, 7, 10, 0, 8, 20, -11]\n",
    "\n",
    "class MinAlgorithm:\n",
    "\n",
    "    def __init__(self, ns):\n",
    "        self.nums = ns\n",
    "        self.minNum = 0\n",
    "\n",
    "    def getMinNum(self):\n",
    "        self.minNum = self.nums[0]\n",
    "\n",
    "        for n in self.nums:\n",
    "            if self.minNum > n:\n",
    "                self.minNum = n\n",
    "\n",
    "        return self.minNum;\n",
    "\n",
    "ma = MinAlgorithm(nums)\n",
    "minNum = ma.getMinNum()\n",
    "print(minNum)"
   ]
  },
  {
   "cell_type": "markdown",
   "metadata": {},
   "source": [
    "## 실습"
   ]
  },
  {
   "cell_type": "code",
   "execution_count": 5,
   "metadata": {},
   "outputs": [
    {
     "name": "stdout",
     "output_type": "stream",
     "text": [
      "A\n"
     ]
    }
   ],
   "source": [
    "class MinAlgorithm:\n",
    "\n",
    "    def __init__(self, cs):\n",
    "        self.chars = cs\n",
    "        self.minChar = 0\n",
    "\n",
    "    def getMinChar(self):\n",
    "\n",
    "        self.minChar = self.chars[0]\n",
    "\n",
    "        for c in self.chars:\n",
    "            if ord(self.minChar) > ord(c):\n",
    "                self.minChar = c\n",
    "\n",
    "        return self.minChar\n",
    "\n",
    "chars = ['c', 'x', 'Q' , 'A', 'e', 'P', 'p']\n",
    "mc = MinAlgorithm(chars)\n",
    "minChar = mc.getMinChar()\n",
    "print(minChar)"
   ]
  },
  {
   "cell_type": "markdown",
   "metadata": {},
   "source": [
    "---\n"
   ]
  },
  {
   "cell_type": "markdown",
   "metadata": {},
   "source": [
    "# 03 최빈값"
   ]
  },
  {
   "cell_type": "code",
   "execution_count": 10,
   "metadata": {},
   "outputs": [],
   "source": [
    "class MaxAlgorithm:\n",
    "\n",
    "    def __init__(self, ns):\n",
    "        self.nums = ns\n",
    "        self.maxNum = 0\n",
    "        self.maxNumIdx = 0\n",
    "\n",
    "    def setMaxIdxAndNum(self):\n",
    "        self.maxNum = self.nums[0]\n",
    "        self.maxNumIdx = 0\n",
    "\n",
    "        for i, n in enumerate(self.nums):\n",
    "            if self.maxNum < n:\n",
    "                self.maxNum = n\n",
    "                self.maxNumIdx = i\n",
    "\n",
    "    def getMaxNum(self):\n",
    "        return self.maxNum\n",
    "\n",
    "    def getMaxNumIdx(self):\n",
    "        return self.maxNumIdx"
   ]
  },
  {
   "cell_type": "code",
   "execution_count": 11,
   "metadata": {},
   "outputs": [
    {
     "name": "stdout",
     "output_type": "stream",
     "text": [
      "17\n"
     ]
    }
   ],
   "source": [
    "nums = [1, 3, 7, 6, 7, 7, 7, 12, 12, 17]\n",
    "maxAlo = MaxAlgorithm(nums)\n",
    "maxAlo.setMaxIdxAndNum()\n",
    "maxNum = maxAlo.getMaxNum()\n",
    "print(maxNum)"
   ]
  },
  {
   "cell_type": "code",
   "execution_count": 12,
   "metadata": {},
   "outputs": [
    {
     "data": {
      "text/plain": [
       "[0, 0, 0, 0, 0, 0, 0, 0, 0, 0, 0, 0, 0, 0, 0, 0, 0, 0]"
      ]
     },
     "execution_count": 12,
     "metadata": {},
     "output_type": "execute_result"
    }
   ],
   "source": [
    "indexes = [0 for i in range(maxNum + 1)]\n",
    "indexes"
   ]
  },
  {
   "cell_type": "code",
   "execution_count": 13,
   "metadata": {},
   "outputs": [
    {
     "name": "stdout",
     "output_type": "stream",
     "text": [
      "[0, 1, 0, 1, 0, 0, 1, 4, 0, 0, 0, 0, 2, 0, 0, 0, 0, 1]\n"
     ]
    }
   ],
   "source": [
    "for n in nums:\n",
    "    indexes[n] = indexes[n]+1\n",
    "print(indexes)"
   ]
  },
  {
   "cell_type": "code",
   "execution_count": 15,
   "metadata": {},
   "outputs": [
    {
     "name": "stdout",
     "output_type": "stream",
     "text": [
      "4 7\n"
     ]
    }
   ],
   "source": [
    "maxAlo = MaxAlgorithm(indexes)\n",
    "maxAlo.setMaxIdxAndNum()\n",
    "maxNum = maxAlo.getMaxNum()\n",
    "maxNumIdx = maxAlo.getMaxNumIdx()\n",
    "print(maxNum,maxNumIdx)"
   ]
  },
  {
   "cell_type": "markdown",
   "metadata": {},
   "source": [
    "## 실습"
   ]
  },
  {
   "cell_type": "code",
   "execution_count": 27,
   "metadata": {},
   "outputs": [
    {
     "name": "stdout",
     "output_type": "stream",
     "text": [
      "[95, 90, 70, 75, 85, 70, 70, 70, 85, 70, 80, 95, 80, 75, 90, 75, 75, 95, 75, 90, 70, 75, 90, 70, 70, 70, 85, 75, 90, 75, 90, 90, 90, 90, 80, 75, 85, 80, 75, 80, 90, 85, 90, 95, 95, 85, 70, 95, 80, 80, 85, 80, 90, 75, 75, 80, 95, 80, 85, 85, 85, 80, 85, 75, 70, 95, 70, 85, 95, 95, 85, 75, 75, 90, 90, 70, 75, 70, 75, 70, 90, 70, 80, 90, 85, 80, 95, 85, 70, 70, 90, 70, 70, 75, 95, 75, 85, 85, 95, 70]\n",
      "100\n"
     ]
    }
   ],
   "source": [
    "import random\n",
    "import maxScore as ms\n",
    "\n",
    "scores = []\n",
    "\n",
    "for i in range(100):\n",
    "    rn = random.randint(71,100)\n",
    "    if rn != 100 : rn -= (rn % 5)\n",
    "    scores.append(rn)\n",
    "\n",
    "print(scores)\n",
    "print(len(scores))"
   ]
  },
  {
   "cell_type": "code",
   "execution_count": 28,
   "metadata": {},
   "outputs": [
    {
     "name": "stdout",
     "output_type": "stream",
     "text": [
      "95\n"
     ]
    }
   ],
   "source": [
    "# 최댓값 알고리즘\n",
    "maxAlo = ms.MaxAlgorithm(scores)\n",
    "maxAlo.setMaxIdxAndNum()\n",
    "maxNum = maxAlo.getMaxNum()\n",
    "\n",
    "print(maxNum)"
   ]
  },
  {
   "cell_type": "code",
   "execution_count": 29,
   "metadata": {},
   "outputs": [
    {
     "name": "stdout",
     "output_type": "stream",
     "text": [
      "[0, 0, 0, 0, 0, 0, 0, 0, 0, 0, 0, 0, 0, 0, 0, 0, 0, 0, 0, 0, 0, 0, 0, 0, 0, 0, 0, 0, 0, 0, 0, 0, 0, 0, 0, 0, 0, 0, 0, 0, 0, 0, 0, 0, 0, 0, 0, 0, 0, 0, 0, 0, 0, 0, 0, 0, 0, 0, 0, 0, 0, 0, 0, 0, 0, 0, 0, 0, 0, 0, 21, 0, 0, 0, 0, 19, 0, 0, 0, 0, 13, 0, 0, 0, 0, 17, 0, 0, 0, 0, 17, 0, 0, 0, 0, 13]\n"
     ]
    }
   ],
   "source": [
    "indexes = [0 for i in range(maxNum + 1)]\n",
    "#indexes\n",
    "\n",
    "for n in scores:\n",
    "    indexes[n] = indexes[n]+1\n",
    "print(indexes)"
   ]
  },
  {
   "cell_type": "code",
   "execution_count": 30,
   "metadata": {},
   "outputs": [
    {
     "name": "stdout",
     "output_type": "stream",
     "text": [
      "1. 70빈도수: 21\t+++++++++++++++++++++\n",
      "2. 75빈도수: 19\t+++++++++++++++++++\n",
      "3. 85빈도수: 17\t+++++++++++++++++\n",
      "4. 90빈도수: 17\t+++++++++++++++++\n",
      "5. 80빈도수: 13\t+++++++++++++\n",
      "6. 95빈도수: 13\t+++++++++++++\n"
     ]
    }
   ],
   "source": [
    "n = 1\n",
    "while True:\n",
    "\n",
    "    maxAlo = ms.MaxAlgorithm(indexes)\n",
    "    maxAlo.setMaxIdxAndNum()\n",
    "    maxNum = maxAlo.getMaxNum()\n",
    "    maxNumIdx = maxAlo.getMaxNumIdx()\n",
    "    #print(maxNumIdx)\n",
    "\n",
    "    if maxNum == 0:\n",
    "        break\n",
    "\n",
    "    print(f\"{n}. {maxNumIdx}빈도수: {maxNum}\\t\", end='')\n",
    "    print('+' * maxNum)\n",
    "\n",
    "    indexes[maxNumIdx] = 0\n",
    "\n",
    "    n += 1"
   ]
  },
  {
   "cell_type": "code",
   "execution_count": null,
   "metadata": {},
   "outputs": [],
   "source": []
  }
 ],
 "metadata": {
  "interpreter": {
   "hash": "a16486e2993ff77e6bffe69def0208660310d1acf71787fa0ab560015301b92b"
  },
  "kernelspec": {
   "display_name": "Python 3.8.12 64-bit ('ds_study': conda)",
   "name": "python3"
  },
  "language_info": {
   "codemirror_mode": {
    "name": "ipython",
    "version": 3
   },
   "file_extension": ".py",
   "mimetype": "text/x-python",
   "name": "python",
   "nbconvert_exporter": "python",
   "pygments_lexer": "ipython3",
   "version": "3.8.12"
  },
  "orig_nbformat": 4
 },
 "nbformat": 4,
 "nbformat_minor": 2
}
