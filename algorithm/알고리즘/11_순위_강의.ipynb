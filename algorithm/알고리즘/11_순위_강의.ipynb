{
 "cells": [
  {
   "cell_type": "code",
   "execution_count": 1,
   "metadata": {},
   "outputs": [
    {
     "name": "stdout",
     "output_type": "stream",
     "text": [
      "[84, 75, 68, 87, 97, 65, 100, 58, 94, 91, 81, 85, 63, 55, 82, 98, 90, 72, 71, 95]\n",
      "[0, 0, 0, 0, 0, 0, 0, 0, 0, 0, 0, 0, 0, 0, 0, 0, 0, 0, 0, 0]\n"
     ]
    }
   ],
   "source": [
    "import random\n",
    "\n",
    "nums=random.sample(range(50,101),20)\n",
    "ranks=[0 for i in range(20)]\n",
    "print(nums)\n",
    "print(ranks)"
   ]
  },
  {
   "cell_type": "code",
   "execution_count": 3,
   "metadata": {},
   "outputs": [
    {
     "name": "stdout",
     "output_type": "stream",
     "text": [
      "[84, 75, 68, 87, 97, 65, 100, 58, 94, 91, 81, 85, 63, 55, 82, 98, 90, 72, 71, 95]\n",
      "[18, 24, 30, 14, 4, 32, 0, 36, 8, 10, 22, 16, 34, 38, 20, 2, 12, 26, 28, 6]\n"
     ]
    }
   ],
   "source": [
    "for idx, num1 in enumerate(nums):\n",
    "    for num2 in nums:\n",
    "        if num1 < num2:\n",
    "            ranks[idx] += 1\n",
    "\n",
    "print(nums)\n",
    "print(ranks)"
   ]
  },
  {
   "cell_type": "code",
   "execution_count": 6,
   "metadata": {},
   "outputs": [
    {
     "name": "stdout",
     "output_type": "stream",
     "text": [
      "num:84  \t rank:19\n",
      "num:75  \t rank:25\n",
      "num:68  \t rank:31\n",
      "num:87  \t rank:15\n",
      "num:97  \t rank:5\n",
      "num:65  \t rank:33\n",
      "num:100  \t rank:1\n",
      "num:58  \t rank:37\n",
      "num:94  \t rank:9\n",
      "num:91  \t rank:11\n",
      "num:81  \t rank:23\n",
      "num:85  \t rank:17\n",
      "num:63  \t rank:35\n",
      "num:55  \t rank:39\n",
      "num:82  \t rank:21\n",
      "num:98  \t rank:3\n",
      "num:90  \t rank:13\n",
      "num:72  \t rank:27\n",
      "num:71  \t rank:29\n",
      "num:95  \t rank:7\n"
     ]
    }
   ],
   "source": [
    "for i, n in enumerate(nums):\n",
    "    print(f\"num:{n}  \\t rank:{ranks[i]+1}\" )"
   ]
  },
  {
   "cell_type": "markdown",
   "metadata": {},
   "source": [
    "---"
   ]
  },
  {
   "cell_type": "code",
   "execution_count": 37,
   "metadata": {},
   "outputs": [],
   "source": [
    "import rankMod as rm\n",
    "\n",
    "midStuScos=random.sample(range(50,101),20)\n",
    "endStuScos=random.sample(range(50,101),20)"
   ]
  },
  {
   "cell_type": "code",
   "execution_count": 40,
   "metadata": {},
   "outputs": [
    {
     "ename": "AttributeError",
     "evalue": "'RankDeviation' object has no attribute 'getMidRank'",
     "output_type": "error",
     "traceback": [
      "\u001b[0;31m---------------------------------------------------------------------------\u001b[0m",
      "\u001b[0;31mAttributeError\u001b[0m                            Traceback (most recent call last)",
      "\u001b[0;32m/var/folders/hr/y8znbyhd4058w4d5l14qqsv80000gn/T/ipykernel_12880/1996145485.py\u001b[0m in \u001b[0;36m<module>\u001b[0;34m\u001b[0m\n\u001b[1;32m      1\u001b[0m \u001b[0mrd\u001b[0m \u001b[0;34m=\u001b[0m \u001b[0mrm\u001b[0m\u001b[0;34m.\u001b[0m\u001b[0mRankDeviation\u001b[0m\u001b[0;34m(\u001b[0m\u001b[0mmidStuScos\u001b[0m\u001b[0;34m,\u001b[0m \u001b[0mendStuScos\u001b[0m\u001b[0;34m)\u001b[0m\u001b[0;34m\u001b[0m\u001b[0;34m\u001b[0m\u001b[0m\n\u001b[1;32m      2\u001b[0m \u001b[0mrd\u001b[0m\u001b[0;34m.\u001b[0m\u001b[0msetMidRank\u001b[0m\u001b[0;34m(\u001b[0m\u001b[0;34m)\u001b[0m\u001b[0;34m\u001b[0m\u001b[0;34m\u001b[0m\u001b[0m\n\u001b[0;32m----> 3\u001b[0;31m \u001b[0mprint\u001b[0m\u001b[0;34m(\u001b[0m\u001b[0;34mf'mid rank: {rd.getMidRank()}'\u001b[0m\u001b[0;34m)\u001b[0m\u001b[0;34m\u001b[0m\u001b[0;34m\u001b[0m\u001b[0m\n\u001b[0m\u001b[1;32m      4\u001b[0m \u001b[0;31m#rd.setEndRank()\u001b[0m\u001b[0;34m\u001b[0m\u001b[0;34m\u001b[0m\u001b[0;34m\u001b[0m\u001b[0m\n",
      "\u001b[0;31mAttributeError\u001b[0m: 'RankDeviation' object has no attribute 'getMidRank'"
     ]
    }
   ],
   "source": [
    "rd = rm.RankDeviation(midStuScos, endStuScos)\n",
    "rd.setMidRank()\n",
    "print(f'mid rank: {rd.getMidRank()}')\n",
    "#rd.setEndRank()"
   ]
  },
  {
   "cell_type": "code",
   "execution_count": 35,
   "metadata": {},
   "outputs": [
    {
     "ename": "AttributeError",
     "evalue": "'RankDeviation' object has no attribute 'getMidRank'",
     "output_type": "error",
     "traceback": [
      "\u001b[0;31m---------------------------------------------------------------------------\u001b[0m",
      "\u001b[0;31mAttributeError\u001b[0m                            Traceback (most recent call last)",
      "\u001b[0;32m/var/folders/hr/y8znbyhd4058w4d5l14qqsv80000gn/T/ipykernel_12880/3706723203.py\u001b[0m in \u001b[0;36m<module>\u001b[0;34m\u001b[0m\n\u001b[0;32m----> 1\u001b[0;31m \u001b[0mrd\u001b[0m\u001b[0;34m.\u001b[0m\u001b[0mgetMidRank\u001b[0m\u001b[0;34m\u001b[0m\u001b[0;34m\u001b[0m\u001b[0m\n\u001b[0m\u001b[1;32m      2\u001b[0m \u001b[0;31m#rd.getEndRank()\u001b[0m\u001b[0;34m\u001b[0m\u001b[0;34m\u001b[0m\u001b[0;34m\u001b[0m\u001b[0m\n",
      "\u001b[0;31mAttributeError\u001b[0m: 'RankDeviation' object has no attribute 'getMidRank'"
     ]
    }
   ],
   "source": [
    "rd.getMidRank\n",
    "#rd.getEndRank()"
   ]
  },
  {
   "cell_type": "code",
   "execution_count": null,
   "metadata": {},
   "outputs": [],
   "source": []
  }
 ],
 "metadata": {
  "interpreter": {
   "hash": "a16486e2993ff77e6bffe69def0208660310d1acf71787fa0ab560015301b92b"
  },
  "kernelspec": {
   "display_name": "Python 3.8.12 64-bit ('ds_study': conda)",
   "name": "python3"
  },
  "language_info": {
   "codemirror_mode": {
    "name": "ipython",
    "version": 3
   },
   "file_extension": ".py",
   "mimetype": "text/x-python",
   "name": "python",
   "nbconvert_exporter": "python",
   "pygments_lexer": "ipython3",
   "version": "3.8.12"
  },
  "orig_nbformat": 4
 },
 "nbformat": 4,
 "nbformat_minor": 2
}
