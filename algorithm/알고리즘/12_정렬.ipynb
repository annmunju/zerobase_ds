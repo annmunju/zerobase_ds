{
 "cells": [
  {
   "cell_type": "markdown",
   "metadata": {},
   "source": [
    "# 01 버블정렬\n",
    "- 처음부터 끝까지 인접하는 인덱스의 값을 비교하면서 큰 수를 가장 끝으로 보내는 정렬"
   ]
  },
  {
   "cell_type": "code",
   "execution_count": 2,
   "metadata": {},
   "outputs": [],
   "source": [
    "## [수업]"
   ]
  },
  {
   "cell_type": "code",
   "execution_count": 14,
   "metadata": {},
   "outputs": [
    {
     "data": {
      "text/plain": [
       "[10, 2, 7, 21, 0]"
      ]
     },
     "execution_count": 14,
     "metadata": {},
     "output_type": "execute_result"
    }
   ],
   "source": [
    "nums = [10, 2, 7, 21, 0]\n",
    "nums"
   ]
  },
  {
   "cell_type": "code",
   "execution_count": 15,
   "metadata": {},
   "outputs": [
    {
     "name": "stdout",
     "output_type": "stream",
     "text": [
      "[2, 7, 10, 0, 21] \n",
      "\n",
      "[2, 7, 0, 10, 21] \n",
      "\n",
      "[2, 0, 7, 10, 21] \n",
      "\n",
      "[0, 2, 7, 10, 21] \n",
      "\n"
     ]
    }
   ],
   "source": [
    "length = len(nums)-1\n",
    "for i in range(length):\n",
    "    for j in range(length-i):\n",
    "        if nums[j] > nums[j+1]:\n",
    "            # temp = nums[j]\n",
    "            # nums[j] = nums[j+1]\n",
    "            # nums[j+1] = temp\n",
    "            nums[j], nums[j+1] = nums[j+1], nums[j]\n",
    "    print(nums, '\\n')\n",
    "\n"
   ]
  },
  {
   "cell_type": "code",
   "execution_count": 16,
   "metadata": {},
   "outputs": [],
   "source": [
    "## [실습]"
   ]
  },
  {
   "cell_type": "code",
   "execution_count": 24,
   "metadata": {},
   "outputs": [],
   "source": [
    "import copy # deepCopy : 원본 데이터 유지하고 복사? False는 원본을 수정\n",
    "\n",
    "def bubbleSort(ns, deepCopy = True):\n",
    "\n",
    "    if deepCopy :\n",
    "        cns = copy.copy(ns)\n",
    "\n",
    "    else:\n",
    "        cns = ns\n",
    "\n",
    "    length = len(cns) - 1\n",
    "    for i in range(length):\n",
    "        for j in range(length-i):\n",
    "            if cns[j] > cns[j+1]:\n",
    "                cns[j], cns[j+1] = cns[j+1], cns[j]\n",
    "\n",
    "    return cns"
   ]
  },
  {
   "cell_type": "code",
   "execution_count": 21,
   "metadata": {},
   "outputs": [],
   "source": [
    "import random\n",
    "stuHeight=[]\n",
    "for i in range(20):\n",
    "    stuHeight.append(random.randint(170,186))\n",
    "\n",
    "stuHeight_sort=bubbleSort(stuHeight)"
   ]
  },
  {
   "cell_type": "code",
   "execution_count": 23,
   "metadata": {},
   "outputs": [
    {
     "name": "stdout",
     "output_type": "stream",
     "text": [
      "[170, 171, 172, 172, 174, 174, 175, 175, 178, 178, 181, 182, 183, 183, 184, 185, 185, 185, 185, 186]\n",
      "[186, 181, 171, 172, 185, 178, 182, 185, 170, 175, 185, 175, 174, 184, 183, 178, 185, 183, 174, 172]\n"
     ]
    }
   ],
   "source": [
    "print(stuHeight_sort)\n",
    "print(stuHeight)"
   ]
  },
  {
   "cell_type": "markdown",
   "metadata": {},
   "source": [
    "---\n",
    "# 02 삽입정렬\n",
    "\n",
    "- 정렬되어 았는 자료 배열과 비교해서 정렬 위치를 찾기"
   ]
  },
  {
   "cell_type": "code",
   "execution_count": 29,
   "metadata": {},
   "outputs": [
    {
     "name": "stdout",
     "output_type": "stream",
     "text": [
      "[5, 10, 2, 1, 0]\n",
      "[2, 5, 10, 1, 0]\n",
      "[1, 2, 5, 10, 0]\n",
      "[0, 1, 2, 5, 10]\n"
     ]
    }
   ],
   "source": [
    "nums = [5, 10, 2, 1, 0]\n",
    "\n",
    "for i1 in range(1, len(nums)):\n",
    "    i2 = i1-1\n",
    "    cNum = nums[i1]\n",
    "\n",
    "    while nums[i2] > cNum and i2 >= 0 :\n",
    "        nums[i2+1] = nums[i2]\n",
    "        i2 -= 1\n",
    "\n",
    "    nums[i2+1] = cNum\n",
    "\n",
    "    print(nums)"
   ]
  },
  {
   "cell_type": "code",
   "execution_count": 38,
   "metadata": {},
   "outputs": [
    {
     "name": "stdout",
     "output_type": "stream",
     "text": [
      "[8, 5, 10, 0, 3]\n",
      "[10, 8, 5, 0, 3]\n",
      "[10, 8, 5, 0, 3]\n",
      "[10, 8, 5, 3, 0]\n"
     ]
    }
   ],
   "source": [
    "#내림차순\n",
    "nums = [5, 8, 10, 0, 3]\n",
    "\n",
    "for i1 in range(1, len(nums)):\n",
    "    i2 = i1-1\n",
    "    cNum = nums[i1]\n",
    "\n",
    "    while nums[i2] < cNum and i2 >= 0 :\n",
    "        nums[i2+1] = nums[i2]\n",
    "        i2 -= 1\n",
    "\n",
    "    nums[i2+1] = cNum\n",
    "\n",
    "    print(nums)"
   ]
  },
  {
   "cell_type": "markdown",
   "metadata": {},
   "source": [
    "## [실습]"
   ]
  },
  {
   "cell_type": "code",
   "execution_count": 7,
   "metadata": {},
   "outputs": [
    {
     "name": "stdout",
     "output_type": "stream",
     "text": [
      "[376, 361, 672, 357, 190, 462, 686, 480, 740, 258, 997, 150, 641, 772, 281, 998, 38, 287, 277, 231, 374, 881, 752, 498, 553, 482, 229, 289, 928, 327, 533, 597, 948, 437, 53, 593, 268, 849, 399, 642, 541, 711, 104, 582, 782, 236, 342, 974, 648, 559, 853, 713, 467, 188, 417, 754, 596, 588, 880, 581, 465, 743, 89, 869, 822, 503, 778, 232, 572, 821, 605, 773, 954, 466, 566, 580, 792, 784, 727, 375, 379, 573, 251, 382, 992, 66, 937, 781, 28, 861, 765, 75, 814, 618, 246, 32, 979, 202, 422, 883]\n"
     ]
    }
   ],
   "source": [
    "import random\n",
    "\n",
    "nums = random.sample(range(1,1000), 100)\n",
    "print(nums)"
   ]
  },
  {
   "cell_type": "code",
   "execution_count": 8,
   "metadata": {},
   "outputs": [],
   "source": [
    "import sortMod as sm"
   ]
  },
  {
   "cell_type": "code",
   "execution_count": 9,
   "metadata": {},
   "outputs": [],
   "source": [
    "sn = sm.SortNumbers(nums)\n"
   ]
  },
  {
   "cell_type": "code",
   "execution_count": 10,
   "metadata": {},
   "outputs": [
    {
     "name": "stdout",
     "output_type": "stream",
     "text": [
      "[28, 32, 38, 53, 66, 75, 89, 104, 150, 188, 190, 202, 229, 231, 232, 236, 246, 251, 258, 268, 277, 281, 287, 289, 327, 342, 357, 361, 374, 375, 376, 379, 382, 399, 417, 422, 437, 462, 465, 466, 467, 480, 482, 498, 503, 533, 541, 553, 559, 566, 572, 573, 580, 581, 582, 588, 593, 596, 597, 605, 618, 641, 642, 648, 672, 686, 711, 713, 727, 740, 743, 752, 754, 765, 772, 773, 778, 781, 782, 784, 792, 814, 821, 822, 849, 853, 861, 869, 880, 881, 883, 928, 937, 948, 954, 974, 979, 992, 997, 998]\n"
     ]
    }
   ],
   "source": [
    "#오름차순\n",
    "sn.setSort()\n",
    "sortedNumbers=sn.getSortedNumbers()\n",
    "print(sortedNumbers)"
   ]
  },
  {
   "cell_type": "code",
   "execution_count": 11,
   "metadata": {},
   "outputs": [
    {
     "name": "stdout",
     "output_type": "stream",
     "text": [
      "[998, 997, 992, 979, 974, 954, 948, 937, 928, 883, 881, 880, 869, 861, 853, 849, 822, 821, 814, 792, 784, 782, 781, 778, 773, 772, 765, 754, 752, 743, 740, 727, 713, 711, 686, 672, 648, 642, 641, 618, 605, 597, 596, 593, 588, 582, 581, 580, 573, 572, 566, 559, 553, 541, 533, 503, 498, 482, 480, 467, 466, 465, 462, 437, 422, 417, 399, 382, 379, 376, 375, 374, 361, 357, 342, 327, 289, 287, 281, 277, 268, 258, 251, 246, 236, 232, 231, 229, 202, 190, 188, 150, 104, 89, 75, 66, 53, 38, 32, 28]\n"
     ]
    }
   ],
   "source": [
    "#내림차순\n",
    "sn.isAscending(False)\n",
    "sn.setSort()\n",
    "sortedNumbers=sn.getSortedNumbers()\n",
    "print(sortedNumbers)"
   ]
  },
  {
   "cell_type": "markdown",
   "metadata": {},
   "source": [
    "---\n",
    "# 03 선택정렬"
   ]
  },
  {
   "cell_type": "code",
   "execution_count": 1,
   "metadata": {},
   "outputs": [
    {
     "data": {
      "text/plain": [
       "[1, 2, 3, 4, 5]"
      ]
     },
     "execution_count": 1,
     "metadata": {},
     "output_type": "execute_result"
    }
   ],
   "source": [
    "nums = [4, 2, 5, 1, 3]\n",
    "\n",
    "for i in range(len(nums)-1):\n",
    "    minIdx = i\n",
    "\n",
    "    for j in range(i+1, len(nums)):\n",
    "        if nums[minIdx] > nums[j]:\n",
    "            minIdx = j\n",
    "\n",
    "    # tempNum =nums[i]\n",
    "    # nums[i] = nums[minIdx]\n",
    "    # nums[minIdx] = tempNum\n",
    "    nums[i], nums[minIdx] = nums[minIdx], nums[i]\n",
    "\n",
    "nums"
   ]
  },
  {
   "cell_type": "code",
   "execution_count": null,
   "metadata": {},
   "outputs": [],
   "source": []
  }
 ],
 "metadata": {
  "interpreter": {
   "hash": "a16486e2993ff77e6bffe69def0208660310d1acf71787fa0ab560015301b92b"
  },
  "kernelspec": {
   "display_name": "Python 3.8.12 64-bit ('ds_study': conda)",
   "name": "python3"
  },
  "language_info": {
   "codemirror_mode": {
    "name": "ipython",
    "version": 3
   },
   "file_extension": ".py",
   "mimetype": "text/x-python",
   "name": "python",
   "nbconvert_exporter": "python",
   "pygments_lexer": "ipython3",
   "version": "3.8.12"
  },
  "orig_nbformat": 4
 },
 "nbformat": 4,
 "nbformat_minor": 2
}
