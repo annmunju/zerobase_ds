{
 "cells": [
  {
   "cell_type": "markdown",
   "id": "44fb6390",
   "metadata": {},
   "source": [
    "# 04. Self Oil Staion Price Analysis\n",
    "\n",
    "## 1. 셀레니움 설치\n",
    "pip install selenium\n",
    "\n",
    "크롬 드라이버 다운로드"
   ]
  },
  {
   "cell_type": "code",
   "execution_count": 1,
   "id": "0d61f9bf",
   "metadata": {},
   "outputs": [
    {
     "name": "stdout",
     "output_type": "stream",
     "text": [
      "Collecting selenium\n",
      "  Downloading selenium-3.141.0-py2.py3-none-any.whl (904 kB)\n",
      "\u001b[K     |████████████████████████████████| 904 kB 3.6 MB/s eta 0:00:01\n",
      "\u001b[?25hRequirement already satisfied: urllib3 in /Users/annmunju/miniforge3/envs/ds_study/lib/python3.8/site-packages (from selenium) (1.26.7)\n",
      "Installing collected packages: selenium\n",
      "Successfully installed selenium-3.141.0\n"
     ]
    }
   ],
   "source": [
    "# !pip install selenium"
   ]
  },
  {
   "cell_type": "code",
   "execution_count": 2,
   "id": "cc35b48d",
   "metadata": {},
   "outputs": [],
   "source": [
    "from selenium import webdriver"
   ]
  },
  {
   "cell_type": "code",
   "execution_count": 10,
   "id": "57b5623b",
   "metadata": {},
   "outputs": [],
   "source": [
    "driver = webdriver.Chrome(\"driver/chromedriver\")\n",
    "driver.get(\"https://mungdo-log.tistory.com/\")"
   ]
  },
  {
   "cell_type": "code",
   "execution_count": 8,
   "id": "a428233d",
   "metadata": {},
   "outputs": [],
   "source": [
    "# driver.quit()"
   ]
  },
  {
   "cell_type": "code",
   "execution_count": 14,
   "id": "984d508e",
   "metadata": {},
   "outputs": [
    {
     "data": {
      "text/plain": [
       "{'width': 1297, 'height': 753}"
      ]
     },
     "execution_count": 14,
     "metadata": {},
     "output_type": "execute_result"
    }
   ],
   "source": [
    "# 현재 브라우저 크기\n",
    "driver.get_window_size()"
   ]
  },
  {
   "cell_type": "code",
   "execution_count": 15,
   "id": "32c98dbc",
   "metadata": {},
   "outputs": [
    {
     "data": {
      "text/plain": [
       "{'x': 22, 'y': 47}"
      ]
     },
     "execution_count": 15,
     "metadata": {},
     "output_type": "execute_result"
    }
   ],
   "source": [
    "driver.get_window_position()"
   ]
  },
  {
   "cell_type": "code",
   "execution_count": 16,
   "id": "a2dc6e46",
   "metadata": {},
   "outputs": [
    {
     "data": {
      "text/plain": [
       "{'height': 753, 'width': 1297, 'x': 22, 'y': 47}"
      ]
     },
     "execution_count": 16,
     "metadata": {},
     "output_type": "execute_result"
    }
   ],
   "source": [
    "driver.get_window_rect()"
   ]
  },
  {
   "cell_type": "code",
   "execution_count": 18,
   "id": "1d516493",
   "metadata": {},
   "outputs": [
    {
     "data": {
      "text/plain": [
       "2174"
      ]
     },
     "execution_count": 18,
     "metadata": {},
     "output_type": "execute_result"
    }
   ],
   "source": [
    "# 스크롤 가능한 높이(길이) \n",
    "## execute_script : 자바스크립트 코드를 실행하는 코드\n",
    "driver.execute_script(\"return document.body.scrollHeight\")"
   ]
  },
  {
   "cell_type": "code",
   "execution_count": 20,
   "id": "c8347e3c",
   "metadata": {},
   "outputs": [],
   "source": [
    "# 화면 스크롤 하단이동\n",
    "driver.execute_script(\"window.scrollTo(0, document.body.scrollHeight);\")"
   ]
  },
  {
   "cell_type": "code",
   "execution_count": 21,
   "id": "4aa4ddfa",
   "metadata": {},
   "outputs": [],
   "source": [
    "# 화면 스크롤 상단이동\n",
    "driver.execute_script(\"window.scrollTo(0, 0);\")"
   ]
  },
  {
   "cell_type": "code",
   "execution_count": 22,
   "id": "020bd391",
   "metadata": {},
   "outputs": [
    {
     "data": {
      "text/plain": [
       "True"
      ]
     },
     "execution_count": 22,
     "metadata": {},
     "output_type": "execute_result"
    }
   ],
   "source": [
    "# 스크린샷\n",
    "driver.save_screenshot(\"./last_height.png\")"
   ]
  },
  {
   "cell_type": "code",
   "execution_count": 29,
   "id": "3785b199",
   "metadata": {},
   "outputs": [],
   "source": [
    "# 특정 태그 지점까지 스크롤 하는 코드\n",
    "from selenium.webdriver import ActionChains\n",
    "\n",
    "some_tag = driver.find_element_by_xpath('//*[@id=\"content\"]/div[3]')\n",
    "action = ActionChains(driver)\n",
    "action.move_to_element(some_tag).perform()"
   ]
  },
  {
   "cell_type": "code",
   "execution_count": 31,
   "id": "915784c4",
   "metadata": {},
   "outputs": [],
   "source": [
    "# 입력창에 글자 넣기\n",
    "## 화면에 보이지 않으면 어떤 액션도 취할 수 없습니다.\n",
    "\n",
    "some_tag = driver.find_element_by_id(\"show_q\")\n",
    "some_tag.send_keys(\"data science\")"
   ]
  },
  {
   "cell_type": "code",
   "execution_count": 33,
   "id": "109d67d9",
   "metadata": {},
   "outputs": [],
   "source": [
    "# 브라우저 창 크기 조정\n",
    "## 현재 보이는 화면 사이즈를 조정해 보이도록 만들고 액션을 취할 수 있습니다.\n",
    "driver.set_window_size(500, 400)\n",
    "\n",
    "driver.maximize_window()\n",
    "# driver.minimize_window()"
   ]
  },
  {
   "cell_type": "code",
   "execution_count": 34,
   "id": "3421253c",
   "metadata": {},
   "outputs": [],
   "source": [
    "# 새로 입력하면 기존 입력한 글자 뒤에 추가로 붙음\n",
    "some_tag.send_keys(\"python\")"
   ]
  },
  {
   "cell_type": "code",
   "execution_count": 35,
   "id": "33e50188",
   "metadata": {},
   "outputs": [],
   "source": [
    "# 초기화 후 검색어 입력\n",
    "some_tag.clear()\n",
    "some_tag.send_keys(\"python\")"
   ]
  },
  {
   "cell_type": "markdown",
   "id": "0481623d",
   "metadata": {},
   "source": [
    "#### 검색 버튼 클릭"
   ]
  },
  {
   "cell_type": "code",
   "execution_count": 37,
   "id": "6c8a9c1a",
   "metadata": {},
   "outputs": [
    {
     "ename": "AttributeError",
     "evalue": "'list' object has no attribute 'click'",
     "output_type": "error",
     "traceback": [
      "\u001b[0;31m---------------------------------------------------------------------------\u001b[0m",
      "\u001b[0;31mAttributeError\u001b[0m                            Traceback (most recent call last)",
      "\u001b[0;32m/var/folders/1w/gwcwvn0s6d1b31t9w4yydlh80000gn/T/ipykernel_3271/32740645.py\u001b[0m in \u001b[0;36m<module>\u001b[0;34m\u001b[0m\n\u001b[1;32m      1\u001b[0m \u001b[0mxpath\u001b[0m\u001b[0;34m=\u001b[0m\u001b[0;34m'/html/body/div[3]/section/div/aside/div[1]/div[1]/form/input[3]'\u001b[0m\u001b[0;34m\u001b[0m\u001b[0;34m\u001b[0m\u001b[0m\n\u001b[1;32m      2\u001b[0m \u001b[0msome_tag\u001b[0m \u001b[0;34m=\u001b[0m \u001b[0mdriver\u001b[0m\u001b[0;34m.\u001b[0m\u001b[0mfind_elements_by_xpath\u001b[0m\u001b[0;34m(\u001b[0m\u001b[0mxpath\u001b[0m\u001b[0;34m)\u001b[0m\u001b[0;34m\u001b[0m\u001b[0;34m\u001b[0m\u001b[0m\n\u001b[0;32m----> 3\u001b[0;31m \u001b[0msome_tag\u001b[0m\u001b[0;34m.\u001b[0m\u001b[0mclick\u001b[0m\u001b[0;34m(\u001b[0m\u001b[0;34m)\u001b[0m\u001b[0;34m\u001b[0m\u001b[0;34m\u001b[0m\u001b[0m\n\u001b[0m",
      "\u001b[0;31mAttributeError\u001b[0m: 'list' object has no attribute 'click'"
     ]
    }
   ],
   "source": [
    "xpath='/html/body/div[3]/section/div/aside/div[1]/div[1]/form/input[3]'\n",
    "some_tag = driver.find_elements_by_xpath(xpath)\n",
    "some_tag.click()"
   ]
  },
  {
   "cell_type": "code",
   "execution_count": null,
   "id": "949c37db",
   "metadata": {},
   "outputs": [],
   "source": []
  }
 ],
 "metadata": {
  "kernelspec": {
   "display_name": "Python 3 (ipykernel)",
   "language": "python",
   "name": "python3"
  },
  "language_info": {
   "codemirror_mode": {
    "name": "ipython",
    "version": 3
   },
   "file_extension": ".py",
   "mimetype": "text/x-python",
   "name": "python",
   "nbconvert_exporter": "python",
   "pygments_lexer": "ipython3",
   "version": "3.8.12"
  }
 },
 "nbformat": 4,
 "nbformat_minor": 5
}
